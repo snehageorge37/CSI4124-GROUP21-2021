{
 "cells": [
  {
   "cell_type": "code",
   "execution_count": null,
   "id": "configured-postage",
   "metadata": {},
   "outputs": [],
   "source": [
    "import numpy as np\n",
    "import pandas as pd\n",
    "import matplotlib.pyplot as plt\n",
    "import psycopg2\n",
    "from sklearn import preprocessing"
   ]
  },
  {
   "cell_type": "code",
   "execution_count": null,
   "id": "breathing-horizon",
   "metadata": {},
   "outputs": [],
   "source": [
    "fact_table_cols = [('Individual_Key', 'Resolved', 'Fatal', 'Special_Measure_Key', 'PHU_Key', 'Weather_Key', 'Onset_Date_Key', 'Reported_Date_Key', 'Test_Date_Key', 'Specimen_Date_Key')]\n",
    "individual_cols = [('surrogate_key', 'individual_id', 'date', 'age_group', 'gender', 'cause_of_infection', 'outbreak_related', 'reporting_phu_city')]\n",
    "fact_table = []\n",
    "individual_table = []\n",
    "\n",
    "def connect():\n",
    "    \"\"\" Connect to the PostgreSQL database server \"\"\"\n",
    "    conn = None\n",
    "    try:\n",
    "        # connect to the PostgreSQL server\n",
    "        print('Connecting to the PostgreSQL database...')\n",
    "        return psycopg2.connect(\n",
    "            host=\"www.eecs.uottawa.ca\",\n",
    "            database=\"group_21\",\n",
    "            user=\"****\",\n",
    "            password=\"****\",\n",
    "            port=\"15432\"\n",
    "        )\n",
    "    except (Exception, psycopg2.DatabaseError) as error:\n",
    "        print(error)\n",
    "\n",
    "\n",
    "connection = connect()\n",
    "print('***Connection established***')\n",
    "\n",
    "cur = connection.cursor()\n",
    "\n",
    "cur.execute('SELECT * FROM individuals')\n",
    "rows = cur.fetchall()\n",
    "individual_table = rows\n",
    "print(individual_table[:10])\n",
    "\n",
    "cur.close()\n",
    "connection.close()\n",
    "print('***Connection terminated***')"
   ]
  },
  {
   "cell_type": "code",
   "execution_count": null,
   "id": "yellow-tradition",
   "metadata": {},
   "outputs": [],
   "source": [
    "result_df = pd.DataFrame(individual_table, columns=['surrogate_key', 'individual_id', 'date', 'age_group', 'gender', 'cause_of_infection', 'outbreak_related', 'reporting_phu_city'])\n",
    "result_df.head()"
   ]
  },
  {
   "cell_type": "code",
   "execution_count": null,
   "id": "split-replication",
   "metadata": {},
   "outputs": [],
   "source": [
    "result_df = result_df.drop(columns =['surrogate_key', 'individual_id'])"
   ]
  },
  {
   "cell_type": "markdown",
   "id": "regular-directive",
   "metadata": {},
   "source": [
    "### Distribution of Cases across Age Groups"
   ]
  },
  {
   "cell_type": "code",
   "execution_count": null,
   "id": "natural-pledge",
   "metadata": {},
   "outputs": [],
   "source": [
    "indexNames = result_df[result_df['age_group'] == 'UNKNOWN'].index\n",
    "result_df.drop(indexNames , inplace=True)"
   ]
  },
  {
   "cell_type": "code",
   "execution_count": null,
   "id": "ambient-graham",
   "metadata": {},
   "outputs": [],
   "source": [
    "bins = np.arange(0, 9, 1)\n",
    "ax = result_df['age_group'].hist(\n",
    "    bins=bins,\n",
    "    grid=True,\n",
    "    figsize=(10, 4),\n",
    "    legend=False,\n",
    "    color='#FFCF56')\n",
    "ax.margins(x=0)"
   ]
  }
 ],
 "metadata": {
  "kernelspec": {
   "display_name": "Python 3",
   "language": "python",
   "name": "python3"
  },
  "language_info": {
   "codemirror_mode": {
    "name": "ipython",
    "version": 3
   },
   "file_extension": ".py",
   "mimetype": "text/x-python",
   "name": "python",
   "nbconvert_exporter": "python",
   "pygments_lexer": "ipython3",
   "version": "3.8.2"
  }
 },
 "nbformat": 4,
 "nbformat_minor": 5
}
