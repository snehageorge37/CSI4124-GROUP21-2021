{
 "cells": [
  {
   "cell_type": "code",
   "execution_count": 1,
   "metadata": {},
   "outputs": [],
   "source": [
    "import pandas as pd\n",
    "# import sklearn\n",
    "import matplotlib.pyplot as plt\n",
    "import psycopg2"
   ]
  },
  {
   "cell_type": "code",
   "execution_count": 2,
   "metadata": {},
   "outputs": [
    {
     "name": "stdout",
     "output_type": "stream",
     "text": [
      "Connecting to the PostgreSQL database...\n",
      "FATAL:  PAM authentication failed for user \"****\"\n",
      "FATAL:  PAM authentication failed for user \"****\"\n",
      "\n",
      "***Connection established***\n"
     ]
    },
    {
     "ename": "AttributeError",
     "evalue": "'NoneType' object has no attribute 'cursor'",
     "output_type": "error",
     "traceback": [
      "\u001b[0;31m---------------------------------------------------------------------------\u001b[0m",
      "\u001b[0;31mAttributeError\u001b[0m                            Traceback (most recent call last)",
      "\u001b[0;32m<ipython-input-2-d7a17a2cd416>\u001b[0m in \u001b[0;36m<module>\u001b[0;34m\u001b[0m\n\u001b[1;32m     24\u001b[0m \u001b[0mprint\u001b[0m\u001b[0;34m(\u001b[0m\u001b[0;34m'***Connection established***'\u001b[0m\u001b[0;34m)\u001b[0m\u001b[0;34m\u001b[0m\u001b[0;34m\u001b[0m\u001b[0m\n\u001b[1;32m     25\u001b[0m \u001b[0;34m\u001b[0m\u001b[0m\n\u001b[0;32m---> 26\u001b[0;31m \u001b[0mcur\u001b[0m \u001b[0;34m=\u001b[0m \u001b[0mconnection\u001b[0m\u001b[0;34m.\u001b[0m\u001b[0mcursor\u001b[0m\u001b[0;34m(\u001b[0m\u001b[0;34m)\u001b[0m\u001b[0;34m\u001b[0m\u001b[0;34m\u001b[0m\u001b[0m\n\u001b[0m\u001b[1;32m     27\u001b[0m \u001b[0;34m\u001b[0m\u001b[0m\n\u001b[1;32m     28\u001b[0m \u001b[0;31m# execute a statement\u001b[0m\u001b[0;34m\u001b[0m\u001b[0;34m\u001b[0m\u001b[0;34m\u001b[0m\u001b[0m\n",
      "\u001b[0;31mAttributeError\u001b[0m: 'NoneType' object has no attribute 'cursor'"
     ]
    }
   ],
   "source": [
    "fact_table_cols = [('Individual_Key', 'Resolved', 'Fatal', 'Special_Measure_Key', 'PHU_Key', 'Weather_Key', 'Onset_Date_Key', 'Reported_Date_Key', 'Test_Date_Key', 'Specimen_Date_Key')]\n",
    "individual_cols = [('surrogate_key', 'individual_id', 'date', 'age_group', 'gender', 'cause_of_infection', 'outbreak_related', 'reporting_phu_city')]\n",
    "fact_table = []\n",
    "individual_table = []\n",
    "\n",
    "def connect():\n",
    "    \"\"\" Connect to the PostgreSQL database server \"\"\"\n",
    "    conn = None\n",
    "    try:\n",
    "        # connect to the PostgreSQL server\n",
    "        print('Connecting to the PostgreSQL database...')\n",
    "        return psycopg2.connect(\n",
    "            host=\"www.eecs.uottawa.ca\",\n",
    "            database=\"group_21\",\n",
    "            user=\"****\",\n",
    "            password=\"****\",\n",
    "            port=\"15432\"\n",
    "        )\n",
    "    except (Exception, psycopg2.DatabaseError) as error:\n",
    "        print(error)\n",
    "\n",
    "\n",
    "connection = connect()\n",
    "print('***Connection established***')\n",
    "\n",
    "cur = connection.cursor()\n",
    "        \n",
    "# execute a statement\n",
    "cur.execute('SELECT * FROM fact_table_v2')\n",
    "rows = cur.fetchall()\n",
    "fact_table = fact_table_cols + rows\n",
    "print(fact_table[:10])\n",
    "\n",
    "\n",
    "print(\"\\n\\n\")\n",
    "\n",
    "\n",
    "cur.execute('SELECT * FROM individuals')\n",
    "rows = cur.fetchall()\n",
    "individual_table = individual_cols + rows\n",
    "print(individual_table[:10])\n",
    "\n",
    "cur.close()\n",
    "connection.close()\n",
    "print('***Connection terminated***')\n"
   ]
  }
 ],
 "metadata": {
  "kernelspec": {
   "display_name": "Python 3",
   "language": "python",
   "name": "python3"
  },
  "language_info": {
   "codemirror_mode": {
    "name": "ipython",
    "version": 3
   },
   "file_extension": ".py",
   "mimetype": "text/x-python",
   "name": "python",
   "nbconvert_exporter": "python",
   "pygments_lexer": "ipython3",
   "version": "3.8.5"
  }
 },
 "nbformat": 4,
 "nbformat_minor": 4
}
