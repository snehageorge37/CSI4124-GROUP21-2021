{
 "cells": [
  {
   "cell_type": "code",
   "execution_count": 1,
   "metadata": {},
   "outputs": [],
   "source": [
    "import pandas as pd\n",
    "# import sklearn\n",
    "import matplotlib.pyplot as plt\n",
    "import psycopg2"
   ]
  },
  {
   "cell_type": "code",
   "execution_count": 2,
   "metadata": {},
   "outputs": [
    {
     "name": "stdout",
     "output_type": "stream",
     "text": [
      "Connecting to the PostgreSQL database...\n",
      "conection established\n",
      "[('Individual_Key', 'Resolved', 'Fatal', 'Special_Measure_Key', 'PHU_Key', 'Weather_Key', 'Onset_Date_Key', 'Reported_Date_Key', 'Test_Date_Key', 'Specimen_Date_Key'), (250, 'yes', 'no', 11, 3895, 123, 27, 32, 32, 29), (322, 'yes', 'no', 11, 3895, 110, 16, 19, 19, 18), (326, 'no', 'yes', 11, 3895, 96, 1, 5, 28, 1), (347, 'yes', 'no', 11, 3895, 107, 9, 16, 10, 9), (692, 'yes', 'no', 11, 3895, 116, 29, 25, 25, 24), (868, 'yes', 'no', 11, 3895, 112, 23, 21, 21, 19), (1347, 'yes', 'no', 11, 3895, 104, 8, 13, 13, 11), (2760, 'yes', 'no', 11, 3895, 129, 23, 38, 38, 35), (3354, 'yes', 'no', 11, 3895, 123, 26, 32, 32, 30)]\n",
      "\n",
      "\n",
      "\n",
      "[('surrogate_key', 'individual_id', 'date', 'age_group', 'gender', 'cause_of_infection', 'outbreak_related', 'reporting_phu_city'), (0, 259, datetime.date(2020, 3, 25), '50s', 'MALE', 'NO KNOWN EPI LINK', 'No', 'Toronto'), (1, 5981, datetime.date(2020, 3, 16), '20s', 'MALE', 'TRAVEL', 'No', 'Toronto'), (2, 7345, datetime.date(2020, 3, 23), '50s', 'MALE', 'OB', 'Yes', 'Toronto'), (3, 7354, datetime.date(2020, 3, 24), '20s', 'FEMALE', 'CC', 'No', 'Toronto'), (4, 8096, datetime.date(2020, 3, 28), '70s', 'FEMALE', 'TRAVEL', 'No', 'Ottawa'), (5, 8319, datetime.date(2020, 3, 29), '30s', 'MALE', 'MISSING INFORMATION', 'No', 'Ottawa'), (6, 8400, datetime.date(2020, 3, 27), '70s', 'MALE', 'TRAVEL', 'No', 'Toronto'), (7, 16616, datetime.date(2020, 8, 18), '20s', 'FEMALE', 'CC', 'No', 'Toronto'), (8, 19973, datetime.date(2020, 3, 29), '70s', 'FEMALE', 'TRAVEL', 'No', 'Ottawa')]\n",
      "connection terminated\n"
     ]
    }
   ],
   "source": [
    "fact_table_cols = [('Individual_Key', 'Resolved', 'Fatal', 'Special_Measure_Key', 'PHU_Key', 'Weather_Key', 'Onset_Date_Key', 'Reported_Date_Key', 'Test_Date_Key', 'Specimen_Date_Key')]\n",
    "individual_cols = [('surrogate_key', 'individual_id', 'date', 'age_group', 'gender', 'cause_of_infection', 'outbreak_related', 'reporting_phu_city')]\n",
    "fact_table = []\n",
    "individual_table = []\n",
    "\n",
    "def connect():\n",
    "    \"\"\" Connect to the PostgreSQL database server \"\"\"\n",
    "    conn = None\n",
    "    try:\n",
    "        # connect to the PostgreSQL server\n",
    "        print('Connecting to the PostgreSQL database...')\n",
    "        return psycopg2.connect(\n",
    "            host=\"www.eecs.uottawa.ca\",\n",
    "            database=\"group_21\",\n",
    "            user=\"****\",\n",
    "            password=\"****\",\n",
    "            port=\"15432\"\n",
    "        )\n",
    "    except (Exception, psycopg2.DatabaseError) as error:\n",
    "        print(error)\n",
    "\n",
    "\n",
    "connection = connect()\n",
    "print('***Connection established***')\n",
    "\n",
    "cur = connection.cursor()\n",
    "        \n",
    "# execute a statement\n",
    "cur.execute('SELECT * FROM fact_table_v2')\n",
    "rows = cur.fetchall()\n",
    "fact_table = fact_table_cols + rows\n",
    "print(fact_table[:10])\n",
    "\n",
    "\n",
    "print(\"\\n\\n\")\n",
    "\n",
    "\n",
    "cur.execute('SELECT * FROM individuals')\n",
    "rows = cur.fetchall()\n",
    "individual_table = individual_cols + rows\n",
    "print(individual_table[:10])\n",
    "\n",
    "cur.close()\n",
    "connection.close()\n",
    "print('***Connection terminated***')\n"
   ]
  }
 ],
 "metadata": {
  "kernelspec": {
   "display_name": "Python 3",
   "language": "python",
   "name": "python3"
  },
  "language_info": {
   "codemirror_mode": {
    "name": "ipython",
    "version": 3
   },
   "file_extension": ".py",
   "mimetype": "text/x-python",
   "name": "python",
   "nbconvert_exporter": "python",
   "pygments_lexer": "ipython3",
   "version": "3.8.5"
  }
 },
 "nbformat": 4,
 "nbformat_minor": 4
}
