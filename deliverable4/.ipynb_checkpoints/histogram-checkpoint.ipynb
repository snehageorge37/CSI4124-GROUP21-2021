{
 "cells": [
  {
   "cell_type": "code",
   "execution_count": 1,
   "metadata": {},
   "outputs": [],
   "source": [
    "import numpy as np\n",
    "import pandas as pd\n",
    "import matplotlib.pyplot as plt\n",
    "import psycopg2\n",
    "from sklearn import preprocessing"
   ]
  },
  {
   "cell_type": "code",
   "execution_count": 2,
   "metadata": {},
   "outputs": [
    {
     "name": "stdout",
     "output_type": "stream",
     "text": [
      "Connecting to the PostgreSQL database...\n",
      "***Connection established***\n",
      "[(0, 259, datetime.date(2020, 3, 25), '50s', 'MALE', 'NO KNOWN EPI LINK', 'No', 'Toronto'), (1, 5981, datetime.date(2020, 3, 16), '20s', 'MALE', 'TRAVEL', 'No', 'Toronto'), (2, 7345, datetime.date(2020, 3, 23), '50s', 'MALE', 'OB', 'Yes', 'Toronto'), (3, 7354, datetime.date(2020, 3, 24), '20s', 'FEMALE', 'CC', 'No', 'Toronto'), (4, 8096, datetime.date(2020, 3, 28), '70s', 'FEMALE', 'TRAVEL', 'No', 'Ottawa'), (5, 8319, datetime.date(2020, 3, 29), '30s', 'MALE', 'MISSING INFORMATION', 'No', 'Ottawa'), (6, 8400, datetime.date(2020, 3, 27), '70s', 'MALE', 'TRAVEL', 'No', 'Toronto'), (7, 16616, datetime.date(2020, 8, 18), '20s', 'FEMALE', 'CC', 'No', 'Toronto'), (8, 19973, datetime.date(2020, 3, 29), '70s', 'FEMALE', 'TRAVEL', 'No', 'Ottawa'), (9, 21604, datetime.date(2020, 3, 30), '20s', 'FEMALE', 'CC', 'No', 'Toronto')]\n",
      "***Connection terminated***\n"
     ]
    }
   ],
   "source": [
    "fact_table_cols = [('Individual_Key', 'Resolved', 'Fatal', 'Special_Measure_Key', 'PHU_Key', 'Weather_Key', 'Onset_Date_Key', 'Reported_Date_Key', 'Test_Date_Key', 'Specimen_Date_Key')]\n",
    "individual_cols = [('surrogate_key', 'individual_id', 'date', 'age_group', 'gender', 'cause_of_infection', 'outbreak_related', 'reporting_phu_city')]\n",
    "fact_table = []\n",
    "individual_table = []\n",
    "\n",
    "def connect():\n",
    "    \"\"\" Connect to the PostgreSQL database server \"\"\"\n",
    "    conn = None\n",
    "    try:\n",
    "        # connect to the PostgreSQL server\n",
    "        print('Connecting to the PostgreSQL database...')\n",
    "        return psycopg2.connect(\n",
    "            host=\"www.eecs.uottawa.ca\",\n",
    "            database=\"group_21\",\n",
    "            user=\"****\",\n",
    "            password=\"****\",\n",
    "            port=\"15432\"\n",
    "        )\n",
    "    except (Exception, psycopg2.DatabaseError) as error:\n",
    "        print(error)\n",
    "\n",
    "\n",
    "connection = connect()\n",
    "print('***Connection established***')\n",
    "\n",
    "cur = connection.cursor()\n",
    "\n",
    "cur.execute('SELECT * FROM individuals')\n",
    "rows = cur.fetchall()\n",
    "individual_table = rows\n",
    "print(individual_table[:10])\n",
    "\n",
    "cur.close()\n",
    "connection.close()\n",
    "print('***Connection terminated***')"
   ]
  },
  {
   "cell_type": "code",
   "execution_count": 3,
   "metadata": {},
   "outputs": [
    {
     "data": {
      "text/html": [
       "<div>\n",
       "<style scoped>\n",
       "    .dataframe tbody tr th:only-of-type {\n",
       "        vertical-align: middle;\n",
       "    }\n",
       "\n",
       "    .dataframe tbody tr th {\n",
       "        vertical-align: top;\n",
       "    }\n",
       "\n",
       "    .dataframe thead th {\n",
       "        text-align: right;\n",
       "    }\n",
       "</style>\n",
       "<table border=\"1\" class=\"dataframe\">\n",
       "  <thead>\n",
       "    <tr style=\"text-align: right;\">\n",
       "      <th></th>\n",
       "      <th>surrogate_key</th>\n",
       "      <th>individual_id</th>\n",
       "      <th>date</th>\n",
       "      <th>age_group</th>\n",
       "      <th>gender</th>\n",
       "      <th>cause_of_infection</th>\n",
       "      <th>outbreak_related</th>\n",
       "      <th>reporting_phu_city</th>\n",
       "    </tr>\n",
       "  </thead>\n",
       "  <tbody>\n",
       "    <tr>\n",
       "      <th>0</th>\n",
       "      <td>0</td>\n",
       "      <td>259</td>\n",
       "      <td>2020-03-25</td>\n",
       "      <td>50s</td>\n",
       "      <td>MALE</td>\n",
       "      <td>NO KNOWN EPI LINK</td>\n",
       "      <td>No</td>\n",
       "      <td>Toronto</td>\n",
       "    </tr>\n",
       "    <tr>\n",
       "      <th>1</th>\n",
       "      <td>1</td>\n",
       "      <td>5981</td>\n",
       "      <td>2020-03-16</td>\n",
       "      <td>20s</td>\n",
       "      <td>MALE</td>\n",
       "      <td>TRAVEL</td>\n",
       "      <td>No</td>\n",
       "      <td>Toronto</td>\n",
       "    </tr>\n",
       "    <tr>\n",
       "      <th>2</th>\n",
       "      <td>2</td>\n",
       "      <td>7345</td>\n",
       "      <td>2020-03-23</td>\n",
       "      <td>50s</td>\n",
       "      <td>MALE</td>\n",
       "      <td>OB</td>\n",
       "      <td>Yes</td>\n",
       "      <td>Toronto</td>\n",
       "    </tr>\n",
       "    <tr>\n",
       "      <th>3</th>\n",
       "      <td>3</td>\n",
       "      <td>7354</td>\n",
       "      <td>2020-03-24</td>\n",
       "      <td>20s</td>\n",
       "      <td>FEMALE</td>\n",
       "      <td>CC</td>\n",
       "      <td>No</td>\n",
       "      <td>Toronto</td>\n",
       "    </tr>\n",
       "    <tr>\n",
       "      <th>4</th>\n",
       "      <td>4</td>\n",
       "      <td>8096</td>\n",
       "      <td>2020-03-28</td>\n",
       "      <td>70s</td>\n",
       "      <td>FEMALE</td>\n",
       "      <td>TRAVEL</td>\n",
       "      <td>No</td>\n",
       "      <td>Ottawa</td>\n",
       "    </tr>\n",
       "  </tbody>\n",
       "</table>\n",
       "</div>"
      ],
      "text/plain": [
       "   surrogate_key  individual_id        date age_group  gender  \\\n",
       "0              0            259  2020-03-25       50s    MALE   \n",
       "1              1           5981  2020-03-16       20s    MALE   \n",
       "2              2           7345  2020-03-23       50s    MALE   \n",
       "3              3           7354  2020-03-24       20s  FEMALE   \n",
       "4              4           8096  2020-03-28       70s  FEMALE   \n",
       "\n",
       "  cause_of_infection outbreak_related reporting_phu_city  \n",
       "0  NO KNOWN EPI LINK               No            Toronto  \n",
       "1             TRAVEL               No            Toronto  \n",
       "2                 OB              Yes            Toronto  \n",
       "3                 CC               No            Toronto  \n",
       "4             TRAVEL               No             Ottawa  "
      ]
     },
     "execution_count": 3,
     "metadata": {},
     "output_type": "execute_result"
    }
   ],
   "source": [
    "result_df = pd.DataFrame(individual_table, columns=['surrogate_key', 'individual_id', 'date', 'age_group', 'gender', 'cause_of_infection', 'outbreak_related', 'reporting_phu_city'])\n",
    "result_df.head()"
   ]
  },
  {
   "cell_type": "code",
   "execution_count": 4,
   "metadata": {},
   "outputs": [],
   "source": [
    "result_df = result_df.drop(columns =['surrogate_key', 'individual_id'])"
   ]
  },
  {
   "cell_type": "markdown",
   "metadata": {},
   "source": [
    "### Distribution of Cases across Age Groups"
   ]
  },
  {
   "cell_type": "code",
   "execution_count": 5,
   "metadata": {},
   "outputs": [],
   "source": [
    "indexNames = result_df[result_df['age_group'] == 'UNKNOWN'].index\n",
    "result_df.drop(indexNames , inplace=True)"
   ]
  },
  {
   "cell_type": "code",
   "execution_count": 6,
   "metadata": {},
   "outputs": [
    {
     "data": {
      "image/png": "[encoded data removed]",
      "text/plain": [
       "<Figure size 720x288 with 1 Axes>"
      ]
     },
     "metadata": {
      "needs_background": "light"
     },
     "output_type": "display_data"
    }
   ],
   "source": [
    "bins = np.arange(0, 9, 1)\n",
    "ax = result_df['age_group'].hist(\n",
    "    bins=bins,\n",
    "    grid=True,\n",
    "    figsize=(10, 4),\n",
    "    legend=False,\n",
    "    color='#FFCF56')\n",
    "ax.margins(x=0)"
   ]
  }
 ],
 "metadata": {
  "kernelspec": {
   "display_name": "Python 3",
   "language": "python",
   "name": "python3"
  },
  "language_info": {
   "codemirror_mode": {
    "name": "ipython",
    "version": 3
   },
   "file_extension": ".py",
   "mimetype": "text/x-python",
   "name": "python",
   "nbconvert_exporter": "python",
   "pygments_lexer": "ipython3",
   "version": "3.8.5"
  }
 },
 "nbformat": 4,
 "nbformat_minor": 5
}
