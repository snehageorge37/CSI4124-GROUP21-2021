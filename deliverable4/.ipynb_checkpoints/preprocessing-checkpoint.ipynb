{
 "cells": [
  {
   "cell_type": "code",
   "execution_count": 3,
   "metadata": {
    "id": "IHjRPuDG2dBy"
   },
   "outputs": [],
   "source": [
    "import pandas as pd\n",
    "import numpy as np\n",
    "from sklearn.preprocessing import LabelEncoder\n",
    "from sklearn.preprocessing import OneHotEncoder\n",
    "import psycopg2"
   ]
  },
  {
   "cell_type": "code",
   "execution_count": 4,
   "metadata": {
    "colab": {
     "base_uri": "https://localhost:8080/"
    },
    "id": "kO-T_RDyEHgl",
    "outputId": "d969d891-3c6e-4682-8399-689e6a0001bf"
   },
   "outputs": [
    {
     "name": "stdout",
     "output_type": "stream",
     "text": [
      "Connecting to the PostgreSQL database...\n",
      "***Connection established***\n",
      "[('40s', 'Toronto', 'OB', 'FEMALE', 'yes', 'no', 11), ('30s', 'Toronto', 'OB', 'FEMALE', 'yes', 'no', 11), ('90+', 'Toronto', 'OB', 'FEMALE', 'no', 'yes', 11), ('80s', 'Toronto', 'OB', 'FEMALE', 'yes', 'no', 11), ('50s', 'Toronto', 'OB', 'FEMALE', 'yes', 'no', 11), ('30s', 'Toronto', 'OB', 'FEMALE', 'yes', 'no', 11), ('50s', 'Toronto', 'OB', 'FEMALE', 'yes', 'no', 11), ('50s', 'Toronto', 'OB', 'MALE', 'yes', 'no', 11), ('20s', 'Toronto', 'OB', 'FEMALE', 'yes', 'no', 11), ('80s', 'Toronto', 'NO KNOWN EPI LINK', 'FEMALE', 'yes', 'no', 2)]\n",
      "***Connection terminated***\n"
     ]
    }
   ],
   "source": [
    "table_cols = [('age_group', 'reporting_phu_city', 'cause_of_infection', 'gender', 'Resolved', 'Fatal', 'Special_Measure_Key')]\n",
    "fact_table = []\n",
    "\n",
    "def connect():\n",
    "    \"\"\" Connect to the PostgreSQL database server \"\"\"\n",
    "    conn = None\n",
    "    try:\n",
    "        # connect to the PostgreSQL server\n",
    "        print('Connecting to the PostgreSQL database...')\n",
    "        return psycopg2.connect(\n",
    "            host=\"www.eecs.uottawa.ca\",\n",
    "            database=\"group_21\",\n",
    "            user=\"****\",\n",
    "            password=\"****\",\n",
    "            port=\"15432\"\n",
    "        )\n",
    "    except (Exception, psycopg2.DatabaseError) as error:\n",
    "        print(error)\n",
    "\n",
    "\n",
    "connection = connect()\n",
    "print('***Connection established***')\n",
    "\n",
    "cur = connection.cursor()\n",
    "        \n",
    "cur.execute('SELECT I.age_group, I.reporting_phu_city,\\\n",
    "            I.cause_of_infection, I.gender, F.\"Resolved\",\\\n",
    "            F.\"Fatal\", F.\"Special_Measure_Key\" FROM fact_table_v2 as F\\\n",
    "            INNER JOIN individuals as I on I.individual_id = F.\"Individual_Key\"')\n",
    "rows = cur.fetchall()\n",
    "fact_table = rows\n",
    "print(fact_table[:10])\n",
    "\n",
    "cur.close()\n",
    "connection.close()\n",
    "print('***Connection terminated***')"
   ]
  },
  {
   "cell_type": "code",
   "execution_count": 5,
   "metadata": {
    "colab": {
     "base_uri": "https://localhost:8080/",
     "height": 204
    },
    "id": "CrTjp4XFLHOU",
    "outputId": "8ce856c9-92c0-4b62-9e06-4f2d9d1a1500"
   },
   "outputs": [
    {
     "data": {
      "text/html": [
       "<div>\n",
       "<style scoped>\n",
       "    .dataframe tbody tr th:only-of-type {\n",
       "        vertical-align: middle;\n",
       "    }\n",
       "\n",
       "    .dataframe tbody tr th {\n",
       "        vertical-align: top;\n",
       "    }\n",
       "\n",
       "    .dataframe thead th {\n",
       "        text-align: right;\n",
       "    }\n",
       "</style>\n",
       "<table border=\"1\" class=\"dataframe\">\n",
       "  <thead>\n",
       "    <tr style=\"text-align: right;\">\n",
       "      <th></th>\n",
       "      <th>age_group</th>\n",
       "      <th>reporting_phu_city</th>\n",
       "      <th>cause_of_infection</th>\n",
       "      <th>gender</th>\n",
       "      <th>Resolved</th>\n",
       "      <th>Fatal</th>\n",
       "      <th>Special_Measure_Key</th>\n",
       "    </tr>\n",
       "  </thead>\n",
       "  <tbody>\n",
       "    <tr>\n",
       "      <th>0</th>\n",
       "      <td>40s</td>\n",
       "      <td>Toronto</td>\n",
       "      <td>OB</td>\n",
       "      <td>FEMALE</td>\n",
       "      <td>yes</td>\n",
       "      <td>no</td>\n",
       "      <td>11</td>\n",
       "    </tr>\n",
       "    <tr>\n",
       "      <th>1</th>\n",
       "      <td>30s</td>\n",
       "      <td>Toronto</td>\n",
       "      <td>OB</td>\n",
       "      <td>FEMALE</td>\n",
       "      <td>yes</td>\n",
       "      <td>no</td>\n",
       "      <td>11</td>\n",
       "    </tr>\n",
       "    <tr>\n",
       "      <th>2</th>\n",
       "      <td>90+</td>\n",
       "      <td>Toronto</td>\n",
       "      <td>OB</td>\n",
       "      <td>FEMALE</td>\n",
       "      <td>no</td>\n",
       "      <td>yes</td>\n",
       "      <td>11</td>\n",
       "    </tr>\n",
       "    <tr>\n",
       "      <th>3</th>\n",
       "      <td>80s</td>\n",
       "      <td>Toronto</td>\n",
       "      <td>OB</td>\n",
       "      <td>FEMALE</td>\n",
       "      <td>yes</td>\n",
       "      <td>no</td>\n",
       "      <td>11</td>\n",
       "    </tr>\n",
       "    <tr>\n",
       "      <th>4</th>\n",
       "      <td>50s</td>\n",
       "      <td>Toronto</td>\n",
       "      <td>OB</td>\n",
       "      <td>FEMALE</td>\n",
       "      <td>yes</td>\n",
       "      <td>no</td>\n",
       "      <td>11</td>\n",
       "    </tr>\n",
       "  </tbody>\n",
       "</table>\n",
       "</div>"
      ],
      "text/plain": [
       "  age_group reporting_phu_city  ... Fatal Special_Measure_Key\n",
       "0       40s            Toronto  ...    no                  11\n",
       "1       30s            Toronto  ...    no                  11\n",
       "2       90+            Toronto  ...   yes                  11\n",
       "3       80s            Toronto  ...    no                  11\n",
       "4       50s            Toronto  ...    no                  11\n",
       "\n",
       "[5 rows x 7 columns]"
      ]
     },
     "execution_count": 5,
     "metadata": {
      "tags": []
     },
     "output_type": "execute_result"
    }
   ],
   "source": [
    "result_df = pd.DataFrame(fact_table, columns=[\"age_group\", \"reporting_phu_city\", \"cause_of_infection\", \n",
    "                                               \"gender\", \"Resolved\",\"Fatal\",\"Special_Measure_Key\"])\n",
    "result_df.head()"
   ]
  },
  {
   "cell_type": "markdown",
   "metadata": {
    "id": "tJ2wGEWrNSSg"
   },
   "source": [
    "### One Hot Encoding\n",
    "##### Class = Age Group\n",
    "- create 9 columns with boolean values and check for imbalance\n",
    "- one hot encoding to turn into 0s and 1s and then more preprocessing to convert those to boolean values\n",
    "\n",
    "##### Features\n",
    "- City, Cause of Infection, Gender, Resolved, Fatal, Special Measures"
   ]
  },
  {
   "cell_type": "code",
   "execution_count": 6,
   "metadata": {
    "colab": {
     "base_uri": "https://localhost:8080/",
     "height": 241
    },
    "id": "4sHUFtOkPRia",
    "outputId": "57af86a5-39b4-4e94-a285-1e64e2439dab"
   },
   "outputs": [
    {
     "data": {
      "text/html": [
       "<div>\n",
       "<style scoped>\n",
       "    .dataframe tbody tr th:only-of-type {\n",
       "        vertical-align: middle;\n",
       "    }\n",
       "\n",
       "    .dataframe tbody tr th {\n",
       "        vertical-align: top;\n",
       "    }\n",
       "\n",
       "    .dataframe thead th {\n",
       "        text-align: right;\n",
       "    }\n",
       "</style>\n",
       "<table border=\"1\" class=\"dataframe\">\n",
       "  <thead>\n",
       "    <tr style=\"text-align: right;\">\n",
       "      <th></th>\n",
       "      <th>Special_Measure_Key</th>\n",
       "      <th>age_group_20s</th>\n",
       "      <th>age_group_30s</th>\n",
       "      <th>age_group_40s</th>\n",
       "      <th>age_group_50s</th>\n",
       "      <th>age_group_60s</th>\n",
       "      <th>age_group_70s</th>\n",
       "      <th>age_group_80s</th>\n",
       "      <th>age_group_90+</th>\n",
       "      <th>age_group_&lt;20</th>\n",
       "      <th>age_group_UNKNOWN</th>\n",
       "      <th>reporting_phu_city_Ottawa</th>\n",
       "      <th>reporting_phu_city_Toronto</th>\n",
       "      <th>cause_of_infection_CC</th>\n",
       "      <th>cause_of_infection_MISSING INFORMATION</th>\n",
       "      <th>cause_of_infection_NO KNOWN EPI LINK</th>\n",
       "      <th>cause_of_infection_OB</th>\n",
       "      <th>cause_of_infection_TRAVEL</th>\n",
       "      <th>gender_FEMALE</th>\n",
       "      <th>gender_GENDER DIVERSE</th>\n",
       "      <th>gender_MALE</th>\n",
       "      <th>gender_UNSPECIFIED</th>\n",
       "      <th>Resolved_no</th>\n",
       "      <th>Resolved_yes</th>\n",
       "      <th>Fatal_no</th>\n",
       "      <th>Fatal_yes</th>\n",
       "    </tr>\n",
       "  </thead>\n",
       "  <tbody>\n",
       "    <tr>\n",
       "      <th>0</th>\n",
       "      <td>11</td>\n",
       "      <td>0</td>\n",
       "      <td>0</td>\n",
       "      <td>1</td>\n",
       "      <td>0</td>\n",
       "      <td>0</td>\n",
       "      <td>0</td>\n",
       "      <td>0</td>\n",
       "      <td>0</td>\n",
       "      <td>0</td>\n",
       "      <td>0</td>\n",
       "      <td>0</td>\n",
       "      <td>1</td>\n",
       "      <td>0</td>\n",
       "      <td>0</td>\n",
       "      <td>0</td>\n",
       "      <td>1</td>\n",
       "      <td>0</td>\n",
       "      <td>1</td>\n",
       "      <td>0</td>\n",
       "      <td>0</td>\n",
       "      <td>0</td>\n",
       "      <td>0</td>\n",
       "      <td>1</td>\n",
       "      <td>1</td>\n",
       "      <td>0</td>\n",
       "    </tr>\n",
       "    <tr>\n",
       "      <th>1</th>\n",
       "      <td>11</td>\n",
       "      <td>0</td>\n",
       "      <td>1</td>\n",
       "      <td>0</td>\n",
       "      <td>0</td>\n",
       "      <td>0</td>\n",
       "      <td>0</td>\n",
       "      <td>0</td>\n",
       "      <td>0</td>\n",
       "      <td>0</td>\n",
       "      <td>0</td>\n",
       "      <td>0</td>\n",
       "      <td>1</td>\n",
       "      <td>0</td>\n",
       "      <td>0</td>\n",
       "      <td>0</td>\n",
       "      <td>1</td>\n",
       "      <td>0</td>\n",
       "      <td>1</td>\n",
       "      <td>0</td>\n",
       "      <td>0</td>\n",
       "      <td>0</td>\n",
       "      <td>0</td>\n",
       "      <td>1</td>\n",
       "      <td>1</td>\n",
       "      <td>0</td>\n",
       "    </tr>\n",
       "    <tr>\n",
       "      <th>2</th>\n",
       "      <td>11</td>\n",
       "      <td>0</td>\n",
       "      <td>0</td>\n",
       "      <td>0</td>\n",
       "      <td>0</td>\n",
       "      <td>0</td>\n",
       "      <td>0</td>\n",
       "      <td>0</td>\n",
       "      <td>1</td>\n",
       "      <td>0</td>\n",
       "      <td>0</td>\n",
       "      <td>0</td>\n",
       "      <td>1</td>\n",
       "      <td>0</td>\n",
       "      <td>0</td>\n",
       "      <td>0</td>\n",
       "      <td>1</td>\n",
       "      <td>0</td>\n",
       "      <td>1</td>\n",
       "      <td>0</td>\n",
       "      <td>0</td>\n",
       "      <td>0</td>\n",
       "      <td>1</td>\n",
       "      <td>0</td>\n",
       "      <td>0</td>\n",
       "      <td>1</td>\n",
       "    </tr>\n",
       "    <tr>\n",
       "      <th>3</th>\n",
       "      <td>11</td>\n",
       "      <td>0</td>\n",
       "      <td>0</td>\n",
       "      <td>0</td>\n",
       "      <td>0</td>\n",
       "      <td>0</td>\n",
       "      <td>0</td>\n",
       "      <td>1</td>\n",
       "      <td>0</td>\n",
       "      <td>0</td>\n",
       "      <td>0</td>\n",
       "      <td>0</td>\n",
       "      <td>1</td>\n",
       "      <td>0</td>\n",
       "      <td>0</td>\n",
       "      <td>0</td>\n",
       "      <td>1</td>\n",
       "      <td>0</td>\n",
       "      <td>1</td>\n",
       "      <td>0</td>\n",
       "      <td>0</td>\n",
       "      <td>0</td>\n",
       "      <td>0</td>\n",
       "      <td>1</td>\n",
       "      <td>1</td>\n",
       "      <td>0</td>\n",
       "    </tr>\n",
       "    <tr>\n",
       "      <th>4</th>\n",
       "      <td>11</td>\n",
       "      <td>0</td>\n",
       "      <td>0</td>\n",
       "      <td>0</td>\n",
       "      <td>1</td>\n",
       "      <td>0</td>\n",
       "      <td>0</td>\n",
       "      <td>0</td>\n",
       "      <td>0</td>\n",
       "      <td>0</td>\n",
       "      <td>0</td>\n",
       "      <td>0</td>\n",
       "      <td>1</td>\n",
       "      <td>0</td>\n",
       "      <td>0</td>\n",
       "      <td>0</td>\n",
       "      <td>1</td>\n",
       "      <td>0</td>\n",
       "      <td>1</td>\n",
       "      <td>0</td>\n",
       "      <td>0</td>\n",
       "      <td>0</td>\n",
       "      <td>0</td>\n",
       "      <td>1</td>\n",
       "      <td>1</td>\n",
       "      <td>0</td>\n",
       "    </tr>\n",
       "  </tbody>\n",
       "</table>\n",
       "</div>"
      ],
      "text/plain": [
       "   Special_Measure_Key  age_group_20s  ...  Fatal_no  Fatal_yes\n",
       "0                   11              0  ...         1          0\n",
       "1                   11              0  ...         1          0\n",
       "2                   11              0  ...         0          1\n",
       "3                   11              0  ...         1          0\n",
       "4                   11              0  ...         1          0\n",
       "\n",
       "[5 rows x 26 columns]"
      ]
     },
     "execution_count": 6,
     "metadata": {
      "tags": []
     },
     "output_type": "execute_result"
    }
   ],
   "source": [
    "new_result_df = pd.get_dummies(result_df, prefix=[\"age_group\", \"reporting_phu_city\", \"cause_of_infection\", \"gender\", \"Resolved\", \"Fatal\"])\n",
    "X = new_result_df.values\n",
    "new_result_df.head()"
   ]
  },
  {
   "cell_type": "markdown",
   "metadata": {
    "id": "r6pxovjVQFpJ"
   },
   "source": [
    "Special Measures is a bit more complicated so need to do some more processing. Using the sklearn library to handle the complications."
   ]
  },
  {
   "cell_type": "code",
   "execution_count": 7,
   "metadata": {
    "id": "6INvqcNdQKVD"
   },
   "outputs": [],
   "source": [
    "# Create Labeler and Encoder\n",
    "labelencoder = LabelEncoder()\n",
    "encoder = OneHotEncoder(dtype=int, handle_unknown='ignore')"
   ]
  },
  {
   "cell_type": "code",
   "execution_count": 8,
   "metadata": {
    "colab": {
     "base_uri": "https://localhost:8080/",
     "height": 241
    },
    "id": "kys88FsBQ6G9",
    "outputId": "e85925b1-8379-45d8-c30b-f069f4dada18"
   },
   "outputs": [
    {
     "data": {
      "text/html": [
       "<div>\n",
       "<style scoped>\n",
       "    .dataframe tbody tr th:only-of-type {\n",
       "        vertical-align: middle;\n",
       "    }\n",
       "\n",
       "    .dataframe tbody tr th {\n",
       "        vertical-align: top;\n",
       "    }\n",
       "\n",
       "    .dataframe thead th {\n",
       "        text-align: right;\n",
       "    }\n",
       "</style>\n",
       "<table border=\"1\" class=\"dataframe\">\n",
       "  <thead>\n",
       "    <tr style=\"text-align: right;\">\n",
       "      <th></th>\n",
       "      <th>Special_Measure_Key</th>\n",
       "      <th>age_group_20s</th>\n",
       "      <th>age_group_30s</th>\n",
       "      <th>age_group_40s</th>\n",
       "      <th>age_group_50s</th>\n",
       "      <th>age_group_60s</th>\n",
       "      <th>age_group_70s</th>\n",
       "      <th>age_group_80s</th>\n",
       "      <th>age_group_90+</th>\n",
       "      <th>age_group_&lt;20</th>\n",
       "      <th>age_group_UNKNOWN</th>\n",
       "      <th>reporting_phu_city_Ottawa</th>\n",
       "      <th>reporting_phu_city_Toronto</th>\n",
       "      <th>cause_of_infection_CC</th>\n",
       "      <th>cause_of_infection_MISSING INFORMATION</th>\n",
       "      <th>cause_of_infection_NO KNOWN EPI LINK</th>\n",
       "      <th>cause_of_infection_OB</th>\n",
       "      <th>cause_of_infection_TRAVEL</th>\n",
       "      <th>gender_FEMALE</th>\n",
       "      <th>gender_GENDER DIVERSE</th>\n",
       "      <th>gender_MALE</th>\n",
       "      <th>gender_UNSPECIFIED</th>\n",
       "      <th>Resolved_no</th>\n",
       "      <th>Resolved_yes</th>\n",
       "      <th>Fatal_no</th>\n",
       "      <th>Fatal_yes</th>\n",
       "      <th>Special_Measure_Key_Tmp</th>\n",
       "    </tr>\n",
       "  </thead>\n",
       "  <tbody>\n",
       "    <tr>\n",
       "      <th>0</th>\n",
       "      <td>11</td>\n",
       "      <td>0</td>\n",
       "      <td>0</td>\n",
       "      <td>1</td>\n",
       "      <td>0</td>\n",
       "      <td>0</td>\n",
       "      <td>0</td>\n",
       "      <td>0</td>\n",
       "      <td>0</td>\n",
       "      <td>0</td>\n",
       "      <td>0</td>\n",
       "      <td>0</td>\n",
       "      <td>1</td>\n",
       "      <td>0</td>\n",
       "      <td>0</td>\n",
       "      <td>0</td>\n",
       "      <td>1</td>\n",
       "      <td>0</td>\n",
       "      <td>1</td>\n",
       "      <td>0</td>\n",
       "      <td>0</td>\n",
       "      <td>0</td>\n",
       "      <td>0</td>\n",
       "      <td>1</td>\n",
       "      <td>1</td>\n",
       "      <td>0</td>\n",
       "      <td>6</td>\n",
       "    </tr>\n",
       "    <tr>\n",
       "      <th>1</th>\n",
       "      <td>11</td>\n",
       "      <td>0</td>\n",
       "      <td>1</td>\n",
       "      <td>0</td>\n",
       "      <td>0</td>\n",
       "      <td>0</td>\n",
       "      <td>0</td>\n",
       "      <td>0</td>\n",
       "      <td>0</td>\n",
       "      <td>0</td>\n",
       "      <td>0</td>\n",
       "      <td>0</td>\n",
       "      <td>1</td>\n",
       "      <td>0</td>\n",
       "      <td>0</td>\n",
       "      <td>0</td>\n",
       "      <td>1</td>\n",
       "      <td>0</td>\n",
       "      <td>1</td>\n",
       "      <td>0</td>\n",
       "      <td>0</td>\n",
       "      <td>0</td>\n",
       "      <td>0</td>\n",
       "      <td>1</td>\n",
       "      <td>1</td>\n",
       "      <td>0</td>\n",
       "      <td>6</td>\n",
       "    </tr>\n",
       "    <tr>\n",
       "      <th>2</th>\n",
       "      <td>11</td>\n",
       "      <td>0</td>\n",
       "      <td>0</td>\n",
       "      <td>0</td>\n",
       "      <td>0</td>\n",
       "      <td>0</td>\n",
       "      <td>0</td>\n",
       "      <td>0</td>\n",
       "      <td>1</td>\n",
       "      <td>0</td>\n",
       "      <td>0</td>\n",
       "      <td>0</td>\n",
       "      <td>1</td>\n",
       "      <td>0</td>\n",
       "      <td>0</td>\n",
       "      <td>0</td>\n",
       "      <td>1</td>\n",
       "      <td>0</td>\n",
       "      <td>1</td>\n",
       "      <td>0</td>\n",
       "      <td>0</td>\n",
       "      <td>0</td>\n",
       "      <td>1</td>\n",
       "      <td>0</td>\n",
       "      <td>0</td>\n",
       "      <td>1</td>\n",
       "      <td>6</td>\n",
       "    </tr>\n",
       "    <tr>\n",
       "      <th>3</th>\n",
       "      <td>11</td>\n",
       "      <td>0</td>\n",
       "      <td>0</td>\n",
       "      <td>0</td>\n",
       "      <td>0</td>\n",
       "      <td>0</td>\n",
       "      <td>0</td>\n",
       "      <td>1</td>\n",
       "      <td>0</td>\n",
       "      <td>0</td>\n",
       "      <td>0</td>\n",
       "      <td>0</td>\n",
       "      <td>1</td>\n",
       "      <td>0</td>\n",
       "      <td>0</td>\n",
       "      <td>0</td>\n",
       "      <td>1</td>\n",
       "      <td>0</td>\n",
       "      <td>1</td>\n",
       "      <td>0</td>\n",
       "      <td>0</td>\n",
       "      <td>0</td>\n",
       "      <td>0</td>\n",
       "      <td>1</td>\n",
       "      <td>1</td>\n",
       "      <td>0</td>\n",
       "      <td>6</td>\n",
       "    </tr>\n",
       "    <tr>\n",
       "      <th>4</th>\n",
       "      <td>11</td>\n",
       "      <td>0</td>\n",
       "      <td>0</td>\n",
       "      <td>0</td>\n",
       "      <td>1</td>\n",
       "      <td>0</td>\n",
       "      <td>0</td>\n",
       "      <td>0</td>\n",
       "      <td>0</td>\n",
       "      <td>0</td>\n",
       "      <td>0</td>\n",
       "      <td>0</td>\n",
       "      <td>1</td>\n",
       "      <td>0</td>\n",
       "      <td>0</td>\n",
       "      <td>0</td>\n",
       "      <td>1</td>\n",
       "      <td>0</td>\n",
       "      <td>1</td>\n",
       "      <td>0</td>\n",
       "      <td>0</td>\n",
       "      <td>0</td>\n",
       "      <td>0</td>\n",
       "      <td>1</td>\n",
       "      <td>1</td>\n",
       "      <td>0</td>\n",
       "      <td>6</td>\n",
       "    </tr>\n",
       "  </tbody>\n",
       "</table>\n",
       "</div>"
      ],
      "text/plain": [
       "   Special_Measure_Key  age_group_20s  ...  Fatal_yes  Special_Measure_Key_Tmp\n",
       "0                   11              0  ...          0                        6\n",
       "1                   11              0  ...          0                        6\n",
       "2                   11              0  ...          1                        6\n",
       "3                   11              0  ...          0                        6\n",
       "4                   11              0  ...          0                        6\n",
       "\n",
       "[5 rows x 27 columns]"
      ]
     },
     "execution_count": 8,
     "metadata": {
      "tags": []
     },
     "output_type": "execute_result"
    }
   ],
   "source": [
    "# Assigning numerical values and storing in another column\n",
    "new_result_df['Special_Measure_Key_Tmp'] = labelencoder.fit_transform(new_result_df['Special_Measure_Key'])\n",
    "new_result_df.head()"
   ]
  },
  {
   "cell_type": "code",
   "execution_count": 9,
   "metadata": {
    "id": "Ie2XpX5QSGvy"
   },
   "outputs": [],
   "source": [
    "# passing bridge-types-cat column (label encoded values of bridge_types)\n",
    "enc_df = pd.DataFrame(encoder.fit_transform(new_result_df[['Special_Measure_Key_Tmp']]).toarray())"
   ]
  },
  {
   "cell_type": "code",
   "execution_count": 10,
   "metadata": {
    "colab": {
     "base_uri": "https://localhost:8080/",
     "height": 275
    },
    "id": "KgeD6XxbSVCO",
    "outputId": "223e9062-7dc6-4bd7-b2d8-a6fa5a32f797"
   },
   "outputs": [
    {
     "data": {
      "text/html": [
       "<div>\n",
       "<style scoped>\n",
       "    .dataframe tbody tr th:only-of-type {\n",
       "        vertical-align: middle;\n",
       "    }\n",
       "\n",
       "    .dataframe tbody tr th {\n",
       "        vertical-align: top;\n",
       "    }\n",
       "\n",
       "    .dataframe thead th {\n",
       "        text-align: right;\n",
       "    }\n",
       "</style>\n",
       "<table border=\"1\" class=\"dataframe\">\n",
       "  <thead>\n",
       "    <tr style=\"text-align: right;\">\n",
       "      <th></th>\n",
       "      <th>Special_Measure_Key</th>\n",
       "      <th>age_group_20s</th>\n",
       "      <th>age_group_30s</th>\n",
       "      <th>age_group_40s</th>\n",
       "      <th>age_group_50s</th>\n",
       "      <th>age_group_60s</th>\n",
       "      <th>age_group_70s</th>\n",
       "      <th>age_group_80s</th>\n",
       "      <th>age_group_90+</th>\n",
       "      <th>age_group_&lt;20</th>\n",
       "      <th>age_group_UNKNOWN</th>\n",
       "      <th>reporting_phu_city_Ottawa</th>\n",
       "      <th>reporting_phu_city_Toronto</th>\n",
       "      <th>cause_of_infection_CC</th>\n",
       "      <th>cause_of_infection_MISSING INFORMATION</th>\n",
       "      <th>cause_of_infection_NO KNOWN EPI LINK</th>\n",
       "      <th>cause_of_infection_OB</th>\n",
       "      <th>cause_of_infection_TRAVEL</th>\n",
       "      <th>gender_FEMALE</th>\n",
       "      <th>gender_GENDER DIVERSE</th>\n",
       "      <th>gender_MALE</th>\n",
       "      <th>gender_UNSPECIFIED</th>\n",
       "      <th>Resolved_no</th>\n",
       "      <th>Resolved_yes</th>\n",
       "      <th>Fatal_no</th>\n",
       "      <th>Fatal_yes</th>\n",
       "      <th>0</th>\n",
       "      <th>Gatineau-Ottawa Travel Restriction</th>\n",
       "      <th>Restart</th>\n",
       "      <th>Parks Re-opened</th>\n",
       "      <th>4</th>\n",
       "      <th>5</th>\n",
       "      <th>lockdown</th>\n",
       "    </tr>\n",
       "  </thead>\n",
       "  <tbody>\n",
       "    <tr>\n",
       "      <th>0</th>\n",
       "      <td>11</td>\n",
       "      <td>0</td>\n",
       "      <td>0</td>\n",
       "      <td>1</td>\n",
       "      <td>0</td>\n",
       "      <td>0</td>\n",
       "      <td>0</td>\n",
       "      <td>0</td>\n",
       "      <td>0</td>\n",
       "      <td>0</td>\n",
       "      <td>0</td>\n",
       "      <td>0</td>\n",
       "      <td>1</td>\n",
       "      <td>0</td>\n",
       "      <td>0</td>\n",
       "      <td>0</td>\n",
       "      <td>1</td>\n",
       "      <td>0</td>\n",
       "      <td>1</td>\n",
       "      <td>0</td>\n",
       "      <td>0</td>\n",
       "      <td>0</td>\n",
       "      <td>0</td>\n",
       "      <td>1</td>\n",
       "      <td>1</td>\n",
       "      <td>0</td>\n",
       "      <td>0</td>\n",
       "      <td>0</td>\n",
       "      <td>0</td>\n",
       "      <td>0</td>\n",
       "      <td>0</td>\n",
       "      <td>0</td>\n",
       "      <td>1</td>\n",
       "    </tr>\n",
       "    <tr>\n",
       "      <th>1</th>\n",
       "      <td>11</td>\n",
       "      <td>0</td>\n",
       "      <td>1</td>\n",
       "      <td>0</td>\n",
       "      <td>0</td>\n",
       "      <td>0</td>\n",
       "      <td>0</td>\n",
       "      <td>0</td>\n",
       "      <td>0</td>\n",
       "      <td>0</td>\n",
       "      <td>0</td>\n",
       "      <td>0</td>\n",
       "      <td>1</td>\n",
       "      <td>0</td>\n",
       "      <td>0</td>\n",
       "      <td>0</td>\n",
       "      <td>1</td>\n",
       "      <td>0</td>\n",
       "      <td>1</td>\n",
       "      <td>0</td>\n",
       "      <td>0</td>\n",
       "      <td>0</td>\n",
       "      <td>0</td>\n",
       "      <td>1</td>\n",
       "      <td>1</td>\n",
       "      <td>0</td>\n",
       "      <td>0</td>\n",
       "      <td>0</td>\n",
       "      <td>0</td>\n",
       "      <td>0</td>\n",
       "      <td>0</td>\n",
       "      <td>0</td>\n",
       "      <td>1</td>\n",
       "    </tr>\n",
       "    <tr>\n",
       "      <th>2</th>\n",
       "      <td>11</td>\n",
       "      <td>0</td>\n",
       "      <td>0</td>\n",
       "      <td>0</td>\n",
       "      <td>0</td>\n",
       "      <td>0</td>\n",
       "      <td>0</td>\n",
       "      <td>0</td>\n",
       "      <td>1</td>\n",
       "      <td>0</td>\n",
       "      <td>0</td>\n",
       "      <td>0</td>\n",
       "      <td>1</td>\n",
       "      <td>0</td>\n",
       "      <td>0</td>\n",
       "      <td>0</td>\n",
       "      <td>1</td>\n",
       "      <td>0</td>\n",
       "      <td>1</td>\n",
       "      <td>0</td>\n",
       "      <td>0</td>\n",
       "      <td>0</td>\n",
       "      <td>1</td>\n",
       "      <td>0</td>\n",
       "      <td>0</td>\n",
       "      <td>1</td>\n",
       "      <td>0</td>\n",
       "      <td>0</td>\n",
       "      <td>0</td>\n",
       "      <td>0</td>\n",
       "      <td>0</td>\n",
       "      <td>0</td>\n",
       "      <td>1</td>\n",
       "    </tr>\n",
       "    <tr>\n",
       "      <th>3</th>\n",
       "      <td>11</td>\n",
       "      <td>0</td>\n",
       "      <td>0</td>\n",
       "      <td>0</td>\n",
       "      <td>0</td>\n",
       "      <td>0</td>\n",
       "      <td>0</td>\n",
       "      <td>1</td>\n",
       "      <td>0</td>\n",
       "      <td>0</td>\n",
       "      <td>0</td>\n",
       "      <td>0</td>\n",
       "      <td>1</td>\n",
       "      <td>0</td>\n",
       "      <td>0</td>\n",
       "      <td>0</td>\n",
       "      <td>1</td>\n",
       "      <td>0</td>\n",
       "      <td>1</td>\n",
       "      <td>0</td>\n",
       "      <td>0</td>\n",
       "      <td>0</td>\n",
       "      <td>0</td>\n",
       "      <td>1</td>\n",
       "      <td>1</td>\n",
       "      <td>0</td>\n",
       "      <td>0</td>\n",
       "      <td>0</td>\n",
       "      <td>0</td>\n",
       "      <td>0</td>\n",
       "      <td>0</td>\n",
       "      <td>0</td>\n",
       "      <td>1</td>\n",
       "    </tr>\n",
       "    <tr>\n",
       "      <th>4</th>\n",
       "      <td>11</td>\n",
       "      <td>0</td>\n",
       "      <td>0</td>\n",
       "      <td>0</td>\n",
       "      <td>1</td>\n",
       "      <td>0</td>\n",
       "      <td>0</td>\n",
       "      <td>0</td>\n",
       "      <td>0</td>\n",
       "      <td>0</td>\n",
       "      <td>0</td>\n",
       "      <td>0</td>\n",
       "      <td>1</td>\n",
       "      <td>0</td>\n",
       "      <td>0</td>\n",
       "      <td>0</td>\n",
       "      <td>1</td>\n",
       "      <td>0</td>\n",
       "      <td>1</td>\n",
       "      <td>0</td>\n",
       "      <td>0</td>\n",
       "      <td>0</td>\n",
       "      <td>0</td>\n",
       "      <td>1</td>\n",
       "      <td>1</td>\n",
       "      <td>0</td>\n",
       "      <td>0</td>\n",
       "      <td>0</td>\n",
       "      <td>0</td>\n",
       "      <td>0</td>\n",
       "      <td>0</td>\n",
       "      <td>0</td>\n",
       "      <td>1</td>\n",
       "    </tr>\n",
       "  </tbody>\n",
       "</table>\n",
       "</div>"
      ],
      "text/plain": [
       "   Special_Measure_Key  age_group_20s  age_group_30s  ...  4  5  lockdown\n",
       "0                   11              0              0  ...  0  0         1\n",
       "1                   11              0              1  ...  0  0         1\n",
       "2                   11              0              0  ...  0  0         1\n",
       "3                   11              0              0  ...  0  0         1\n",
       "4                   11              0              0  ...  0  0         1\n",
       "\n",
       "[5 rows x 33 columns]"
      ]
     },
     "execution_count": 10,
     "metadata": {
      "tags": []
     },
     "output_type": "execute_result"
    }
   ],
   "source": [
    "#  merge with main df bridge_df on key values\n",
    "new_result_df = new_result_df.join(enc_df)\n",
    "new_result_df.rename(columns={6: \"lockdown\", 10: \"stage 3 extended to toronto\", 2: \"Restart\", 1: \"Gatineau-Ottawa Travel Restriction\", 3: \"Parks Re-opened\"},inplace = True)\n",
    "new_result_df = new_result_df.drop(['Special_Measure_Key_Tmp'], axis=1)\n",
    "new_result_df.head()"
   ]
  },
  {
   "cell_type": "code",
   "execution_count": 11,
   "metadata": {
    "colab": {
     "base_uri": "https://localhost:8080/",
     "height": 275
    },
    "id": "_DAlMuzRSw-0",
    "outputId": "77bc1435-af25-443a-ba2c-e18e2cd616e2"
   },
   "outputs": [
    {
     "data": {
      "text/html": [
       "<div>\n",
       "<style scoped>\n",
       "    .dataframe tbody tr th:only-of-type {\n",
       "        vertical-align: middle;\n",
       "    }\n",
       "\n",
       "    .dataframe tbody tr th {\n",
       "        vertical-align: top;\n",
       "    }\n",
       "\n",
       "    .dataframe thead th {\n",
       "        text-align: right;\n",
       "    }\n",
       "</style>\n",
       "<table border=\"1\" class=\"dataframe\">\n",
       "  <thead>\n",
       "    <tr style=\"text-align: right;\">\n",
       "      <th></th>\n",
       "      <th>age_group_20s</th>\n",
       "      <th>age_group_30s</th>\n",
       "      <th>age_group_40s</th>\n",
       "      <th>age_group_50s</th>\n",
       "      <th>age_group_60s</th>\n",
       "      <th>age_group_70s</th>\n",
       "      <th>age_group_80s</th>\n",
       "      <th>age_group_90+</th>\n",
       "      <th>age_group_&lt;20</th>\n",
       "      <th>age_group_UNKNOWN</th>\n",
       "      <th>reporting_phu_city_Ottawa</th>\n",
       "      <th>reporting_phu_city_Toronto</th>\n",
       "      <th>cause_of_infection_CC</th>\n",
       "      <th>cause_of_infection_MISSING INFORMATION</th>\n",
       "      <th>cause_of_infection_NO KNOWN EPI LINK</th>\n",
       "      <th>cause_of_infection_OB</th>\n",
       "      <th>cause_of_infection_TRAVEL</th>\n",
       "      <th>gender_FEMALE</th>\n",
       "      <th>gender_GENDER DIVERSE</th>\n",
       "      <th>gender_MALE</th>\n",
       "      <th>gender_UNSPECIFIED</th>\n",
       "      <th>Resolved_no</th>\n",
       "      <th>Resolved_yes</th>\n",
       "      <th>Fatal_no</th>\n",
       "      <th>Fatal_yes</th>\n",
       "      <th>0</th>\n",
       "      <th>Gatineau-Ottawa Travel Restriction</th>\n",
       "      <th>Restart</th>\n",
       "      <th>Parks Re-opened</th>\n",
       "      <th>lockdown</th>\n",
       "    </tr>\n",
       "  </thead>\n",
       "  <tbody>\n",
       "    <tr>\n",
       "      <th>0</th>\n",
       "      <td>0</td>\n",
       "      <td>0</td>\n",
       "      <td>1</td>\n",
       "      <td>0</td>\n",
       "      <td>0</td>\n",
       "      <td>0</td>\n",
       "      <td>0</td>\n",
       "      <td>0</td>\n",
       "      <td>0</td>\n",
       "      <td>0</td>\n",
       "      <td>0</td>\n",
       "      <td>1</td>\n",
       "      <td>0</td>\n",
       "      <td>0</td>\n",
       "      <td>0</td>\n",
       "      <td>1</td>\n",
       "      <td>0</td>\n",
       "      <td>1</td>\n",
       "      <td>0</td>\n",
       "      <td>0</td>\n",
       "      <td>0</td>\n",
       "      <td>0</td>\n",
       "      <td>1</td>\n",
       "      <td>1</td>\n",
       "      <td>0</td>\n",
       "      <td>0</td>\n",
       "      <td>0</td>\n",
       "      <td>0</td>\n",
       "      <td>0</td>\n",
       "      <td>1</td>\n",
       "    </tr>\n",
       "    <tr>\n",
       "      <th>1</th>\n",
       "      <td>0</td>\n",
       "      <td>1</td>\n",
       "      <td>0</td>\n",
       "      <td>0</td>\n",
       "      <td>0</td>\n",
       "      <td>0</td>\n",
       "      <td>0</td>\n",
       "      <td>0</td>\n",
       "      <td>0</td>\n",
       "      <td>0</td>\n",
       "      <td>0</td>\n",
       "      <td>1</td>\n",
       "      <td>0</td>\n",
       "      <td>0</td>\n",
       "      <td>0</td>\n",
       "      <td>1</td>\n",
       "      <td>0</td>\n",
       "      <td>1</td>\n",
       "      <td>0</td>\n",
       "      <td>0</td>\n",
       "      <td>0</td>\n",
       "      <td>0</td>\n",
       "      <td>1</td>\n",
       "      <td>1</td>\n",
       "      <td>0</td>\n",
       "      <td>0</td>\n",
       "      <td>0</td>\n",
       "      <td>0</td>\n",
       "      <td>0</td>\n",
       "      <td>1</td>\n",
       "    </tr>\n",
       "    <tr>\n",
       "      <th>2</th>\n",
       "      <td>0</td>\n",
       "      <td>0</td>\n",
       "      <td>0</td>\n",
       "      <td>0</td>\n",
       "      <td>0</td>\n",
       "      <td>0</td>\n",
       "      <td>0</td>\n",
       "      <td>1</td>\n",
       "      <td>0</td>\n",
       "      <td>0</td>\n",
       "      <td>0</td>\n",
       "      <td>1</td>\n",
       "      <td>0</td>\n",
       "      <td>0</td>\n",
       "      <td>0</td>\n",
       "      <td>1</td>\n",
       "      <td>0</td>\n",
       "      <td>1</td>\n",
       "      <td>0</td>\n",
       "      <td>0</td>\n",
       "      <td>0</td>\n",
       "      <td>1</td>\n",
       "      <td>0</td>\n",
       "      <td>0</td>\n",
       "      <td>1</td>\n",
       "      <td>0</td>\n",
       "      <td>0</td>\n",
       "      <td>0</td>\n",
       "      <td>0</td>\n",
       "      <td>1</td>\n",
       "    </tr>\n",
       "    <tr>\n",
       "      <th>3</th>\n",
       "      <td>0</td>\n",
       "      <td>0</td>\n",
       "      <td>0</td>\n",
       "      <td>0</td>\n",
       "      <td>0</td>\n",
       "      <td>0</td>\n",
       "      <td>1</td>\n",
       "      <td>0</td>\n",
       "      <td>0</td>\n",
       "      <td>0</td>\n",
       "      <td>0</td>\n",
       "      <td>1</td>\n",
       "      <td>0</td>\n",
       "      <td>0</td>\n",
       "      <td>0</td>\n",
       "      <td>1</td>\n",
       "      <td>0</td>\n",
       "      <td>1</td>\n",
       "      <td>0</td>\n",
       "      <td>0</td>\n",
       "      <td>0</td>\n",
       "      <td>0</td>\n",
       "      <td>1</td>\n",
       "      <td>1</td>\n",
       "      <td>0</td>\n",
       "      <td>0</td>\n",
       "      <td>0</td>\n",
       "      <td>0</td>\n",
       "      <td>0</td>\n",
       "      <td>1</td>\n",
       "    </tr>\n",
       "    <tr>\n",
       "      <th>4</th>\n",
       "      <td>0</td>\n",
       "      <td>0</td>\n",
       "      <td>0</td>\n",
       "      <td>1</td>\n",
       "      <td>0</td>\n",
       "      <td>0</td>\n",
       "      <td>0</td>\n",
       "      <td>0</td>\n",
       "      <td>0</td>\n",
       "      <td>0</td>\n",
       "      <td>0</td>\n",
       "      <td>1</td>\n",
       "      <td>0</td>\n",
       "      <td>0</td>\n",
       "      <td>0</td>\n",
       "      <td>1</td>\n",
       "      <td>0</td>\n",
       "      <td>1</td>\n",
       "      <td>0</td>\n",
       "      <td>0</td>\n",
       "      <td>0</td>\n",
       "      <td>0</td>\n",
       "      <td>1</td>\n",
       "      <td>1</td>\n",
       "      <td>0</td>\n",
       "      <td>0</td>\n",
       "      <td>0</td>\n",
       "      <td>0</td>\n",
       "      <td>0</td>\n",
       "      <td>1</td>\n",
       "    </tr>\n",
       "  </tbody>\n",
       "</table>\n",
       "</div>"
      ],
      "text/plain": [
       "   age_group_20s  age_group_30s  ...  Parks Re-opened  lockdown\n",
       "0              0              0  ...                0         1\n",
       "1              0              1  ...                0         1\n",
       "2              0              0  ...                0         1\n",
       "3              0              0  ...                0         1\n",
       "4              0              0  ...                0         1\n",
       "\n",
       "[5 rows x 30 columns]"
      ]
     },
     "execution_count": 11,
     "metadata": {
      "tags": []
     },
     "output_type": "execute_result"
    }
   ],
   "source": [
    "new_result_df = new_result_df.drop(['Special_Measure_Key', 4, 5], axis=1)\n",
    "new_result_df.head()"
   ]
  },
  {
   "cell_type": "markdown",
   "metadata": {
    "id": "TdZMoBF0T9n_"
   },
   "source": [
    "### Undersampling"
   ]
  },
  {
   "cell_type": "code",
   "execution_count": 12,
   "metadata": {
    "colab": {
     "base_uri": "https://localhost:8080/"
    },
    "id": "YWx2epJPUB_p",
    "outputId": "176c5dd5-6393-4a69-e0ee-b1964ae18b1f"
   },
   "outputs": [
    {
     "data": {
      "text/plain": [
       "Counter({0: 13125, 1: 2131})"
      ]
     },
     "execution_count": 12,
     "metadata": {
      "tags": []
     },
     "output_type": "execute_result"
    }
   ],
   "source": [
    "from collections import Counter \n",
    "Counter(new_result_df['age_group_20s'])"
   ]
  },
  {
   "cell_type": "code",
   "execution_count": 13,
   "metadata": {
    "colab": {
     "base_uri": "https://localhost:8080/"
    },
    "id": "A4OfLXFZUUtd",
    "outputId": "338249a0-0769-4a09-f345-bf3429058d33"
   },
   "outputs": [
    {
     "data": {
      "text/plain": [
       "Counter({0: 13219, 1: 2037})"
      ]
     },
     "execution_count": 13,
     "metadata": {
      "tags": []
     },
     "output_type": "execute_result"
    }
   ],
   "source": [
    "Counter(new_result_df['age_group_30s'])"
   ]
  },
  {
   "cell_type": "code",
   "execution_count": 14,
   "metadata": {
    "colab": {
     "base_uri": "https://localhost:8080/"
    },
    "id": "ZjZVBjzIUV_A",
    "outputId": "e382cde6-edcc-4adc-963f-0d4d7a744bc7"
   },
   "outputs": [
    {
     "data": {
      "text/plain": [
       "Counter({0: 13149, 1: 2107})"
      ]
     },
     "execution_count": 14,
     "metadata": {
      "tags": []
     },
     "output_type": "execute_result"
    }
   ],
   "source": [
    "Counter(new_result_df['age_group_40s'])"
   ]
  },
  {
   "cell_type": "code",
   "execution_count": 15,
   "metadata": {
    "colab": {
     "base_uri": "https://localhost:8080/"
    },
    "id": "ZZfVsBSvUXO-",
    "outputId": "08ea42ad-cda4-4210-8c14-932ecb589b4d"
   },
   "outputs": [
    {
     "data": {
      "text/plain": [
       "Counter({0: 12859, 1: 2397})"
      ]
     },
     "execution_count": 15,
     "metadata": {
      "tags": []
     },
     "output_type": "execute_result"
    }
   ],
   "source": [
    "Counter(new_result_df['age_group_50s'])"
   ]
  },
  {
   "cell_type": "code",
   "execution_count": 16,
   "metadata": {
    "colab": {
     "base_uri": "https://localhost:8080/"
    },
    "id": "-xo49xTnUYnb",
    "outputId": "aa9a2749-4e2f-4c35-e21e-2cabdb1f5802"
   },
   "outputs": [
    {
     "data": {
      "text/plain": [
       "Counter({0: 13612, 1: 1644})"
      ]
     },
     "execution_count": 16,
     "metadata": {
      "tags": []
     },
     "output_type": "execute_result"
    }
   ],
   "source": [
    "Counter(new_result_df['age_group_60s'])"
   ]
  },
  {
   "cell_type": "code",
   "execution_count": 17,
   "metadata": {
    "colab": {
     "base_uri": "https://localhost:8080/"
    },
    "id": "duDHS0ZdUZ96",
    "outputId": "f681bf34-73ba-4c8a-8317-0ead54b51e14"
   },
   "outputs": [
    {
     "data": {
      "text/plain": [
       "Counter({0: 14135, 1: 1121})"
      ]
     },
     "execution_count": 17,
     "metadata": {
      "tags": []
     },
     "output_type": "execute_result"
    }
   ],
   "source": [
    "Counter(new_result_df['age_group_70s'])"
   ]
  },
  {
   "cell_type": "code",
   "execution_count": 18,
   "metadata": {
    "colab": {
     "base_uri": "https://localhost:8080/"
    },
    "id": "uLXitzRpUbGA",
    "outputId": "3b1d4aaf-2425-4dd3-d0c4-618a7c698748"
   },
   "outputs": [
    {
     "data": {
      "text/plain": [
       "Counter({0: 13569, 1: 1687})"
      ]
     },
     "execution_count": 18,
     "metadata": {
      "tags": []
     },
     "output_type": "execute_result"
    }
   ],
   "source": [
    "Counter(new_result_df['age_group_80s'])"
   ]
  },
  {
   "cell_type": "code",
   "execution_count": 19,
   "metadata": {
    "colab": {
     "base_uri": "https://localhost:8080/"
    },
    "id": "RZSyy0hWUcnO",
    "outputId": "5a14cdce-133d-497b-e1dc-a60b5df0b3f4"
   },
   "outputs": [
    {
     "data": {
      "text/plain": [
       "Counter({0: 13973, 1: 1283})"
      ]
     },
     "execution_count": 19,
     "metadata": {
      "tags": []
     },
     "output_type": "execute_result"
    }
   ],
   "source": [
    "Counter(new_result_df['age_group_90+'])"
   ]
  },
  {
   "cell_type": "code",
   "execution_count": 20,
   "metadata": {
    "colab": {
     "base_uri": "https://localhost:8080/"
    },
    "id": "l282DhMoUd1O",
    "outputId": "03aa3108-c82c-405c-9c40-066a426a336e"
   },
   "outputs": [
    {
     "data": {
      "text/plain": [
       "Counter({0: 14408, 1: 848})"
      ]
     },
     "execution_count": 20,
     "metadata": {
      "tags": []
     },
     "output_type": "execute_result"
    }
   ],
   "source": [
    "Counter(new_result_df['age_group_<20'])"
   ]
  },
  {
   "cell_type": "markdown",
   "metadata": {
    "id": "dxQO7GeDUfCC"
   },
   "source": [
    "All classes are highly imbalanced. It's even more clear by plotting 'age group 20s'."
   ]
  },
  {
   "cell_type": "code",
   "execution_count": 21,
   "metadata": {
    "colab": {
     "base_uri": "https://localhost:8080/",
     "height": 248
    },
    "id": "5h7XPdmeUqvC",
    "outputId": "ca6f18ad-8da4-496f-d0da-8253a0448679"
   },
   "outputs": [
    {
     "data": {
      "image/png": "[encoded data removed]",
      "text/plain": [
       "<Figure size 432x288 with 1 Axes>"
      ]
     },
     "metadata": {
      "tags": []
     },
     "output_type": "display_data"
    }
   ],
   "source": [
    "import matplotlib.pyplot as plt\n",
    "\n",
    "labels = 'True', 'False'\n",
    "sizes = [13125, 2131]\n",
    "\n",
    "fig1, ax1 = plt.subplots()\n",
    "ax1.pie(sizes, labels=labels, autopct='%1.1f%%', startangle=90)\n",
    "ax1.axis('equal')\n",
    "\n",
    "plt.show()"
   ]
  },
  {
   "cell_type": "markdown",
   "metadata": {
    "id": "1o93Ob4HWT8_"
   },
   "source": [
    "Therefore, it is likely if we train our model to classify 'age group 20s' on this dataset, during testing it will more often than not predict false."
   ]
  },
  {
   "cell_type": "code",
   "execution_count": 22,
   "metadata": {
    "colab": {
     "base_uri": "https://localhost:8080/"
    },
    "id": "zceyWZX2Wm4E",
    "outputId": "65f4381f-d456-4d6a-d09a-f83ab0d990be"
   },
   "outputs": [
    {
     "data": {
      "text/plain": [
       "1    2131\n",
       "0    2131\n",
       "Name: age_group_20s, dtype: int64"
      ]
     },
     "execution_count": 22,
     "metadata": {
      "tags": []
     },
     "output_type": "execute_result"
    }
   ],
   "source": [
    "from sklearn.utils import resample\n",
    "\n",
    "df_majority = new_result_df[new_result_df.age_group_20s==False]\n",
    "df_minority = new_result_df[new_result_df.age_group_20s==True]\n",
    "\n",
    "df_majority_upsampled = resample(df_majority, \n",
    "                                 replace=True,     # sample with replacement\n",
    "                                 n_samples=2131,    # to match minority class\n",
    "                                 random_state=42)\n",
    "\n",
    "df_upsampled = pd.concat([df_minority, df_majority_upsampled])\n",
    "\n",
    "df_upsampled.age_group_20s.value_counts()"
   ]
  },
  {
   "cell_type": "code",
   "execution_count": 36,
   "metadata": {
    "id": "r2W8YJvs6-fZ"
   },
   "outputs": [],
   "source": [
    "# put undersampling into function\n",
    "def undersample(column_name):\n",
    "  df_majority = new_result_df[new_result_df[column_name]==False]\n",
    "  df_minority = new_result_df[new_result_df[column_name]==True]\n",
    "\n",
    "  df_majority_upsampled = resample(df_majority, \n",
    "                                  replace=True,     # sample with replacement\n",
    "                                  n_samples=len(df_minority.index),    # to match minority class\n",
    "                                  random_state=42)\n",
    "\n",
    "  df_upsampled = pd.concat([df_minority, df_majority_upsampled])\n",
    "\n",
    "  print(df_upsampled[column_name].value_counts())\n",
    "\n",
    "  return df_upsampled"
   ]
  },
  {
   "cell_type": "code",
   "execution_count": 37,
   "metadata": {
    "colab": {
     "base_uri": "https://localhost:8080/"
    },
    "id": "PtBLF9Sx7PzA",
    "outputId": "bb1bff6e-3330-4927-ab87-0ab85ea0ada9"
   },
   "outputs": [
    {
     "name": "stdout",
     "output_type": "stream",
     "text": [
      "1    2037\n",
      "0    2037\n",
      "Name: age_group_30s, dtype: int64\n",
      "1    2107\n",
      "0    2107\n",
      "Name: age_group_40s, dtype: int64\n",
      "1    2397\n",
      "0    2397\n",
      "Name: age_group_50s, dtype: int64\n",
      "1    1644\n",
      "0    1644\n",
      "Name: age_group_60s, dtype: int64\n",
      "1    1121\n",
      "0    1121\n",
      "Name: age_group_70s, dtype: int64\n",
      "1    1687\n",
      "0    1687\n",
      "Name: age_group_80s, dtype: int64\n",
      "1    1283\n",
      "0    1283\n",
      "Name: age_group_90+, dtype: int64\n",
      "1    848\n",
      "0    848\n",
      "Name: age_group_<20, dtype: int64\n"
     ]
    }
   ],
   "source": [
    "df_age_group_30s = undersample(\"age_group_30s\")\n",
    "df_age_group_40s = undersample(\"age_group_40s\")\n",
    "df_age_group_50s = undersample(\"age_group_50s\")\n",
    "df_age_group_60s = undersample(\"age_group_60s\")\n",
    "df_age_group_70s = undersample(\"age_group_70s\")\n",
    "df_age_group_80s = undersample(\"age_group_80s\")\n",
    "df_age_group_90 = undersample(\"age_group_90+\")\n",
    "df_age_group_20 = undersample(\"age_group_<20\")"
   ]
  }
 ],
 "metadata": {
  "colab": {
   "collapsed_sections": [],
   "name": "preprocessing.ipynb",
   "provenance": []
  },
  "kernelspec": {
   "display_name": "Python 3",
   "language": "python",
   "name": "python3"
  },
  "language_info": {
   "codemirror_mode": {
    "name": "ipython",
    "version": 3
   },
   "file_extension": ".py",
   "mimetype": "text/x-python",
   "name": "python",
   "nbconvert_exporter": "python",
   "pygments_lexer": "ipython3",
   "version": "3.7.3"
  }
 },
 "nbformat": 4,
 "nbformat_minor": 1
}
