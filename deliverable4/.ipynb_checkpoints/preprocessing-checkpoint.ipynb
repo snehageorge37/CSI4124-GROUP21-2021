{
  "nbformat": 4,
  "nbformat_minor": 0,
  "metadata": {
    "colab": {
      "name": "preprocessing.ipynb",
      "provenance": [],
      "collapsed_sections": []
    },
    "kernelspec": {
      "name": "python3",
      "display_name": "Python 3"
    },
    "language_info": {
      "name": "python"
    }
  },
  "cells": [
    {
      "cell_type": "code",
      "metadata": {
        "id": "IHjRPuDG2dBy",
        "colab": {
          "base_uri": "https://localhost:8080/"
        },
        "outputId": "b4ed6453-3a48-45bc-eb28-fabd5dfc67cd"
      },
      "source": [
        "import pandas as pd\n",
        "import numpy as np\n",
        "from sklearn.preprocessing import LabelEncoder\n",
        "from sklearn.preprocessing import OneHotEncoder\n",
        "import psycopg2"
      ],
      "execution_count": 1,
      "outputs": [
        {
          "output_type": "stream",
          "text": [
            "/usr/local/lib/python3.7/dist-packages/psycopg2/__init__.py:144: UserWarning: The psycopg2 wheel package will be renamed from release 2.8; in order to keep installing from binary please use \"pip install psycopg2-binary\" instead. For details see: <http://initd.org/psycopg/docs/install.html#binary-install-from-pypi>.\n",
            "  \"\"\")\n"
          ],
          "name": "stderr"
        }
      ]
    },
    {
      "cell_type": "code",
      "metadata": {
        "colab": {
          "base_uri": "https://localhost:8080/"
        },
        "id": "kO-T_RDyEHgl",
        "outputId": "00c63b96-f28e-4e5e-854f-89324a90abb4"
      },
      "source": [
        "table_cols = [('age_group', 'reporting_phu_city', 'cause_of_infection', 'gender', 'Resolved', 'Fatal', 'Special_Measure_Key')]\n",
        "fact_table = []\n",
        "\n",
        "def connect():\n",
        "    \"\"\" Connect to the PostgreSQL database server \"\"\"\n",
        "    conn = None\n",
        "    try:\n",
        "        # connect to the PostgreSQL server\n",
        "        print('Connecting to the PostgreSQL database...')\n",
        "        return psycopg2.connect(\n",
        "            host=\"www.eecs.uottawa.ca\",\n",
        "            database=\"group_21\",\n",
        "            user=\"****\",\n",
        "            password=\"****\",\n",
        "            port=\"15432\"\n",
        "        )\n",
        "    except (Exception, psycopg2.DatabaseError) as error:\n",
        "        print(error)\n",
        "\n",
        "\n",
        "connection = connect()\n",
        "print('***Connection established***')\n",
        "\n",
        "cur = connection.cursor()\n",
        "        \n",
        "cur.execute('SELECT I.age_group, I.reporting_phu_city,\\\n",
        "            I.cause_of_infection, I.gender, F.\"Resolved\",\\\n",
        "            F.\"Fatal\", F.\"Special_Measure_Key\" FROM fact_table_v2 as F\\\n",
        "            INNER JOIN individuals as I on I.individual_id = F.\"Individual_Key\"')\n",
        "rows = cur.fetchall()\n",
        "fact_table = rows\n",
        "print(fact_table[:10])\n",
        "\n",
        "cur.close()\n",
        "connection.close()\n",
        "print('***Connection terminated***')"
      ],
      "execution_count": 2,
      "outputs": [
        {
          "output_type": "stream",
          "text": [
            "Connecting to the PostgreSQL database...\n",
            "***Connection established***\n",
            "[('40s', 'Toronto', 'OB', 'FEMALE', 'yes', 'no', 11), ('30s', 'Toronto', 'OB', 'FEMALE', 'yes', 'no', 11), ('90+', 'Toronto', 'OB', 'FEMALE', 'no', 'yes', 11), ('80s', 'Toronto', 'OB', 'FEMALE', 'yes', 'no', 11), ('50s', 'Toronto', 'OB', 'FEMALE', 'yes', 'no', 11), ('30s', 'Toronto', 'OB', 'FEMALE', 'yes', 'no', 11), ('50s', 'Toronto', 'OB', 'FEMALE', 'yes', 'no', 11), ('50s', 'Toronto', 'OB', 'MALE', 'yes', 'no', 11), ('20s', 'Toronto', 'OB', 'FEMALE', 'yes', 'no', 11), ('80s', 'Toronto', 'NO KNOWN EPI LINK', 'FEMALE', 'yes', 'no', 2)]\n",
            "***Connection terminated***\n"
          ],
          "name": "stdout"
        }
      ]
    },
    {
      "cell_type": "code",
      "metadata": {
        "colab": {
          "base_uri": "https://localhost:8080/",
          "height": 204
        },
        "id": "CrTjp4XFLHOU",
        "outputId": "a2650653-ecf3-4eca-fd92-ca4d169f8631"
      },
      "source": [
        "result_df = pd.DataFrame(fact_table, columns=[\"age_group\", \"reporting_phu_city\", \"cause_of_infection\", \n",
        "                                               \"gender\", \"Resolved\",\"Fatal\",\"Special_Measure_Key\"])\n",
        "result_df.head()"
      ],
      "execution_count": 3,
      "outputs": [
        {
          "output_type": "execute_result",
          "data": {
            "text/html": [
              "<div>\n",
              "<style scoped>\n",
              "    .dataframe tbody tr th:only-of-type {\n",
              "        vertical-align: middle;\n",
              "    }\n",
              "\n",
              "    .dataframe tbody tr th {\n",
              "        vertical-align: top;\n",
              "    }\n",
              "\n",
              "    .dataframe thead th {\n",
              "        text-align: right;\n",
              "    }\n",
              "</style>\n",
              "<table border=\"1\" class=\"dataframe\">\n",
              "  <thead>\n",
              "    <tr style=\"text-align: right;\">\n",
              "      <th></th>\n",
              "      <th>age_group</th>\n",
              "      <th>reporting_phu_city</th>\n",
              "      <th>cause_of_infection</th>\n",
              "      <th>gender</th>\n",
              "      <th>Resolved</th>\n",
              "      <th>Fatal</th>\n",
              "      <th>Special_Measure_Key</th>\n",
              "    </tr>\n",
              "  </thead>\n",
              "  <tbody>\n",
              "    <tr>\n",
              "      <th>0</th>\n",
              "      <td>40s</td>\n",
              "      <td>Toronto</td>\n",
              "      <td>OB</td>\n",
              "      <td>FEMALE</td>\n",
              "      <td>yes</td>\n",
              "      <td>no</td>\n",
              "      <td>11</td>\n",
              "    </tr>\n",
              "    <tr>\n",
              "      <th>1</th>\n",
              "      <td>30s</td>\n",
              "      <td>Toronto</td>\n",
              "      <td>OB</td>\n",
              "      <td>FEMALE</td>\n",
              "      <td>yes</td>\n",
              "      <td>no</td>\n",
              "      <td>11</td>\n",
              "    </tr>\n",
              "    <tr>\n",
              "      <th>2</th>\n",
              "      <td>90+</td>\n",
              "      <td>Toronto</td>\n",
              "      <td>OB</td>\n",
              "      <td>FEMALE</td>\n",
              "      <td>no</td>\n",
              "      <td>yes</td>\n",
              "      <td>11</td>\n",
              "    </tr>\n",
              "    <tr>\n",
              "      <th>3</th>\n",
              "      <td>80s</td>\n",
              "      <td>Toronto</td>\n",
              "      <td>OB</td>\n",
              "      <td>FEMALE</td>\n",
              "      <td>yes</td>\n",
              "      <td>no</td>\n",
              "      <td>11</td>\n",
              "    </tr>\n",
              "    <tr>\n",
              "      <th>4</th>\n",
              "      <td>50s</td>\n",
              "      <td>Toronto</td>\n",
              "      <td>OB</td>\n",
              "      <td>FEMALE</td>\n",
              "      <td>yes</td>\n",
              "      <td>no</td>\n",
              "      <td>11</td>\n",
              "    </tr>\n",
              "  </tbody>\n",
              "</table>\n",
              "</div>"
            ],
            "text/plain": [
              "  age_group reporting_phu_city  ... Fatal Special_Measure_Key\n",
              "0       40s            Toronto  ...    no                  11\n",
              "1       30s            Toronto  ...    no                  11\n",
              "2       90+            Toronto  ...   yes                  11\n",
              "3       80s            Toronto  ...    no                  11\n",
              "4       50s            Toronto  ...    no                  11\n",
              "\n",
              "[5 rows x 7 columns]"
            ]
          },
          "metadata": {
            "tags": []
          },
          "execution_count": 3
        }
      ]
    },
    {
      "cell_type": "markdown",
      "metadata": {
        "id": "tJ2wGEWrNSSg"
      },
      "source": [
        "### One Hot Encoding\n",
        "##### Class = Age Group\n",
        "- create 9 columns with boolean values and check for imbalance\n",
        "- one hot encoding to turn into 0s and 1s and then more preprocessing to convert those to boolean values\n",
        "\n",
        "##### Features\n",
        "- City, Cause of Infection, Gender, Resolved, Fatal, Special Measures"
      ]
    },
    {
      "cell_type": "code",
      "metadata": {
        "colab": {
          "base_uri": "https://localhost:8080/",
          "height": 241
        },
        "id": "4sHUFtOkPRia",
        "outputId": "f46eb808-62d5-4d30-bbc5-f7b21bc1964b"
      },
      "source": [
        "new_result_df = pd.get_dummies(result_df, prefix=[\"age_group\", \"reporting_phu_city\", \"cause_of_infection\", \"gender\", \"Resolved\", \"Fatal\"])\n",
        "X = new_result_df.values\n",
        "new_result_df.head()"
      ],
      "execution_count": 5,
      "outputs": [
        {
          "output_type": "execute_result",
          "data": {
            "text/html": [
              "<div>\n",
              "<style scoped>\n",
              "    .dataframe tbody tr th:only-of-type {\n",
              "        vertical-align: middle;\n",
              "    }\n",
              "\n",
              "    .dataframe tbody tr th {\n",
              "        vertical-align: top;\n",
              "    }\n",
              "\n",
              "    .dataframe thead th {\n",
              "        text-align: right;\n",
              "    }\n",
              "</style>\n",
              "<table border=\"1\" class=\"dataframe\">\n",
              "  <thead>\n",
              "    <tr style=\"text-align: right;\">\n",
              "      <th></th>\n",
              "      <th>Special_Measure_Key</th>\n",
              "      <th>age_group_20s</th>\n",
              "      <th>age_group_30s</th>\n",
              "      <th>age_group_40s</th>\n",
              "      <th>age_group_50s</th>\n",
              "      <th>age_group_60s</th>\n",
              "      <th>age_group_70s</th>\n",
              "      <th>age_group_80s</th>\n",
              "      <th>age_group_90+</th>\n",
              "      <th>age_group_&lt;20</th>\n",
              "      <th>age_group_UNKNOWN</th>\n",
              "      <th>reporting_phu_city_Ottawa</th>\n",
              "      <th>reporting_phu_city_Toronto</th>\n",
              "      <th>cause_of_infection_CC</th>\n",
              "      <th>cause_of_infection_MISSING INFORMATION</th>\n",
              "      <th>cause_of_infection_NO KNOWN EPI LINK</th>\n",
              "      <th>cause_of_infection_OB</th>\n",
              "      <th>cause_of_infection_TRAVEL</th>\n",
              "      <th>gender_FEMALE</th>\n",
              "      <th>gender_GENDER DIVERSE</th>\n",
              "      <th>gender_MALE</th>\n",
              "      <th>gender_UNSPECIFIED</th>\n",
              "      <th>Resolved_no</th>\n",
              "      <th>Resolved_yes</th>\n",
              "      <th>Fatal_no</th>\n",
              "      <th>Fatal_yes</th>\n",
              "    </tr>\n",
              "  </thead>\n",
              "  <tbody>\n",
              "    <tr>\n",
              "      <th>0</th>\n",
              "      <td>11</td>\n",
              "      <td>0</td>\n",
              "      <td>0</td>\n",
              "      <td>1</td>\n",
              "      <td>0</td>\n",
              "      <td>0</td>\n",
              "      <td>0</td>\n",
              "      <td>0</td>\n",
              "      <td>0</td>\n",
              "      <td>0</td>\n",
              "      <td>0</td>\n",
              "      <td>0</td>\n",
              "      <td>1</td>\n",
              "      <td>0</td>\n",
              "      <td>0</td>\n",
              "      <td>0</td>\n",
              "      <td>1</td>\n",
              "      <td>0</td>\n",
              "      <td>1</td>\n",
              "      <td>0</td>\n",
              "      <td>0</td>\n",
              "      <td>0</td>\n",
              "      <td>0</td>\n",
              "      <td>1</td>\n",
              "      <td>1</td>\n",
              "      <td>0</td>\n",
              "    </tr>\n",
              "    <tr>\n",
              "      <th>1</th>\n",
              "      <td>11</td>\n",
              "      <td>0</td>\n",
              "      <td>1</td>\n",
              "      <td>0</td>\n",
              "      <td>0</td>\n",
              "      <td>0</td>\n",
              "      <td>0</td>\n",
              "      <td>0</td>\n",
              "      <td>0</td>\n",
              "      <td>0</td>\n",
              "      <td>0</td>\n",
              "      <td>0</td>\n",
              "      <td>1</td>\n",
              "      <td>0</td>\n",
              "      <td>0</td>\n",
              "      <td>0</td>\n",
              "      <td>1</td>\n",
              "      <td>0</td>\n",
              "      <td>1</td>\n",
              "      <td>0</td>\n",
              "      <td>0</td>\n",
              "      <td>0</td>\n",
              "      <td>0</td>\n",
              "      <td>1</td>\n",
              "      <td>1</td>\n",
              "      <td>0</td>\n",
              "    </tr>\n",
              "    <tr>\n",
              "      <th>2</th>\n",
              "      <td>11</td>\n",
              "      <td>0</td>\n",
              "      <td>0</td>\n",
              "      <td>0</td>\n",
              "      <td>0</td>\n",
              "      <td>0</td>\n",
              "      <td>0</td>\n",
              "      <td>0</td>\n",
              "      <td>1</td>\n",
              "      <td>0</td>\n",
              "      <td>0</td>\n",
              "      <td>0</td>\n",
              "      <td>1</td>\n",
              "      <td>0</td>\n",
              "      <td>0</td>\n",
              "      <td>0</td>\n",
              "      <td>1</td>\n",
              "      <td>0</td>\n",
              "      <td>1</td>\n",
              "      <td>0</td>\n",
              "      <td>0</td>\n",
              "      <td>0</td>\n",
              "      <td>1</td>\n",
              "      <td>0</td>\n",
              "      <td>0</td>\n",
              "      <td>1</td>\n",
              "    </tr>\n",
              "    <tr>\n",
              "      <th>3</th>\n",
              "      <td>11</td>\n",
              "      <td>0</td>\n",
              "      <td>0</td>\n",
              "      <td>0</td>\n",
              "      <td>0</td>\n",
              "      <td>0</td>\n",
              "      <td>0</td>\n",
              "      <td>1</td>\n",
              "      <td>0</td>\n",
              "      <td>0</td>\n",
              "      <td>0</td>\n",
              "      <td>0</td>\n",
              "      <td>1</td>\n",
              "      <td>0</td>\n",
              "      <td>0</td>\n",
              "      <td>0</td>\n",
              "      <td>1</td>\n",
              "      <td>0</td>\n",
              "      <td>1</td>\n",
              "      <td>0</td>\n",
              "      <td>0</td>\n",
              "      <td>0</td>\n",
              "      <td>0</td>\n",
              "      <td>1</td>\n",
              "      <td>1</td>\n",
              "      <td>0</td>\n",
              "    </tr>\n",
              "    <tr>\n",
              "      <th>4</th>\n",
              "      <td>11</td>\n",
              "      <td>0</td>\n",
              "      <td>0</td>\n",
              "      <td>0</td>\n",
              "      <td>1</td>\n",
              "      <td>0</td>\n",
              "      <td>0</td>\n",
              "      <td>0</td>\n",
              "      <td>0</td>\n",
              "      <td>0</td>\n",
              "      <td>0</td>\n",
              "      <td>0</td>\n",
              "      <td>1</td>\n",
              "      <td>0</td>\n",
              "      <td>0</td>\n",
              "      <td>0</td>\n",
              "      <td>1</td>\n",
              "      <td>0</td>\n",
              "      <td>1</td>\n",
              "      <td>0</td>\n",
              "      <td>0</td>\n",
              "      <td>0</td>\n",
              "      <td>0</td>\n",
              "      <td>1</td>\n",
              "      <td>1</td>\n",
              "      <td>0</td>\n",
              "    </tr>\n",
              "  </tbody>\n",
              "</table>\n",
              "</div>"
            ],
            "text/plain": [
              "   Special_Measure_Key  age_group_20s  ...  Fatal_no  Fatal_yes\n",
              "0                   11              0  ...         1          0\n",
              "1                   11              0  ...         1          0\n",
              "2                   11              0  ...         0          1\n",
              "3                   11              0  ...         1          0\n",
              "4                   11              0  ...         1          0\n",
              "\n",
              "[5 rows x 26 columns]"
            ]
          },
          "metadata": {
            "tags": []
          },
          "execution_count": 5
        }
      ]
    },
    {
      "cell_type": "markdown",
      "metadata": {
        "id": "r6pxovjVQFpJ"
      },
      "source": [
        "Special Measures is a bit more complicated so need to do some more processing. Using the sklearn library to handle the complications."
      ]
    },
    {
      "cell_type": "code",
      "metadata": {
        "id": "6INvqcNdQKVD"
      },
      "source": [
        "# Create Labeler and Encoder\n",
        "labelencoder = LabelEncoder()\n",
        "encoder = OneHotEncoder(dtype=int, handle_unknown='ignore')"
      ],
      "execution_count": 13,
      "outputs": []
    },
    {
      "cell_type": "code",
      "metadata": {
        "colab": {
          "base_uri": "https://localhost:8080/",
          "height": 241
        },
        "id": "kys88FsBQ6G9",
        "outputId": "cf1552c8-d8a5-48d3-bdee-b3070789ec8b"
      },
      "source": [
        "# Assigning numerical values and storing in another column\n",
        "new_result_df['Special_Measure_Key_Tmp'] = labelencoder.fit_transform(new_result_df['Special_Measure_Key'])\n",
        "new_result_df.head()"
      ],
      "execution_count": 9,
      "outputs": [
        {
          "output_type": "execute_result",
          "data": {
            "text/html": [
              "<div>\n",
              "<style scoped>\n",
              "    .dataframe tbody tr th:only-of-type {\n",
              "        vertical-align: middle;\n",
              "    }\n",
              "\n",
              "    .dataframe tbody tr th {\n",
              "        vertical-align: top;\n",
              "    }\n",
              "\n",
              "    .dataframe thead th {\n",
              "        text-align: right;\n",
              "    }\n",
              "</style>\n",
              "<table border=\"1\" class=\"dataframe\">\n",
              "  <thead>\n",
              "    <tr style=\"text-align: right;\">\n",
              "      <th></th>\n",
              "      <th>Special_Measure_Key</th>\n",
              "      <th>age_group_20s</th>\n",
              "      <th>age_group_30s</th>\n",
              "      <th>age_group_40s</th>\n",
              "      <th>age_group_50s</th>\n",
              "      <th>age_group_60s</th>\n",
              "      <th>age_group_70s</th>\n",
              "      <th>age_group_80s</th>\n",
              "      <th>age_group_90+</th>\n",
              "      <th>age_group_&lt;20</th>\n",
              "      <th>age_group_UNKNOWN</th>\n",
              "      <th>reporting_phu_city_Ottawa</th>\n",
              "      <th>reporting_phu_city_Toronto</th>\n",
              "      <th>cause_of_infection_CC</th>\n",
              "      <th>cause_of_infection_MISSING INFORMATION</th>\n",
              "      <th>cause_of_infection_NO KNOWN EPI LINK</th>\n",
              "      <th>cause_of_infection_OB</th>\n",
              "      <th>cause_of_infection_TRAVEL</th>\n",
              "      <th>gender_FEMALE</th>\n",
              "      <th>gender_GENDER DIVERSE</th>\n",
              "      <th>gender_MALE</th>\n",
              "      <th>gender_UNSPECIFIED</th>\n",
              "      <th>Resolved_no</th>\n",
              "      <th>Resolved_yes</th>\n",
              "      <th>Fatal_no</th>\n",
              "      <th>Fatal_yes</th>\n",
              "      <th>Special_Measure_Key_Tmp</th>\n",
              "    </tr>\n",
              "  </thead>\n",
              "  <tbody>\n",
              "    <tr>\n",
              "      <th>0</th>\n",
              "      <td>11</td>\n",
              "      <td>0</td>\n",
              "      <td>0</td>\n",
              "      <td>1</td>\n",
              "      <td>0</td>\n",
              "      <td>0</td>\n",
              "      <td>0</td>\n",
              "      <td>0</td>\n",
              "      <td>0</td>\n",
              "      <td>0</td>\n",
              "      <td>0</td>\n",
              "      <td>0</td>\n",
              "      <td>1</td>\n",
              "      <td>0</td>\n",
              "      <td>0</td>\n",
              "      <td>0</td>\n",
              "      <td>1</td>\n",
              "      <td>0</td>\n",
              "      <td>1</td>\n",
              "      <td>0</td>\n",
              "      <td>0</td>\n",
              "      <td>0</td>\n",
              "      <td>0</td>\n",
              "      <td>1</td>\n",
              "      <td>1</td>\n",
              "      <td>0</td>\n",
              "      <td>6</td>\n",
              "    </tr>\n",
              "    <tr>\n",
              "      <th>1</th>\n",
              "      <td>11</td>\n",
              "      <td>0</td>\n",
              "      <td>1</td>\n",
              "      <td>0</td>\n",
              "      <td>0</td>\n",
              "      <td>0</td>\n",
              "      <td>0</td>\n",
              "      <td>0</td>\n",
              "      <td>0</td>\n",
              "      <td>0</td>\n",
              "      <td>0</td>\n",
              "      <td>0</td>\n",
              "      <td>1</td>\n",
              "      <td>0</td>\n",
              "      <td>0</td>\n",
              "      <td>0</td>\n",
              "      <td>1</td>\n",
              "      <td>0</td>\n",
              "      <td>1</td>\n",
              "      <td>0</td>\n",
              "      <td>0</td>\n",
              "      <td>0</td>\n",
              "      <td>0</td>\n",
              "      <td>1</td>\n",
              "      <td>1</td>\n",
              "      <td>0</td>\n",
              "      <td>6</td>\n",
              "    </tr>\n",
              "    <tr>\n",
              "      <th>2</th>\n",
              "      <td>11</td>\n",
              "      <td>0</td>\n",
              "      <td>0</td>\n",
              "      <td>0</td>\n",
              "      <td>0</td>\n",
              "      <td>0</td>\n",
              "      <td>0</td>\n",
              "      <td>0</td>\n",
              "      <td>1</td>\n",
              "      <td>0</td>\n",
              "      <td>0</td>\n",
              "      <td>0</td>\n",
              "      <td>1</td>\n",
              "      <td>0</td>\n",
              "      <td>0</td>\n",
              "      <td>0</td>\n",
              "      <td>1</td>\n",
              "      <td>0</td>\n",
              "      <td>1</td>\n",
              "      <td>0</td>\n",
              "      <td>0</td>\n",
              "      <td>0</td>\n",
              "      <td>1</td>\n",
              "      <td>0</td>\n",
              "      <td>0</td>\n",
              "      <td>1</td>\n",
              "      <td>6</td>\n",
              "    </tr>\n",
              "    <tr>\n",
              "      <th>3</th>\n",
              "      <td>11</td>\n",
              "      <td>0</td>\n",
              "      <td>0</td>\n",
              "      <td>0</td>\n",
              "      <td>0</td>\n",
              "      <td>0</td>\n",
              "      <td>0</td>\n",
              "      <td>1</td>\n",
              "      <td>0</td>\n",
              "      <td>0</td>\n",
              "      <td>0</td>\n",
              "      <td>0</td>\n",
              "      <td>1</td>\n",
              "      <td>0</td>\n",
              "      <td>0</td>\n",
              "      <td>0</td>\n",
              "      <td>1</td>\n",
              "      <td>0</td>\n",
              "      <td>1</td>\n",
              "      <td>0</td>\n",
              "      <td>0</td>\n",
              "      <td>0</td>\n",
              "      <td>0</td>\n",
              "      <td>1</td>\n",
              "      <td>1</td>\n",
              "      <td>0</td>\n",
              "      <td>6</td>\n",
              "    </tr>\n",
              "    <tr>\n",
              "      <th>4</th>\n",
              "      <td>11</td>\n",
              "      <td>0</td>\n",
              "      <td>0</td>\n",
              "      <td>0</td>\n",
              "      <td>1</td>\n",
              "      <td>0</td>\n",
              "      <td>0</td>\n",
              "      <td>0</td>\n",
              "      <td>0</td>\n",
              "      <td>0</td>\n",
              "      <td>0</td>\n",
              "      <td>0</td>\n",
              "      <td>1</td>\n",
              "      <td>0</td>\n",
              "      <td>0</td>\n",
              "      <td>0</td>\n",
              "      <td>1</td>\n",
              "      <td>0</td>\n",
              "      <td>1</td>\n",
              "      <td>0</td>\n",
              "      <td>0</td>\n",
              "      <td>0</td>\n",
              "      <td>0</td>\n",
              "      <td>1</td>\n",
              "      <td>1</td>\n",
              "      <td>0</td>\n",
              "      <td>6</td>\n",
              "    </tr>\n",
              "  </tbody>\n",
              "</table>\n",
              "</div>"
            ],
            "text/plain": [
              "   Special_Measure_Key  age_group_20s  ...  Fatal_yes  Special_Measure_Key_Tmp\n",
              "0                   11              0  ...          0                        6\n",
              "1                   11              0  ...          0                        6\n",
              "2                   11              0  ...          1                        6\n",
              "3                   11              0  ...          0                        6\n",
              "4                   11              0  ...          0                        6\n",
              "\n",
              "[5 rows x 27 columns]"
            ]
          },
          "metadata": {
            "tags": []
          },
          "execution_count": 9
        }
      ]
    },
    {
      "cell_type": "code",
      "metadata": {
        "id": "Ie2XpX5QSGvy"
      },
      "source": [
        "# passing bridge-types-cat column (label encoded values of bridge_types)\n",
        "enc_df = pd.DataFrame(encoder.fit_transform(new_result_df[['Special_Measure_Key_Tmp']]).toarray())"
      ],
      "execution_count": 14,
      "outputs": []
    },
    {
      "cell_type": "code",
      "metadata": {
        "colab": {
          "base_uri": "https://localhost:8080/",
          "height": 275
        },
        "id": "KgeD6XxbSVCO",
        "outputId": "1f5118e4-425e-4a82-9d8a-9fa9aeaafdca"
      },
      "source": [
        "#  merge with main df bridge_df on key values\n",
        "new_result_df = new_result_df.join(enc_df)\n",
        "new_result_df.rename(columns={6: \"lockdown\", 10: \"stage 3 extended to toronto\", 2: \"Restart\", 1: \"Gatineau-Ottawa Travel Restriction\", 3: \"Parks Re-opened\"},inplace = True)\n",
        "new_result_df = new_result_df.drop(['Special_Measure_Key_Tmp'], axis=1)\n",
        "new_result_df.head()"
      ],
      "execution_count": 15,
      "outputs": [
        {
          "output_type": "execute_result",
          "data": {
            "text/html": [
              "<div>\n",
              "<style scoped>\n",
              "    .dataframe tbody tr th:only-of-type {\n",
              "        vertical-align: middle;\n",
              "    }\n",
              "\n",
              "    .dataframe tbody tr th {\n",
              "        vertical-align: top;\n",
              "    }\n",
              "\n",
              "    .dataframe thead th {\n",
              "        text-align: right;\n",
              "    }\n",
              "</style>\n",
              "<table border=\"1\" class=\"dataframe\">\n",
              "  <thead>\n",
              "    <tr style=\"text-align: right;\">\n",
              "      <th></th>\n",
              "      <th>Special_Measure_Key</th>\n",
              "      <th>age_group_20s</th>\n",
              "      <th>age_group_30s</th>\n",
              "      <th>age_group_40s</th>\n",
              "      <th>age_group_50s</th>\n",
              "      <th>age_group_60s</th>\n",
              "      <th>age_group_70s</th>\n",
              "      <th>age_group_80s</th>\n",
              "      <th>age_group_90+</th>\n",
              "      <th>age_group_&lt;20</th>\n",
              "      <th>age_group_UNKNOWN</th>\n",
              "      <th>reporting_phu_city_Ottawa</th>\n",
              "      <th>reporting_phu_city_Toronto</th>\n",
              "      <th>cause_of_infection_CC</th>\n",
              "      <th>cause_of_infection_MISSING INFORMATION</th>\n",
              "      <th>cause_of_infection_NO KNOWN EPI LINK</th>\n",
              "      <th>cause_of_infection_OB</th>\n",
              "      <th>cause_of_infection_TRAVEL</th>\n",
              "      <th>gender_FEMALE</th>\n",
              "      <th>gender_GENDER DIVERSE</th>\n",
              "      <th>gender_MALE</th>\n",
              "      <th>gender_UNSPECIFIED</th>\n",
              "      <th>Resolved_no</th>\n",
              "      <th>Resolved_yes</th>\n",
              "      <th>Fatal_no</th>\n",
              "      <th>Fatal_yes</th>\n",
              "      <th>0</th>\n",
              "      <th>Gatineau-Ottawa Travel Restriction</th>\n",
              "      <th>Restart</th>\n",
              "      <th>Parks Re-opened</th>\n",
              "      <th>4</th>\n",
              "      <th>5</th>\n",
              "      <th>lockdown</th>\n",
              "    </tr>\n",
              "  </thead>\n",
              "  <tbody>\n",
              "    <tr>\n",
              "      <th>0</th>\n",
              "      <td>11</td>\n",
              "      <td>0</td>\n",
              "      <td>0</td>\n",
              "      <td>1</td>\n",
              "      <td>0</td>\n",
              "      <td>0</td>\n",
              "      <td>0</td>\n",
              "      <td>0</td>\n",
              "      <td>0</td>\n",
              "      <td>0</td>\n",
              "      <td>0</td>\n",
              "      <td>0</td>\n",
              "      <td>1</td>\n",
              "      <td>0</td>\n",
              "      <td>0</td>\n",
              "      <td>0</td>\n",
              "      <td>1</td>\n",
              "      <td>0</td>\n",
              "      <td>1</td>\n",
              "      <td>0</td>\n",
              "      <td>0</td>\n",
              "      <td>0</td>\n",
              "      <td>0</td>\n",
              "      <td>1</td>\n",
              "      <td>1</td>\n",
              "      <td>0</td>\n",
              "      <td>0</td>\n",
              "      <td>0</td>\n",
              "      <td>0</td>\n",
              "      <td>0</td>\n",
              "      <td>0</td>\n",
              "      <td>0</td>\n",
              "      <td>1</td>\n",
              "    </tr>\n",
              "    <tr>\n",
              "      <th>1</th>\n",
              "      <td>11</td>\n",
              "      <td>0</td>\n",
              "      <td>1</td>\n",
              "      <td>0</td>\n",
              "      <td>0</td>\n",
              "      <td>0</td>\n",
              "      <td>0</td>\n",
              "      <td>0</td>\n",
              "      <td>0</td>\n",
              "      <td>0</td>\n",
              "      <td>0</td>\n",
              "      <td>0</td>\n",
              "      <td>1</td>\n",
              "      <td>0</td>\n",
              "      <td>0</td>\n",
              "      <td>0</td>\n",
              "      <td>1</td>\n",
              "      <td>0</td>\n",
              "      <td>1</td>\n",
              "      <td>0</td>\n",
              "      <td>0</td>\n",
              "      <td>0</td>\n",
              "      <td>0</td>\n",
              "      <td>1</td>\n",
              "      <td>1</td>\n",
              "      <td>0</td>\n",
              "      <td>0</td>\n",
              "      <td>0</td>\n",
              "      <td>0</td>\n",
              "      <td>0</td>\n",
              "      <td>0</td>\n",
              "      <td>0</td>\n",
              "      <td>1</td>\n",
              "    </tr>\n",
              "    <tr>\n",
              "      <th>2</th>\n",
              "      <td>11</td>\n",
              "      <td>0</td>\n",
              "      <td>0</td>\n",
              "      <td>0</td>\n",
              "      <td>0</td>\n",
              "      <td>0</td>\n",
              "      <td>0</td>\n",
              "      <td>0</td>\n",
              "      <td>1</td>\n",
              "      <td>0</td>\n",
              "      <td>0</td>\n",
              "      <td>0</td>\n",
              "      <td>1</td>\n",
              "      <td>0</td>\n",
              "      <td>0</td>\n",
              "      <td>0</td>\n",
              "      <td>1</td>\n",
              "      <td>0</td>\n",
              "      <td>1</td>\n",
              "      <td>0</td>\n",
              "      <td>0</td>\n",
              "      <td>0</td>\n",
              "      <td>1</td>\n",
              "      <td>0</td>\n",
              "      <td>0</td>\n",
              "      <td>1</td>\n",
              "      <td>0</td>\n",
              "      <td>0</td>\n",
              "      <td>0</td>\n",
              "      <td>0</td>\n",
              "      <td>0</td>\n",
              "      <td>0</td>\n",
              "      <td>1</td>\n",
              "    </tr>\n",
              "    <tr>\n",
              "      <th>3</th>\n",
              "      <td>11</td>\n",
              "      <td>0</td>\n",
              "      <td>0</td>\n",
              "      <td>0</td>\n",
              "      <td>0</td>\n",
              "      <td>0</td>\n",
              "      <td>0</td>\n",
              "      <td>1</td>\n",
              "      <td>0</td>\n",
              "      <td>0</td>\n",
              "      <td>0</td>\n",
              "      <td>0</td>\n",
              "      <td>1</td>\n",
              "      <td>0</td>\n",
              "      <td>0</td>\n",
              "      <td>0</td>\n",
              "      <td>1</td>\n",
              "      <td>0</td>\n",
              "      <td>1</td>\n",
              "      <td>0</td>\n",
              "      <td>0</td>\n",
              "      <td>0</td>\n",
              "      <td>0</td>\n",
              "      <td>1</td>\n",
              "      <td>1</td>\n",
              "      <td>0</td>\n",
              "      <td>0</td>\n",
              "      <td>0</td>\n",
              "      <td>0</td>\n",
              "      <td>0</td>\n",
              "      <td>0</td>\n",
              "      <td>0</td>\n",
              "      <td>1</td>\n",
              "    </tr>\n",
              "    <tr>\n",
              "      <th>4</th>\n",
              "      <td>11</td>\n",
              "      <td>0</td>\n",
              "      <td>0</td>\n",
              "      <td>0</td>\n",
              "      <td>1</td>\n",
              "      <td>0</td>\n",
              "      <td>0</td>\n",
              "      <td>0</td>\n",
              "      <td>0</td>\n",
              "      <td>0</td>\n",
              "      <td>0</td>\n",
              "      <td>0</td>\n",
              "      <td>1</td>\n",
              "      <td>0</td>\n",
              "      <td>0</td>\n",
              "      <td>0</td>\n",
              "      <td>1</td>\n",
              "      <td>0</td>\n",
              "      <td>1</td>\n",
              "      <td>0</td>\n",
              "      <td>0</td>\n",
              "      <td>0</td>\n",
              "      <td>0</td>\n",
              "      <td>1</td>\n",
              "      <td>1</td>\n",
              "      <td>0</td>\n",
              "      <td>0</td>\n",
              "      <td>0</td>\n",
              "      <td>0</td>\n",
              "      <td>0</td>\n",
              "      <td>0</td>\n",
              "      <td>0</td>\n",
              "      <td>1</td>\n",
              "    </tr>\n",
              "  </tbody>\n",
              "</table>\n",
              "</div>"
            ],
            "text/plain": [
              "   Special_Measure_Key  age_group_20s  age_group_30s  ...  4  5  lockdown\n",
              "0                   11              0              0  ...  0  0         1\n",
              "1                   11              0              1  ...  0  0         1\n",
              "2                   11              0              0  ...  0  0         1\n",
              "3                   11              0              0  ...  0  0         1\n",
              "4                   11              0              0  ...  0  0         1\n",
              "\n",
              "[5 rows x 33 columns]"
            ]
          },
          "metadata": {
            "tags": []
          },
          "execution_count": 15
        }
      ]
    },
    {
      "cell_type": "code",
      "metadata": {
        "colab": {
          "base_uri": "https://localhost:8080/",
          "height": 275
        },
        "id": "_DAlMuzRSw-0",
        "outputId": "daef5600-fd5e-4bab-b566-5cb8369b07a5"
      },
      "source": [
        "new_result_df = new_result_df.drop(['Special_Measure_Key', 4, 5], axis=1)\n",
        "new_result_df.head()"
      ],
      "execution_count": 16,
      "outputs": [
        {
          "output_type": "execute_result",
          "data": {
            "text/html": [
              "<div>\n",
              "<style scoped>\n",
              "    .dataframe tbody tr th:only-of-type {\n",
              "        vertical-align: middle;\n",
              "    }\n",
              "\n",
              "    .dataframe tbody tr th {\n",
              "        vertical-align: top;\n",
              "    }\n",
              "\n",
              "    .dataframe thead th {\n",
              "        text-align: right;\n",
              "    }\n",
              "</style>\n",
              "<table border=\"1\" class=\"dataframe\">\n",
              "  <thead>\n",
              "    <tr style=\"text-align: right;\">\n",
              "      <th></th>\n",
              "      <th>age_group_20s</th>\n",
              "      <th>age_group_30s</th>\n",
              "      <th>age_group_40s</th>\n",
              "      <th>age_group_50s</th>\n",
              "      <th>age_group_60s</th>\n",
              "      <th>age_group_70s</th>\n",
              "      <th>age_group_80s</th>\n",
              "      <th>age_group_90+</th>\n",
              "      <th>age_group_&lt;20</th>\n",
              "      <th>age_group_UNKNOWN</th>\n",
              "      <th>reporting_phu_city_Ottawa</th>\n",
              "      <th>reporting_phu_city_Toronto</th>\n",
              "      <th>cause_of_infection_CC</th>\n",
              "      <th>cause_of_infection_MISSING INFORMATION</th>\n",
              "      <th>cause_of_infection_NO KNOWN EPI LINK</th>\n",
              "      <th>cause_of_infection_OB</th>\n",
              "      <th>cause_of_infection_TRAVEL</th>\n",
              "      <th>gender_FEMALE</th>\n",
              "      <th>gender_GENDER DIVERSE</th>\n",
              "      <th>gender_MALE</th>\n",
              "      <th>gender_UNSPECIFIED</th>\n",
              "      <th>Resolved_no</th>\n",
              "      <th>Resolved_yes</th>\n",
              "      <th>Fatal_no</th>\n",
              "      <th>Fatal_yes</th>\n",
              "      <th>0</th>\n",
              "      <th>Gatineau-Ottawa Travel Restriction</th>\n",
              "      <th>Restart</th>\n",
              "      <th>Parks Re-opened</th>\n",
              "      <th>lockdown</th>\n",
              "    </tr>\n",
              "  </thead>\n",
              "  <tbody>\n",
              "    <tr>\n",
              "      <th>0</th>\n",
              "      <td>0</td>\n",
              "      <td>0</td>\n",
              "      <td>1</td>\n",
              "      <td>0</td>\n",
              "      <td>0</td>\n",
              "      <td>0</td>\n",
              "      <td>0</td>\n",
              "      <td>0</td>\n",
              "      <td>0</td>\n",
              "      <td>0</td>\n",
              "      <td>0</td>\n",
              "      <td>1</td>\n",
              "      <td>0</td>\n",
              "      <td>0</td>\n",
              "      <td>0</td>\n",
              "      <td>1</td>\n",
              "      <td>0</td>\n",
              "      <td>1</td>\n",
              "      <td>0</td>\n",
              "      <td>0</td>\n",
              "      <td>0</td>\n",
              "      <td>0</td>\n",
              "      <td>1</td>\n",
              "      <td>1</td>\n",
              "      <td>0</td>\n",
              "      <td>0</td>\n",
              "      <td>0</td>\n",
              "      <td>0</td>\n",
              "      <td>0</td>\n",
              "      <td>1</td>\n",
              "    </tr>\n",
              "    <tr>\n",
              "      <th>1</th>\n",
              "      <td>0</td>\n",
              "      <td>1</td>\n",
              "      <td>0</td>\n",
              "      <td>0</td>\n",
              "      <td>0</td>\n",
              "      <td>0</td>\n",
              "      <td>0</td>\n",
              "      <td>0</td>\n",
              "      <td>0</td>\n",
              "      <td>0</td>\n",
              "      <td>0</td>\n",
              "      <td>1</td>\n",
              "      <td>0</td>\n",
              "      <td>0</td>\n",
              "      <td>0</td>\n",
              "      <td>1</td>\n",
              "      <td>0</td>\n",
              "      <td>1</td>\n",
              "      <td>0</td>\n",
              "      <td>0</td>\n",
              "      <td>0</td>\n",
              "      <td>0</td>\n",
              "      <td>1</td>\n",
              "      <td>1</td>\n",
              "      <td>0</td>\n",
              "      <td>0</td>\n",
              "      <td>0</td>\n",
              "      <td>0</td>\n",
              "      <td>0</td>\n",
              "      <td>1</td>\n",
              "    </tr>\n",
              "    <tr>\n",
              "      <th>2</th>\n",
              "      <td>0</td>\n",
              "      <td>0</td>\n",
              "      <td>0</td>\n",
              "      <td>0</td>\n",
              "      <td>0</td>\n",
              "      <td>0</td>\n",
              "      <td>0</td>\n",
              "      <td>1</td>\n",
              "      <td>0</td>\n",
              "      <td>0</td>\n",
              "      <td>0</td>\n",
              "      <td>1</td>\n",
              "      <td>0</td>\n",
              "      <td>0</td>\n",
              "      <td>0</td>\n",
              "      <td>1</td>\n",
              "      <td>0</td>\n",
              "      <td>1</td>\n",
              "      <td>0</td>\n",
              "      <td>0</td>\n",
              "      <td>0</td>\n",
              "      <td>1</td>\n",
              "      <td>0</td>\n",
              "      <td>0</td>\n",
              "      <td>1</td>\n",
              "      <td>0</td>\n",
              "      <td>0</td>\n",
              "      <td>0</td>\n",
              "      <td>0</td>\n",
              "      <td>1</td>\n",
              "    </tr>\n",
              "    <tr>\n",
              "      <th>3</th>\n",
              "      <td>0</td>\n",
              "      <td>0</td>\n",
              "      <td>0</td>\n",
              "      <td>0</td>\n",
              "      <td>0</td>\n",
              "      <td>0</td>\n",
              "      <td>1</td>\n",
              "      <td>0</td>\n",
              "      <td>0</td>\n",
              "      <td>0</td>\n",
              "      <td>0</td>\n",
              "      <td>1</td>\n",
              "      <td>0</td>\n",
              "      <td>0</td>\n",
              "      <td>0</td>\n",
              "      <td>1</td>\n",
              "      <td>0</td>\n",
              "      <td>1</td>\n",
              "      <td>0</td>\n",
              "      <td>0</td>\n",
              "      <td>0</td>\n",
              "      <td>0</td>\n",
              "      <td>1</td>\n",
              "      <td>1</td>\n",
              "      <td>0</td>\n",
              "      <td>0</td>\n",
              "      <td>0</td>\n",
              "      <td>0</td>\n",
              "      <td>0</td>\n",
              "      <td>1</td>\n",
              "    </tr>\n",
              "    <tr>\n",
              "      <th>4</th>\n",
              "      <td>0</td>\n",
              "      <td>0</td>\n",
              "      <td>0</td>\n",
              "      <td>1</td>\n",
              "      <td>0</td>\n",
              "      <td>0</td>\n",
              "      <td>0</td>\n",
              "      <td>0</td>\n",
              "      <td>0</td>\n",
              "      <td>0</td>\n",
              "      <td>0</td>\n",
              "      <td>1</td>\n",
              "      <td>0</td>\n",
              "      <td>0</td>\n",
              "      <td>0</td>\n",
              "      <td>1</td>\n",
              "      <td>0</td>\n",
              "      <td>1</td>\n",
              "      <td>0</td>\n",
              "      <td>0</td>\n",
              "      <td>0</td>\n",
              "      <td>0</td>\n",
              "      <td>1</td>\n",
              "      <td>1</td>\n",
              "      <td>0</td>\n",
              "      <td>0</td>\n",
              "      <td>0</td>\n",
              "      <td>0</td>\n",
              "      <td>0</td>\n",
              "      <td>1</td>\n",
              "    </tr>\n",
              "  </tbody>\n",
              "</table>\n",
              "</div>"
            ],
            "text/plain": [
              "   age_group_20s  age_group_30s  ...  Parks Re-opened  lockdown\n",
              "0              0              0  ...                0         1\n",
              "1              0              1  ...                0         1\n",
              "2              0              0  ...                0         1\n",
              "3              0              0  ...                0         1\n",
              "4              0              0  ...                0         1\n",
              "\n",
              "[5 rows x 30 columns]"
            ]
          },
          "metadata": {
            "tags": []
          },
          "execution_count": 16
        }
      ]
    },
    {
      "cell_type": "code",
      "metadata": {
        "colab": {
          "base_uri": "https://localhost:8080/",
          "height": 275
        },
        "id": "UU3khCBSTlWZ",
        "outputId": "88377f75-1dbd-4868-dfc9-4a1871f3ea49"
      },
      "source": [
        "new_result_df['age_group_20s'] = new_result_df['age_group_20s'].astype(bool)\n",
        "new_result_df['age_group_30s'] = new_result_df['age_group_30s'].astype(bool)\n",
        "new_result_df['age_group_40s'] = new_result_df['age_group_40s'].astype(bool)\n",
        "new_result_df['age_group_50s'] = new_result_df['age_group_50s'].astype(bool)\n",
        "new_result_df['age_group_60s'] = new_result_df['age_group_60s'].astype(bool)\n",
        "new_result_df['age_group_70s'] = new_result_df['age_group_70s'].astype(bool)\n",
        "new_result_df['age_group_80s'] = new_result_df['age_group_80s'].astype(bool)\n",
        "new_result_df['age_group_90+'] = new_result_df['age_group_90+'].astype(bool)\n",
        "new_result_df['age_group_<20'] = new_result_df['age_group_<20'].astype(bool)\n",
        "new_result_df['age_group_UNKNOWN'] = new_result_df['age_group_UNKNOWN'].astype(bool)\n",
        "new_result_df.head()"
      ],
      "execution_count": 20,
      "outputs": [
        {
          "output_type": "execute_result",
          "data": {
            "text/html": [
              "<div>\n",
              "<style scoped>\n",
              "    .dataframe tbody tr th:only-of-type {\n",
              "        vertical-align: middle;\n",
              "    }\n",
              "\n",
              "    .dataframe tbody tr th {\n",
              "        vertical-align: top;\n",
              "    }\n",
              "\n",
              "    .dataframe thead th {\n",
              "        text-align: right;\n",
              "    }\n",
              "</style>\n",
              "<table border=\"1\" class=\"dataframe\">\n",
              "  <thead>\n",
              "    <tr style=\"text-align: right;\">\n",
              "      <th></th>\n",
              "      <th>age_group_20s</th>\n",
              "      <th>age_group_30s</th>\n",
              "      <th>age_group_40s</th>\n",
              "      <th>age_group_50s</th>\n",
              "      <th>age_group_60s</th>\n",
              "      <th>age_group_70s</th>\n",
              "      <th>age_group_80s</th>\n",
              "      <th>age_group_90+</th>\n",
              "      <th>age_group_&lt;20</th>\n",
              "      <th>age_group_UNKNOWN</th>\n",
              "      <th>reporting_phu_city_Ottawa</th>\n",
              "      <th>reporting_phu_city_Toronto</th>\n",
              "      <th>cause_of_infection_CC</th>\n",
              "      <th>cause_of_infection_MISSING INFORMATION</th>\n",
              "      <th>cause_of_infection_NO KNOWN EPI LINK</th>\n",
              "      <th>cause_of_infection_OB</th>\n",
              "      <th>cause_of_infection_TRAVEL</th>\n",
              "      <th>gender_FEMALE</th>\n",
              "      <th>gender_GENDER DIVERSE</th>\n",
              "      <th>gender_MALE</th>\n",
              "      <th>gender_UNSPECIFIED</th>\n",
              "      <th>Resolved_no</th>\n",
              "      <th>Resolved_yes</th>\n",
              "      <th>Fatal_no</th>\n",
              "      <th>Fatal_yes</th>\n",
              "      <th>0</th>\n",
              "      <th>Gatineau-Ottawa Travel Restriction</th>\n",
              "      <th>Restart</th>\n",
              "      <th>Parks Re-opened</th>\n",
              "      <th>lockdown</th>\n",
              "    </tr>\n",
              "  </thead>\n",
              "  <tbody>\n",
              "    <tr>\n",
              "      <th>0</th>\n",
              "      <td>False</td>\n",
              "      <td>False</td>\n",
              "      <td>True</td>\n",
              "      <td>False</td>\n",
              "      <td>False</td>\n",
              "      <td>False</td>\n",
              "      <td>False</td>\n",
              "      <td>False</td>\n",
              "      <td>False</td>\n",
              "      <td>False</td>\n",
              "      <td>0</td>\n",
              "      <td>1</td>\n",
              "      <td>0</td>\n",
              "      <td>0</td>\n",
              "      <td>0</td>\n",
              "      <td>1</td>\n",
              "      <td>0</td>\n",
              "      <td>1</td>\n",
              "      <td>0</td>\n",
              "      <td>0</td>\n",
              "      <td>0</td>\n",
              "      <td>0</td>\n",
              "      <td>1</td>\n",
              "      <td>1</td>\n",
              "      <td>0</td>\n",
              "      <td>0</td>\n",
              "      <td>0</td>\n",
              "      <td>0</td>\n",
              "      <td>0</td>\n",
              "      <td>1</td>\n",
              "    </tr>\n",
              "    <tr>\n",
              "      <th>1</th>\n",
              "      <td>False</td>\n",
              "      <td>True</td>\n",
              "      <td>False</td>\n",
              "      <td>False</td>\n",
              "      <td>False</td>\n",
              "      <td>False</td>\n",
              "      <td>False</td>\n",
              "      <td>False</td>\n",
              "      <td>False</td>\n",
              "      <td>False</td>\n",
              "      <td>0</td>\n",
              "      <td>1</td>\n",
              "      <td>0</td>\n",
              "      <td>0</td>\n",
              "      <td>0</td>\n",
              "      <td>1</td>\n",
              "      <td>0</td>\n",
              "      <td>1</td>\n",
              "      <td>0</td>\n",
              "      <td>0</td>\n",
              "      <td>0</td>\n",
              "      <td>0</td>\n",
              "      <td>1</td>\n",
              "      <td>1</td>\n",
              "      <td>0</td>\n",
              "      <td>0</td>\n",
              "      <td>0</td>\n",
              "      <td>0</td>\n",
              "      <td>0</td>\n",
              "      <td>1</td>\n",
              "    </tr>\n",
              "    <tr>\n",
              "      <th>2</th>\n",
              "      <td>False</td>\n",
              "      <td>False</td>\n",
              "      <td>False</td>\n",
              "      <td>False</td>\n",
              "      <td>False</td>\n",
              "      <td>False</td>\n",
              "      <td>False</td>\n",
              "      <td>True</td>\n",
              "      <td>False</td>\n",
              "      <td>False</td>\n",
              "      <td>0</td>\n",
              "      <td>1</td>\n",
              "      <td>0</td>\n",
              "      <td>0</td>\n",
              "      <td>0</td>\n",
              "      <td>1</td>\n",
              "      <td>0</td>\n",
              "      <td>1</td>\n",
              "      <td>0</td>\n",
              "      <td>0</td>\n",
              "      <td>0</td>\n",
              "      <td>1</td>\n",
              "      <td>0</td>\n",
              "      <td>0</td>\n",
              "      <td>1</td>\n",
              "      <td>0</td>\n",
              "      <td>0</td>\n",
              "      <td>0</td>\n",
              "      <td>0</td>\n",
              "      <td>1</td>\n",
              "    </tr>\n",
              "    <tr>\n",
              "      <th>3</th>\n",
              "      <td>False</td>\n",
              "      <td>False</td>\n",
              "      <td>False</td>\n",
              "      <td>False</td>\n",
              "      <td>False</td>\n",
              "      <td>False</td>\n",
              "      <td>True</td>\n",
              "      <td>False</td>\n",
              "      <td>False</td>\n",
              "      <td>False</td>\n",
              "      <td>0</td>\n",
              "      <td>1</td>\n",
              "      <td>0</td>\n",
              "      <td>0</td>\n",
              "      <td>0</td>\n",
              "      <td>1</td>\n",
              "      <td>0</td>\n",
              "      <td>1</td>\n",
              "      <td>0</td>\n",
              "      <td>0</td>\n",
              "      <td>0</td>\n",
              "      <td>0</td>\n",
              "      <td>1</td>\n",
              "      <td>1</td>\n",
              "      <td>0</td>\n",
              "      <td>0</td>\n",
              "      <td>0</td>\n",
              "      <td>0</td>\n",
              "      <td>0</td>\n",
              "      <td>1</td>\n",
              "    </tr>\n",
              "    <tr>\n",
              "      <th>4</th>\n",
              "      <td>False</td>\n",
              "      <td>False</td>\n",
              "      <td>False</td>\n",
              "      <td>True</td>\n",
              "      <td>False</td>\n",
              "      <td>False</td>\n",
              "      <td>False</td>\n",
              "      <td>False</td>\n",
              "      <td>False</td>\n",
              "      <td>False</td>\n",
              "      <td>0</td>\n",
              "      <td>1</td>\n",
              "      <td>0</td>\n",
              "      <td>0</td>\n",
              "      <td>0</td>\n",
              "      <td>1</td>\n",
              "      <td>0</td>\n",
              "      <td>1</td>\n",
              "      <td>0</td>\n",
              "      <td>0</td>\n",
              "      <td>0</td>\n",
              "      <td>0</td>\n",
              "      <td>1</td>\n",
              "      <td>1</td>\n",
              "      <td>0</td>\n",
              "      <td>0</td>\n",
              "      <td>0</td>\n",
              "      <td>0</td>\n",
              "      <td>0</td>\n",
              "      <td>1</td>\n",
              "    </tr>\n",
              "  </tbody>\n",
              "</table>\n",
              "</div>"
            ],
            "text/plain": [
              "   age_group_20s  age_group_30s  ...  Parks Re-opened  lockdown\n",
              "0          False          False  ...                0         1\n",
              "1          False           True  ...                0         1\n",
              "2          False          False  ...                0         1\n",
              "3          False          False  ...                0         1\n",
              "4          False          False  ...                0         1\n",
              "\n",
              "[5 rows x 30 columns]"
            ]
          },
          "metadata": {
            "tags": []
          },
          "execution_count": 20
        }
      ]
    },
    {
      "cell_type": "markdown",
      "metadata": {
        "id": "TdZMoBF0T9n_"
      },
      "source": [
        "### Undersampling"
      ]
    },
    {
      "cell_type": "code",
      "metadata": {
        "colab": {
          "base_uri": "https://localhost:8080/"
        },
        "id": "YWx2epJPUB_p",
        "outputId": "94ad7a03-542c-4a53-de47-258f98364ba9"
      },
      "source": [
        "from collections import Counter \n",
        "Counter(new_result_df['age_group_20s'])"
      ],
      "execution_count": 24,
      "outputs": [
        {
          "output_type": "execute_result",
          "data": {
            "text/plain": [
              "Counter({False: 13125, True: 2131})"
            ]
          },
          "metadata": {
            "tags": []
          },
          "execution_count": 24
        }
      ]
    },
    {
      "cell_type": "code",
      "metadata": {
        "colab": {
          "base_uri": "https://localhost:8080/"
        },
        "id": "A4OfLXFZUUtd",
        "outputId": "16f0f45f-1a6a-4535-bb59-62cc3189c0c7"
      },
      "source": [
        "Counter(new_result_df['age_group_30s'])"
      ],
      "execution_count": 25,
      "outputs": [
        {
          "output_type": "execute_result",
          "data": {
            "text/plain": [
              "Counter({False: 13219, True: 2037})"
            ]
          },
          "metadata": {
            "tags": []
          },
          "execution_count": 25
        }
      ]
    },
    {
      "cell_type": "code",
      "metadata": {
        "colab": {
          "base_uri": "https://localhost:8080/"
        },
        "id": "ZjZVBjzIUV_A",
        "outputId": "34ac9c66-2169-4670-cc75-d90a9c4676f8"
      },
      "source": [
        "Counter(new_result_df['age_group_40s'])"
      ],
      "execution_count": 26,
      "outputs": [
        {
          "output_type": "execute_result",
          "data": {
            "text/plain": [
              "Counter({False: 13149, True: 2107})"
            ]
          },
          "metadata": {
            "tags": []
          },
          "execution_count": 26
        }
      ]
    },
    {
      "cell_type": "code",
      "metadata": {
        "colab": {
          "base_uri": "https://localhost:8080/"
        },
        "id": "ZZfVsBSvUXO-",
        "outputId": "05f56970-60ba-401a-c3f5-d698df8fe849"
      },
      "source": [
        "Counter(new_result_df['age_group_50s'])"
      ],
      "execution_count": 27,
      "outputs": [
        {
          "output_type": "execute_result",
          "data": {
            "text/plain": [
              "Counter({False: 12859, True: 2397})"
            ]
          },
          "metadata": {
            "tags": []
          },
          "execution_count": 27
        }
      ]
    },
    {
      "cell_type": "code",
      "metadata": {
        "colab": {
          "base_uri": "https://localhost:8080/"
        },
        "id": "-xo49xTnUYnb",
        "outputId": "165d5dd5-ceba-4349-c9ff-7cff7f736403"
      },
      "source": [
        "Counter(new_result_df['age_group_60s'])"
      ],
      "execution_count": 28,
      "outputs": [
        {
          "output_type": "execute_result",
          "data": {
            "text/plain": [
              "Counter({False: 13612, True: 1644})"
            ]
          },
          "metadata": {
            "tags": []
          },
          "execution_count": 28
        }
      ]
    },
    {
      "cell_type": "code",
      "metadata": {
        "colab": {
          "base_uri": "https://localhost:8080/"
        },
        "id": "duDHS0ZdUZ96",
        "outputId": "49d04e07-7323-4be1-8687-00f03eafa7f2"
      },
      "source": [
        "Counter(new_result_df['age_group_70s'])"
      ],
      "execution_count": 29,
      "outputs": [
        {
          "output_type": "execute_result",
          "data": {
            "text/plain": [
              "Counter({False: 14135, True: 1121})"
            ]
          },
          "metadata": {
            "tags": []
          },
          "execution_count": 29
        }
      ]
    },
    {
      "cell_type": "code",
      "metadata": {
        "colab": {
          "base_uri": "https://localhost:8080/"
        },
        "id": "uLXitzRpUbGA",
        "outputId": "d32a4b3b-4e64-4b71-e7f1-9ffa93bbf9b3"
      },
      "source": [
        "Counter(new_result_df['age_group_80s'])"
      ],
      "execution_count": 30,
      "outputs": [
        {
          "output_type": "execute_result",
          "data": {
            "text/plain": [
              "Counter({False: 13569, True: 1687})"
            ]
          },
          "metadata": {
            "tags": []
          },
          "execution_count": 30
        }
      ]
    },
    {
      "cell_type": "code",
      "metadata": {
        "colab": {
          "base_uri": "https://localhost:8080/"
        },
        "id": "RZSyy0hWUcnO",
        "outputId": "724d45c8-82c4-4532-b45c-5f5b9887a0c9"
      },
      "source": [
        "Counter(new_result_df['age_group_90+'])"
      ],
      "execution_count": 31,
      "outputs": [
        {
          "output_type": "execute_result",
          "data": {
            "text/plain": [
              "Counter({False: 13973, True: 1283})"
            ]
          },
          "metadata": {
            "tags": []
          },
          "execution_count": 31
        }
      ]
    },
    {
      "cell_type": "code",
      "metadata": {
        "colab": {
          "base_uri": "https://localhost:8080/"
        },
        "id": "l282DhMoUd1O",
        "outputId": "be7bee6e-ce86-4d2f-95ec-d885834b37de"
      },
      "source": [
        "Counter(new_result_df['age_group_<20'])"
      ],
      "execution_count": 32,
      "outputs": [
        {
          "output_type": "execute_result",
          "data": {
            "text/plain": [
              "Counter({False: 14408, True: 848})"
            ]
          },
          "metadata": {
            "tags": []
          },
          "execution_count": 32
        }
      ]
    },
    {
      "cell_type": "markdown",
      "metadata": {
        "id": "dxQO7GeDUfCC"
      },
      "source": [
        "All classes are highly imbalanced. It's even more clear by plotting 'age group 20s'."
      ]
    },
    {
      "cell_type": "code",
      "metadata": {
        "colab": {
          "base_uri": "https://localhost:8080/",
          "height": 248
        },
        "id": "5h7XPdmeUqvC",
        "outputId": "4666c2c9-2fc5-46cf-a3cd-3c6954018586"
      },
      "source": [
        "import matplotlib.pyplot as plt\n",
        "\n",
        "labels = 'True', 'False'\n",
        "sizes = [13125, 2131]\n",
        "\n",
        "fig1, ax1 = plt.subplots()\n",
        "ax1.pie(sizes, labels=labels, autopct='%1.1f%%', startangle=90)\n",
        "ax1.axis('equal')\n",
        "\n",
        "plt.show()"
      ],
      "execution_count": 36,
      "outputs": [
        {
          "output_type": "display_data",
          "data": {
            "image/png": "[encoded data removed]",
            "text/plain": [
              "<Figure size 432x288 with 1 Axes>"
            ]
          },
          "metadata": {
            "tags": []
          }
        }
      ]
    },
    {
      "cell_type": "markdown",
      "metadata": {
        "id": "1o93Ob4HWT8_"
      },
      "source": [
        "Therefore, it is likely if we train our model to classify 'age group 20s' on this dataset, during testing it will more often than not predict false."
      ]
    },
    {
      "cell_type": "code",
      "metadata": {
        "colab": {
          "base_uri": "https://localhost:8080/"
        },
        "id": "zceyWZX2Wm4E",
        "outputId": "6e54abe0-e5b9-4986-82c2-d849c9de6184"
      },
      "source": [
        "from sklearn.utils import resample\n",
        "\n",
        "df_majority = new_result_df[new_result_df.age_group_20s==False]\n",
        "df_minority = new_result_df[new_result_df.age_group_20s==True]\n",
        "\n",
        "df_majority_upsampled = resample(df_majority, \n",
        "                                 replace=True,     # sample with replacement\n",
        "                                 n_samples=2131,    # to match minority class\n",
        "                                 random_state=42)\n",
        "\n",
        "df_upsampled = pd.concat([df_minority, df_majority_upsampled])\n",
        "\n",
        "df_upsampled.age_group_20s.value_counts()"
      ],
      "execution_count": 53,
      "outputs": [
        {
          "output_type": "execute_result",
          "data": {
            "text/plain": [
              "True     2131\n",
              "False    2131\n",
              "Name: age_group_20s, dtype: int64"
            ]
          },
          "metadata": {
            "tags": []
          },
          "execution_count": 53
        }
      ]
    }
  ]
}