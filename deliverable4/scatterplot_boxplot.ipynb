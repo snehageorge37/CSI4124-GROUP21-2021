{
 "cells": [
  {
   "cell_type": "code",
   "execution_count": 1,
   "metadata": {},
   "outputs": [],
   "source": [
    "import numpy as np\n",
    "import pandas as pd\n",
    "import matplotlib.pyplot as plt\n",
    "import psycopg2\n",
    "from sklearn import preprocessing\n",
    "import seaborn as sns "
   ]
  },
  {
   "cell_type": "code",
   "execution_count": 2,
   "metadata": {},
   "outputs": [
    {
     "name": "stdout",
     "output_type": "stream",
     "text": [
      "Connecting to the PostgreSQL database...\n",
      "***Connection established***\n",
      "[(44146, 'Ottawa Division', 'Ontario', -58, -31, -28, -72, -73, 28, datetime.date(2020, 4, 1)), (44147, 'Ottawa Division', 'Ontario', -58, -30, -25, -74, -74, 29, datetime.date(2020, 4, 2)), (44148, 'Ottawa Division', 'Ontario', -63, -33, -44, -75, -73, 31, datetime.date(2020, 4, 3)), (44149, 'Ottawa Division', 'Ontario', -60, -34, 12, -59, -48, 14, datetime.date(2020, 4, 4)), (44150, 'Ottawa Division', 'Ontario', -63, -38, -21, -70, -48, 13, datetime.date(2020, 4, 5)), (44151, 'Ottawa Division', 'Ontario', -59, -31, -11, -74, -74, 27, datetime.date(2020, 4, 6)), (44152, 'Ottawa Division', 'Ontario', -60, -28, -28, -75, -74, 28, datetime.date(2020, 4, 7)), (44153, 'Ottawa Division', 'Ontario', -59, -24, -45, -75, -74, 29, datetime.date(2020, 4, 8)), (44154, 'Ottawa Division', 'Ontario', -53, -6, -53, -77, -75, 29, datetime.date(2020, 4, 9)), (44155, 'Ottawa Division', 'Ontario', -86, -80, -54, -85, -89, 38, datetime.date(2020, 4, 10))]\n",
      "\n",
      "\n",
      "\n",
      "[(0, 250, datetime.date(2020, 5, 3), '40s', 'FEMALE', 'OB', 'Yes', 'Toronto'), (1, 259, datetime.date(2020, 3, 25), '50s', 'MALE', 'NO KNOWN EPI LINK', 'No', 'Toronto'), (2, 322, datetime.date(2020, 4, 20), '30s', 'FEMALE', 'OB', 'Yes', 'Toronto'), (3, 326, datetime.date(2020, 4, 6), '90+', 'FEMALE', 'OB', 'Yes', 'Toronto'), (4, 347, datetime.date(2020, 4, 17), '80s', 'FEMALE', 'OB', 'Yes', 'Toronto'), (5, 692, datetime.date(2020, 4, 26), '50s', 'FEMALE', 'OB', 'Yes', 'Toronto'), (6, 868, datetime.date(2020, 4, 22), '30s', 'FEMALE', 'OB', 'Yes', 'Toronto'), (7, 1347, datetime.date(2020, 4, 14), '50s', 'FEMALE', 'OB', 'Yes', 'Toronto'), (8, 2760, datetime.date(2020, 5, 9), '50s', 'MALE', 'OB', 'Yes', 'Toronto'), (9, 3354, datetime.date(2020, 5, 3), '20s', 'FEMALE', 'OB', 'Yes', 'Toronto')]\n",
      "***Connection terminated***\n"
     ]
    }
   ],
   "source": [
    "mobility_table = []\n",
    "individual_table = []\n",
    "\n",
    "def connect():\n",
    "    \"\"\" Connect to the PostgreSQL database server \"\"\"\n",
    "    conn = None\n",
    "    try:\n",
    "        # connect to the PostgreSQL server\n",
    "        print('Connecting to the PostgreSQL database...')\n",
    "        return psycopg2.connect(\n",
    "            host=\"www.eecs.uottawa.ca\",\n",
    "            database=\"group_21\",\n",
    "            user=\"****\",\n",
    "            password=\"****\",\n",
    "            port=\"15432\"\n",
    "        )\n",
    "    except (Exception, psycopg2.DatabaseError) as error:\n",
    "        print(error)\n",
    "\n",
    "\n",
    "connection = connect()\n",
    "print('***Connection established***')\n",
    "\n",
    "cur = connection.cursor()\n",
    "        \n",
    "# execute a statement\n",
    "cur.execute('SELECT * FROM mobility')\n",
    "rows = cur.fetchall()\n",
    "mobility_table = rows\n",
    "print(mobility_table[:10])\n",
    "\n",
    "\n",
    "print(\"\\n\\n\")\n",
    "\n",
    "\n",
    "cur.execute('SELECT * FROM individuals')\n",
    "rows = cur.fetchall()\n",
    "individual_table = rows\n",
    "print(individual_table[:10])\n",
    "\n",
    "cur.close()\n",
    "connection.close()\n",
    "print('***Connection terminated***')"
   ]
  },
  {
   "cell_type": "code",
   "execution_count": 3,
   "metadata": {},
   "outputs": [
    {
     "data": {
      "text/html": [
       "<div>\n",
       "<style scoped>\n",
       "    .dataframe tbody tr th:only-of-type {\n",
       "        vertical-align: middle;\n",
       "    }\n",
       "\n",
       "    .dataframe tbody tr th {\n",
       "        vertical-align: top;\n",
       "    }\n",
       "\n",
       "    .dataframe thead th {\n",
       "        text-align: right;\n",
       "    }\n",
       "</style>\n",
       "<table border=\"1\" class=\"dataframe\">\n",
       "  <thead>\n",
       "    <tr style=\"text-align: right;\">\n",
       "      <th></th>\n",
       "      <th>surrogate_key</th>\n",
       "      <th>individual_id</th>\n",
       "      <th>date</th>\n",
       "      <th>age_group</th>\n",
       "      <th>gender</th>\n",
       "      <th>cause_of_infection</th>\n",
       "      <th>outbreak_related</th>\n",
       "      <th>reporting_phu_city</th>\n",
       "    </tr>\n",
       "  </thead>\n",
       "  <tbody>\n",
       "    <tr>\n",
       "      <th>0</th>\n",
       "      <td>0</td>\n",
       "      <td>250</td>\n",
       "      <td>2020-05-03</td>\n",
       "      <td>40s</td>\n",
       "      <td>FEMALE</td>\n",
       "      <td>OB</td>\n",
       "      <td>Yes</td>\n",
       "      <td>Toronto</td>\n",
       "    </tr>\n",
       "    <tr>\n",
       "      <th>1</th>\n",
       "      <td>1</td>\n",
       "      <td>259</td>\n",
       "      <td>2020-03-25</td>\n",
       "      <td>50s</td>\n",
       "      <td>MALE</td>\n",
       "      <td>NO KNOWN EPI LINK</td>\n",
       "      <td>No</td>\n",
       "      <td>Toronto</td>\n",
       "    </tr>\n",
       "    <tr>\n",
       "      <th>2</th>\n",
       "      <td>2</td>\n",
       "      <td>322</td>\n",
       "      <td>2020-04-20</td>\n",
       "      <td>30s</td>\n",
       "      <td>FEMALE</td>\n",
       "      <td>OB</td>\n",
       "      <td>Yes</td>\n",
       "      <td>Toronto</td>\n",
       "    </tr>\n",
       "    <tr>\n",
       "      <th>3</th>\n",
       "      <td>3</td>\n",
       "      <td>326</td>\n",
       "      <td>2020-04-06</td>\n",
       "      <td>90+</td>\n",
       "      <td>FEMALE</td>\n",
       "      <td>OB</td>\n",
       "      <td>Yes</td>\n",
       "      <td>Toronto</td>\n",
       "    </tr>\n",
       "    <tr>\n",
       "      <th>4</th>\n",
       "      <td>4</td>\n",
       "      <td>347</td>\n",
       "      <td>2020-04-17</td>\n",
       "      <td>80s</td>\n",
       "      <td>FEMALE</td>\n",
       "      <td>OB</td>\n",
       "      <td>Yes</td>\n",
       "      <td>Toronto</td>\n",
       "    </tr>\n",
       "  </tbody>\n",
       "</table>\n",
       "</div>"
      ],
      "text/plain": [
       "   surrogate_key  individual_id        date age_group  gender  \\\n",
       "0              0            250  2020-05-03       40s  FEMALE   \n",
       "1              1            259  2020-03-25       50s    MALE   \n",
       "2              2            322  2020-04-20       30s  FEMALE   \n",
       "3              3            326  2020-04-06       90+  FEMALE   \n",
       "4              4            347  2020-04-17       80s  FEMALE   \n",
       "\n",
       "  cause_of_infection outbreak_related reporting_phu_city  \n",
       "0                 OB              Yes            Toronto  \n",
       "1  NO KNOWN EPI LINK               No            Toronto  \n",
       "2                 OB              Yes            Toronto  \n",
       "3                 OB              Yes            Toronto  \n",
       "4                 OB              Yes            Toronto  "
      ]
     },
     "execution_count": 3,
     "metadata": {},
     "output_type": "execute_result"
    }
   ],
   "source": [
    "result_df = pd.DataFrame(individual_table, columns=['surrogate_key', 'individual_id', 'date', 'age_group', 'gender', 'cause_of_infection', 'outbreak_related', 'reporting_phu_city'])\n",
    "result_df.head()"
   ]
  },
  {
   "cell_type": "markdown",
   "metadata": {},
   "source": [
    "### Scatter plot"
   ]
  },
  {
   "cell_type": "code",
   "execution_count": 4,
   "metadata": {},
   "outputs": [],
   "source": [
    "#Drop id column\n",
    "result_df = result_df.drop(columns =['surrogate_key', 'individual_id'])"
   ]
  },
  {
   "cell_type": "code",
   "execution_count": 5,
   "metadata": {},
   "outputs": [],
   "source": [
    "#creating labelEncoder\n",
    "le = preprocessing.LabelEncoder()"
   ]
  },
  {
   "cell_type": "code",
   "execution_count": 6,
   "metadata": {},
   "outputs": [
    {
     "data": {
      "image/png": "[encoded data removed]",
      "text/plain": [
       "<Figure size 432x288 with 1 Axes>"
      ]
     },
     "metadata": {
      "needs_background": "light"
     },
     "output_type": "display_data"
    }
   ],
   "source": [
    "# Converting string labels into numbers.\n",
    "#result_df.age_group = le.fit_transform(result_df.age_group)\n",
    "x = result_df.iloc[:, :-1].values\n",
    "y = result_df.iloc[:, 4].values\n",
    "plt.scatter(x[:,1], x[:, 3], c='blue', cmap ='flag')\n",
    "plt.xlabel('age')\n",
    "plt.ylabel('cause of infection')\n",
    "plt.show()"
   ]
  },
  {
   "cell_type": "markdown",
   "metadata": {},
   "source": [
    "### Boxplot"
   ]
  },
  {
   "cell_type": "code",
   "execution_count": 7,
   "metadata": {},
   "outputs": [
    {
     "data": {
      "text/html": [
       "<div>\n",
       "<style scoped>\n",
       "    .dataframe tbody tr th:only-of-type {\n",
       "        vertical-align: middle;\n",
       "    }\n",
       "\n",
       "    .dataframe tbody tr th {\n",
       "        vertical-align: top;\n",
       "    }\n",
       "\n",
       "    .dataframe thead th {\n",
       "        text-align: right;\n",
       "    }\n",
       "</style>\n",
       "<table border=\"1\" class=\"dataframe\">\n",
       "  <thead>\n",
       "    <tr style=\"text-align: right;\">\n",
       "      <th></th>\n",
       "      <th>mobility_id</th>\n",
       "      <th>metro_area</th>\n",
       "      <th>sub_region</th>\n",
       "      <th>retail_and_rec</th>\n",
       "      <th>grocery_and_pharma</th>\n",
       "      <th>parks</th>\n",
       "      <th>transit_stations</th>\n",
       "      <th>workplaces</th>\n",
       "      <th>residential</th>\n",
       "      <th>date</th>\n",
       "    </tr>\n",
       "  </thead>\n",
       "  <tbody>\n",
       "    <tr>\n",
       "      <th>0</th>\n",
       "      <td>44146</td>\n",
       "      <td>Ottawa Division</td>\n",
       "      <td>Ontario</td>\n",
       "      <td>-58</td>\n",
       "      <td>-31</td>\n",
       "      <td>-28</td>\n",
       "      <td>-72</td>\n",
       "      <td>-73</td>\n",
       "      <td>28</td>\n",
       "      <td>2020-04-01</td>\n",
       "    </tr>\n",
       "    <tr>\n",
       "      <th>1</th>\n",
       "      <td>44147</td>\n",
       "      <td>Ottawa Division</td>\n",
       "      <td>Ontario</td>\n",
       "      <td>-58</td>\n",
       "      <td>-30</td>\n",
       "      <td>-25</td>\n",
       "      <td>-74</td>\n",
       "      <td>-74</td>\n",
       "      <td>29</td>\n",
       "      <td>2020-04-02</td>\n",
       "    </tr>\n",
       "    <tr>\n",
       "      <th>2</th>\n",
       "      <td>44148</td>\n",
       "      <td>Ottawa Division</td>\n",
       "      <td>Ontario</td>\n",
       "      <td>-63</td>\n",
       "      <td>-33</td>\n",
       "      <td>-44</td>\n",
       "      <td>-75</td>\n",
       "      <td>-73</td>\n",
       "      <td>31</td>\n",
       "      <td>2020-04-03</td>\n",
       "    </tr>\n",
       "    <tr>\n",
       "      <th>3</th>\n",
       "      <td>44149</td>\n",
       "      <td>Ottawa Division</td>\n",
       "      <td>Ontario</td>\n",
       "      <td>-60</td>\n",
       "      <td>-34</td>\n",
       "      <td>12</td>\n",
       "      <td>-59</td>\n",
       "      <td>-48</td>\n",
       "      <td>14</td>\n",
       "      <td>2020-04-04</td>\n",
       "    </tr>\n",
       "    <tr>\n",
       "      <th>4</th>\n",
       "      <td>44150</td>\n",
       "      <td>Ottawa Division</td>\n",
       "      <td>Ontario</td>\n",
       "      <td>-63</td>\n",
       "      <td>-38</td>\n",
       "      <td>-21</td>\n",
       "      <td>-70</td>\n",
       "      <td>-48</td>\n",
       "      <td>13</td>\n",
       "      <td>2020-04-05</td>\n",
       "    </tr>\n",
       "  </tbody>\n",
       "</table>\n",
       "</div>"
      ],
      "text/plain": [
       "   mobility_id       metro_area sub_region  retail_and_rec  \\\n",
       "0        44146  Ottawa Division    Ontario             -58   \n",
       "1        44147  Ottawa Division    Ontario             -58   \n",
       "2        44148  Ottawa Division    Ontario             -63   \n",
       "3        44149  Ottawa Division    Ontario             -60   \n",
       "4        44150  Ottawa Division    Ontario             -63   \n",
       "\n",
       "   grocery_and_pharma  parks  transit_stations  workplaces  residential  \\\n",
       "0                 -31    -28               -72         -73           28   \n",
       "1                 -30    -25               -74         -74           29   \n",
       "2                 -33    -44               -75         -73           31   \n",
       "3                 -34     12               -59         -48           14   \n",
       "4                 -38    -21               -70         -48           13   \n",
       "\n",
       "         date  \n",
       "0  2020-04-01  \n",
       "1  2020-04-02  \n",
       "2  2020-04-03  \n",
       "3  2020-04-04  \n",
       "4  2020-04-05  "
      ]
     },
     "execution_count": 7,
     "metadata": {},
     "output_type": "execute_result"
    }
   ],
   "source": [
    "mob_df = pd.DataFrame(mobility_table, columns=[\"mobility_id\", \"metro_area\", \"sub_region\", \"retail_and_rec\", \"grocery_and_pharma\", \"parks\", \"transit_stations\", \"workplaces\", \"residential\", \"date\"])\n",
    "mob_df.head()\n",
    "\n"
   ]
  },
  {
   "cell_type": "code",
   "execution_count": 8,
   "metadata": {},
   "outputs": [
    {
     "data": {
      "text/plain": [
       "<AxesSubplot:title={'center':'workplaces'}, xlabel='metro_area'>"
      ]
     },
     "execution_count": 8,
     "metadata": {},
     "output_type": "execute_result"
    },
    {
     "data": {
      "image/png": "[encoded data removed]",
      "text/plain": [
       "<Figure size 432x288 with 1 Axes>"
      ]
     },
     "metadata": {
      "needs_background": "light"
     },
     "output_type": "display_data"
    }
   ],
   "source": [
    "mob_df.boxplot(by ='metro_area', column =['workplaces'], grid = False)"
   ]
  },
  {
   "cell_type": "code",
   "execution_count": null,
   "metadata": {},
   "outputs": [],
   "source": []
  },
  {
   "cell_type": "code",
   "execution_count": null,
   "metadata": {},
   "outputs": [],
   "source": []
  }
 ],
 "metadata": {
  "kernelspec": {
   "display_name": "Python 3",
   "language": "python",
   "name": "python3"
  },
  "language_info": {
   "codemirror_mode": {
    "name": "ipython",
    "version": 3
   },
   "file_extension": ".py",
   "mimetype": "text/x-python",
   "name": "python",
   "nbconvert_exporter": "python",
   "pygments_lexer": "ipython3",
   "version": "3.8.5"
  }
 },
 "nbformat": 4,
 "nbformat_minor": 4
}
