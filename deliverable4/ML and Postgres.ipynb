{
 "cells": [
  {
   "cell_type": "code",
   "execution_count": 1,
   "metadata": {},
   "outputs": [],
   "source": [
    "from configparser import ConfigParser\n",
    "import psycopg2\n",
    "import numpy as np\n",
    "import pandas as pd\n",
    "from sklearn.model_selection import train_test_split\n",
    "from sklearn.tree import DecisionTreeClassifier\n",
    "from sklearn.svm import LinearSVC\n",
    "from sklearn.metrics import recall_score, precision_score\n",
    "#Can be very helpful to notice any imbalance in classes\n",
    "from collections import Counter "
   ]
  },
  {
   "cell_type": "markdown",
   "metadata": {},
   "source": [
    "In this part, we try to connect to PSQL"
   ]
  },
  {
   "cell_type": "code",
   "execution_count": 2,
   "metadata": {},
   "outputs": [],
   "source": [
    "#Sourced from https://www.postgresqltutorial.com/postgresql-python/connect/\n",
    "def config(filename='psql_sample.ini', section='postgresql'):\n",
    "    parser = ConfigParser()\n",
    "    # read config file\n",
    "    parser.read(filename) \n",
    " \n",
    "    # get section, default to postgresql\n",
    "    db = {}\n",
    "    if parser.has_section(section):\n",
    "        params = parser.items(section)\n",
    "        for param in params:\n",
    "            db[param[0]] = param[1]\n",
    "    else:\n",
    "        raise Exception('Section {0} not found in the {1} file'.format(section, filename))\n",
    " \n",
    "    return db"
   ]
  },
  {
   "cell_type": "code",
   "execution_count": 3,
   "metadata": {},
   "outputs": [],
   "source": [
    "#Get the configuration file as a python dictionary\n",
    "cfg = config()"
   ]
  },
  {
   "cell_type": "code",
   "execution_count": 4,
   "metadata": {},
   "outputs": [
    {
     "name": "stdout",
     "output_type": "stream",
     "text": [
      "Here's an attempt to connect to the database\n",
      "Look's like it was a success\n"
     ]
    }
   ],
   "source": [
    "#Establish the connection and create a cursor to the database\n",
    "try:\n",
    "    print(\"Here's an attempt to connect to the database\")\n",
    "    conn = psycopg2.connect(**cfg)\n",
    "    cursor = conn.cursor()\n",
    "    print(\"Look's like it was a success\")\n",
    "    \n",
    "except (Exception, psycopg2.DatabaseError) as error:\n",
    "    print(error)"
   ]
  },
  {
   "cell_type": "code",
   "execution_count": 5,
   "metadata": {},
   "outputs": [],
   "source": [
    "try:\n",
    "    #Lets get our data \n",
    "    cursor.execute(\"SELECT environment, road_surface,\\\n",
    "                   traffic_control, visibility, impact_type,\\\n",
    "                   total_rain, total_snow, is_intersection, is_fatal from fact_table as fact inner join accident_dimension\\\n",
    "                   as accident on fact.accident_key = accident.accident_key inner join weather_dimension as weather\\\n",
    "                   on fact.weather_key = weather.weather_key\"\n",
    "                  )\n",
    "\n",
    "    #Get the complete result set. It will be a list of tuples where each tuple is a row from the result set\n",
    "    result_list = cursor.fetchall()\n",
    "        \n",
    "except (Exception, psycopg2.DatabaseError) as error:\n",
    "    print(error)"
   ]
  },
  {
   "cell_type": "code",
   "execution_count": 6,
   "metadata": {},
   "outputs": [],
   "source": [
    "#Ensure to run this cell at the end of all your experiments to close all connections\n",
    "cursor.close()\n",
    "conn.close()"
   ]
  },
  {
   "cell_type": "markdown",
   "metadata": {},
   "source": [
    "Let's prepare the DataFrame."
   ]
  },
  {
   "cell_type": "code",
   "execution_count": 7,
   "metadata": {},
   "outputs": [],
   "source": [
    "#Now, \n",
    "result_df = pd.DataFrame(result_list, columns=[\"Environment\",\"Road_Surface\", \"Traffic_Control\", \n",
    "                                               \"Visibility\", \"impact_type\",\"total_rain\",\"total_snow\",\"Is_Intersection\",\"Is_fatal\"])"
   ]
  },
  {
   "cell_type": "markdown",
   "metadata": {},
   "source": [
    "Let's see how the data looks like"
   ]
  },
  {
   "cell_type": "code",
   "execution_count": 8,
   "metadata": {},
   "outputs": [
    {
     "data": {
      "text/html": [
       "<div>\n",
       "<style scoped>\n",
       "    .dataframe tbody tr th:only-of-type {\n",
       "        vertical-align: middle;\n",
       "    }\n",
       "\n",
       "    .dataframe tbody tr th {\n",
       "        vertical-align: top;\n",
       "    }\n",
       "\n",
       "    .dataframe thead th {\n",
       "        text-align: right;\n",
       "    }\n",
       "</style>\n",
       "<table border=\"1\" class=\"dataframe\">\n",
       "  <thead>\n",
       "    <tr style=\"text-align: right;\">\n",
       "      <th></th>\n",
       "      <th>Environment</th>\n",
       "      <th>Road_Surface</th>\n",
       "      <th>Traffic_Control</th>\n",
       "      <th>Visibility</th>\n",
       "      <th>impact_type</th>\n",
       "      <th>total_rain</th>\n",
       "      <th>total_snow</th>\n",
       "      <th>Is_Intersection</th>\n",
       "      <th>Is_fatal</th>\n",
       "    </tr>\n",
       "  </thead>\n",
       "  <tbody>\n",
       "    <tr>\n",
       "      <th>0</th>\n",
       "      <td>Clear</td>\n",
       "      <td>Wet</td>\n",
       "      <td>Traffic signal</td>\n",
       "      <td>Daylight</td>\n",
       "      <td>Rear end</td>\n",
       "      <td>30.2</td>\n",
       "      <td>0.0</td>\n",
       "      <td>False</td>\n",
       "      <td>False</td>\n",
       "    </tr>\n",
       "    <tr>\n",
       "      <th>1</th>\n",
       "      <td>Clear</td>\n",
       "      <td>Dry</td>\n",
       "      <td>Traffic signal</td>\n",
       "      <td>Daylight</td>\n",
       "      <td>Turning movement</td>\n",
       "      <td>0.0</td>\n",
       "      <td>0.0</td>\n",
       "      <td>True</td>\n",
       "      <td>False</td>\n",
       "    </tr>\n",
       "    <tr>\n",
       "      <th>2</th>\n",
       "      <td>Clear</td>\n",
       "      <td>Dry</td>\n",
       "      <td>Traffic signal</td>\n",
       "      <td>Daylight</td>\n",
       "      <td>Rear end</td>\n",
       "      <td>0.0</td>\n",
       "      <td>0.0</td>\n",
       "      <td>False</td>\n",
       "      <td>False</td>\n",
       "    </tr>\n",
       "    <tr>\n",
       "      <th>3</th>\n",
       "      <td>Snow</td>\n",
       "      <td>Loose snow</td>\n",
       "      <td>Traffic signal</td>\n",
       "      <td>Daylight</td>\n",
       "      <td>Rear end</td>\n",
       "      <td>2.2</td>\n",
       "      <td>21.6</td>\n",
       "      <td>False</td>\n",
       "      <td>False</td>\n",
       "    </tr>\n",
       "    <tr>\n",
       "      <th>4</th>\n",
       "      <td>Rain</td>\n",
       "      <td>Wet</td>\n",
       "      <td>Traffic signal</td>\n",
       "      <td>Daylight</td>\n",
       "      <td>Rear end</td>\n",
       "      <td>26.4</td>\n",
       "      <td>0.0</td>\n",
       "      <td>False</td>\n",
       "      <td>False</td>\n",
       "    </tr>\n",
       "  </tbody>\n",
       "</table>\n",
       "</div>"
      ],
      "text/plain": [
       "  Environment Road_Surface Traffic_Control Visibility       impact_type  \\\n",
       "0       Clear          Wet  Traffic signal   Daylight          Rear end   \n",
       "1       Clear          Dry  Traffic signal   Daylight  Turning movement   \n",
       "2       Clear          Dry  Traffic signal   Daylight          Rear end   \n",
       "3        Snow   Loose snow  Traffic signal   Daylight          Rear end   \n",
       "4        Rain          Wet  Traffic signal   Daylight          Rear end   \n",
       "\n",
       "   total_rain  total_snow  Is_Intersection  Is_fatal  \n",
       "0        30.2         0.0            False     False  \n",
       "1         0.0         0.0             True     False  \n",
       "2         0.0         0.0            False     False  \n",
       "3         2.2        21.6            False     False  \n",
       "4        26.4         0.0            False     False  "
      ]
     },
     "execution_count": 8,
     "metadata": {},
     "output_type": "execute_result"
    }
   ],
   "source": [
    "result_df.head()"
   ]
  },
  {
   "cell_type": "markdown",
   "metadata": {},
   "source": [
    "Let's count the number of instances for each class"
   ]
  },
  {
   "cell_type": "code",
   "execution_count": 9,
   "metadata": {},
   "outputs": [
    {
     "data": {
      "text/plain": [
       "Counter({False: 11168, True: 3137})"
      ]
     },
     "execution_count": 9,
     "metadata": {},
     "output_type": "execute_result"
    }
   ],
   "source": [
    "Counter(result_df['Is_Intersection'])"
   ]
  },
  {
   "cell_type": "code",
   "execution_count": 10,
   "metadata": {},
   "outputs": [
    {
     "data": {
      "text/plain": [
       "Counter({False: 14277, True: 28})"
      ]
     },
     "execution_count": 10,
     "metadata": {},
     "output_type": "execute_result"
    }
   ],
   "source": [
    "Counter(result_df['Is_fatal'])"
   ]
  },
  {
   "cell_type": "markdown",
   "metadata": {},
   "source": [
    "Both labels are highly imbalanced! We need to make sure to consider this when we test our models."
   ]
  },
  {
   "cell_type": "markdown",
   "metadata": {},
   "source": [
    "## let's first work on Is_Intersection, and see how well we can predict whether an accident happened in an intersection or not."
   ]
  },
  {
   "cell_type": "code",
   "execution_count": 11,
   "metadata": {},
   "outputs": [],
   "source": [
    "#Get the labels\n",
    "y = result_df['Is_Intersection']\n",
    "#Drop the column for the next step\n",
    "result_df.drop(columns=['Is_Intersection'], inplace=True)\n",
    "result_df.drop(columns=['Is_fatal'], inplace=True)"
   ]
  },
  {
   "cell_type": "code",
   "execution_count": 12,
   "metadata": {},
   "outputs": [
    {
     "data": {
      "text/html": [
       "<div>\n",
       "<style scoped>\n",
       "    .dataframe tbody tr th:only-of-type {\n",
       "        vertical-align: middle;\n",
       "    }\n",
       "\n",
       "    .dataframe tbody tr th {\n",
       "        vertical-align: top;\n",
       "    }\n",
       "\n",
       "    .dataframe thead th {\n",
       "        text-align: right;\n",
       "    }\n",
       "</style>\n",
       "<table border=\"1\" class=\"dataframe\">\n",
       "  <thead>\n",
       "    <tr style=\"text-align: right;\">\n",
       "      <th></th>\n",
       "      <th>Environment</th>\n",
       "      <th>Road_Surface</th>\n",
       "      <th>Traffic_Control</th>\n",
       "      <th>Visibility</th>\n",
       "      <th>impact_type</th>\n",
       "      <th>total_rain</th>\n",
       "      <th>total_snow</th>\n",
       "    </tr>\n",
       "  </thead>\n",
       "  <tbody>\n",
       "    <tr>\n",
       "      <th>0</th>\n",
       "      <td>Clear</td>\n",
       "      <td>Wet</td>\n",
       "      <td>Traffic signal</td>\n",
       "      <td>Daylight</td>\n",
       "      <td>Rear end</td>\n",
       "      <td>30.2</td>\n",
       "      <td>0.0</td>\n",
       "    </tr>\n",
       "    <tr>\n",
       "      <th>1</th>\n",
       "      <td>Clear</td>\n",
       "      <td>Dry</td>\n",
       "      <td>Traffic signal</td>\n",
       "      <td>Daylight</td>\n",
       "      <td>Turning movement</td>\n",
       "      <td>0.0</td>\n",
       "      <td>0.0</td>\n",
       "    </tr>\n",
       "    <tr>\n",
       "      <th>2</th>\n",
       "      <td>Clear</td>\n",
       "      <td>Dry</td>\n",
       "      <td>Traffic signal</td>\n",
       "      <td>Daylight</td>\n",
       "      <td>Rear end</td>\n",
       "      <td>0.0</td>\n",
       "      <td>0.0</td>\n",
       "    </tr>\n",
       "    <tr>\n",
       "      <th>3</th>\n",
       "      <td>Snow</td>\n",
       "      <td>Loose snow</td>\n",
       "      <td>Traffic signal</td>\n",
       "      <td>Daylight</td>\n",
       "      <td>Rear end</td>\n",
       "      <td>2.2</td>\n",
       "      <td>21.6</td>\n",
       "    </tr>\n",
       "    <tr>\n",
       "      <th>4</th>\n",
       "      <td>Rain</td>\n",
       "      <td>Wet</td>\n",
       "      <td>Traffic signal</td>\n",
       "      <td>Daylight</td>\n",
       "      <td>Rear end</td>\n",
       "      <td>26.4</td>\n",
       "      <td>0.0</td>\n",
       "    </tr>\n",
       "  </tbody>\n",
       "</table>\n",
       "</div>"
      ],
      "text/plain": [
       "  Environment Road_Surface Traffic_Control Visibility       impact_type  \\\n",
       "0       Clear          Wet  Traffic signal   Daylight          Rear end   \n",
       "1       Clear          Dry  Traffic signal   Daylight  Turning movement   \n",
       "2       Clear          Dry  Traffic signal   Daylight          Rear end   \n",
       "3        Snow   Loose snow  Traffic signal   Daylight          Rear end   \n",
       "4        Rain          Wet  Traffic signal   Daylight          Rear end   \n",
       "\n",
       "   total_rain  total_snow  \n",
       "0        30.2         0.0  \n",
       "1         0.0         0.0  \n",
       "2         0.0         0.0  \n",
       "3         2.2        21.6  \n",
       "4        26.4         0.0  "
      ]
     },
     "execution_count": 12,
     "metadata": {},
     "output_type": "execute_result"
    }
   ],
   "source": [
    "result_df.head()# this is our features"
   ]
  },
  {
   "cell_type": "code",
   "execution_count": 13,
   "metadata": {},
   "outputs": [
    {
     "data": {
      "text/html": [
       "<div>\n",
       "<style scoped>\n",
       "    .dataframe tbody tr th:only-of-type {\n",
       "        vertical-align: middle;\n",
       "    }\n",
       "\n",
       "    .dataframe tbody tr th {\n",
       "        vertical-align: top;\n",
       "    }\n",
       "\n",
       "    .dataframe thead th {\n",
       "        text-align: right;\n",
       "    }\n",
       "</style>\n",
       "<table border=\"1\" class=\"dataframe\">\n",
       "  <thead>\n",
       "    <tr style=\"text-align: right;\">\n",
       "      <th></th>\n",
       "      <th>total_rain</th>\n",
       "      <th>total_snow</th>\n",
       "      <th>Environment_Clear</th>\n",
       "      <th>Environment_Drifting Snow</th>\n",
       "      <th>Environment_Fog, mist, smoke, dust</th>\n",
       "      <th>Environment_Freezing Rain</th>\n",
       "      <th>Environment_Other</th>\n",
       "      <th>Environment_Rain</th>\n",
       "      <th>Environment_Snow</th>\n",
       "      <th>Environment_Strong wind</th>\n",
       "      <th>...</th>\n",
       "      <th>Visibility_Other</th>\n",
       "      <th>Visibility_Unknown</th>\n",
       "      <th>impact_type_Angle</th>\n",
       "      <th>impact_type_Approaching</th>\n",
       "      <th>impact_type_Other</th>\n",
       "      <th>impact_type_Rear end</th>\n",
       "      <th>impact_type_SMV other</th>\n",
       "      <th>impact_type_SMV unattended vehicle</th>\n",
       "      <th>impact_type_Sideswipe</th>\n",
       "      <th>impact_type_Turning movement</th>\n",
       "    </tr>\n",
       "  </thead>\n",
       "  <tbody>\n",
       "    <tr>\n",
       "      <th>0</th>\n",
       "      <td>30.2</td>\n",
       "      <td>0.0</td>\n",
       "      <td>1</td>\n",
       "      <td>0</td>\n",
       "      <td>0</td>\n",
       "      <td>0</td>\n",
       "      <td>0</td>\n",
       "      <td>0</td>\n",
       "      <td>0</td>\n",
       "      <td>0</td>\n",
       "      <td>...</td>\n",
       "      <td>0</td>\n",
       "      <td>0</td>\n",
       "      <td>0</td>\n",
       "      <td>0</td>\n",
       "      <td>0</td>\n",
       "      <td>1</td>\n",
       "      <td>0</td>\n",
       "      <td>0</td>\n",
       "      <td>0</td>\n",
       "      <td>0</td>\n",
       "    </tr>\n",
       "    <tr>\n",
       "      <th>1</th>\n",
       "      <td>0.0</td>\n",
       "      <td>0.0</td>\n",
       "      <td>1</td>\n",
       "      <td>0</td>\n",
       "      <td>0</td>\n",
       "      <td>0</td>\n",
       "      <td>0</td>\n",
       "      <td>0</td>\n",
       "      <td>0</td>\n",
       "      <td>0</td>\n",
       "      <td>...</td>\n",
       "      <td>0</td>\n",
       "      <td>0</td>\n",
       "      <td>0</td>\n",
       "      <td>0</td>\n",
       "      <td>0</td>\n",
       "      <td>0</td>\n",
       "      <td>0</td>\n",
       "      <td>0</td>\n",
       "      <td>0</td>\n",
       "      <td>1</td>\n",
       "    </tr>\n",
       "    <tr>\n",
       "      <th>2</th>\n",
       "      <td>0.0</td>\n",
       "      <td>0.0</td>\n",
       "      <td>1</td>\n",
       "      <td>0</td>\n",
       "      <td>0</td>\n",
       "      <td>0</td>\n",
       "      <td>0</td>\n",
       "      <td>0</td>\n",
       "      <td>0</td>\n",
       "      <td>0</td>\n",
       "      <td>...</td>\n",
       "      <td>0</td>\n",
       "      <td>0</td>\n",
       "      <td>0</td>\n",
       "      <td>0</td>\n",
       "      <td>0</td>\n",
       "      <td>1</td>\n",
       "      <td>0</td>\n",
       "      <td>0</td>\n",
       "      <td>0</td>\n",
       "      <td>0</td>\n",
       "    </tr>\n",
       "    <tr>\n",
       "      <th>3</th>\n",
       "      <td>2.2</td>\n",
       "      <td>21.6</td>\n",
       "      <td>0</td>\n",
       "      <td>0</td>\n",
       "      <td>0</td>\n",
       "      <td>0</td>\n",
       "      <td>0</td>\n",
       "      <td>0</td>\n",
       "      <td>1</td>\n",
       "      <td>0</td>\n",
       "      <td>...</td>\n",
       "      <td>0</td>\n",
       "      <td>0</td>\n",
       "      <td>0</td>\n",
       "      <td>0</td>\n",
       "      <td>0</td>\n",
       "      <td>1</td>\n",
       "      <td>0</td>\n",
       "      <td>0</td>\n",
       "      <td>0</td>\n",
       "      <td>0</td>\n",
       "    </tr>\n",
       "    <tr>\n",
       "      <th>4</th>\n",
       "      <td>26.4</td>\n",
       "      <td>0.0</td>\n",
       "      <td>0</td>\n",
       "      <td>0</td>\n",
       "      <td>0</td>\n",
       "      <td>0</td>\n",
       "      <td>0</td>\n",
       "      <td>1</td>\n",
       "      <td>0</td>\n",
       "      <td>0</td>\n",
       "      <td>...</td>\n",
       "      <td>0</td>\n",
       "      <td>0</td>\n",
       "      <td>0</td>\n",
       "      <td>0</td>\n",
       "      <td>0</td>\n",
       "      <td>1</td>\n",
       "      <td>0</td>\n",
       "      <td>0</td>\n",
       "      <td>0</td>\n",
       "      <td>0</td>\n",
       "    </tr>\n",
       "  </tbody>\n",
       "</table>\n",
       "<p>5 rows × 43 columns</p>\n",
       "</div>"
      ],
      "text/plain": [
       "   total_rain  total_snow  Environment_Clear  Environment_Drifting Snow  \\\n",
       "0        30.2         0.0                  1                          0   \n",
       "1         0.0         0.0                  1                          0   \n",
       "2         0.0         0.0                  1                          0   \n",
       "3         2.2        21.6                  0                          0   \n",
       "4        26.4         0.0                  0                          0   \n",
       "\n",
       "   Environment_Fog, mist, smoke, dust  Environment_Freezing Rain  \\\n",
       "0                                   0                          0   \n",
       "1                                   0                          0   \n",
       "2                                   0                          0   \n",
       "3                                   0                          0   \n",
       "4                                   0                          0   \n",
       "\n",
       "   Environment_Other  Environment_Rain  Environment_Snow  \\\n",
       "0                  0                 0                 0   \n",
       "1                  0                 0                 0   \n",
       "2                  0                 0                 0   \n",
       "3                  0                 0                 1   \n",
       "4                  0                 1                 0   \n",
       "\n",
       "   Environment_Strong wind  ...  Visibility_Other  Visibility_Unknown  \\\n",
       "0                        0  ...                 0                   0   \n",
       "1                        0  ...                 0                   0   \n",
       "2                        0  ...                 0                   0   \n",
       "3                        0  ...                 0                   0   \n",
       "4                        0  ...                 0                   0   \n",
       "\n",
       "   impact_type_Angle  impact_type_Approaching  impact_type_Other  \\\n",
       "0                  0                        0                  0   \n",
       "1                  0                        0                  0   \n",
       "2                  0                        0                  0   \n",
       "3                  0                        0                  0   \n",
       "4                  0                        0                  0   \n",
       "\n",
       "   impact_type_Rear end  impact_type_SMV other  \\\n",
       "0                     1                      0   \n",
       "1                     0                      0   \n",
       "2                     1                      0   \n",
       "3                     1                      0   \n",
       "4                     1                      0   \n",
       "\n",
       "   impact_type_SMV unattended vehicle  impact_type_Sideswipe  \\\n",
       "0                                   0                      0   \n",
       "1                                   0                      0   \n",
       "2                                   0                      0   \n",
       "3                                   0                      0   \n",
       "4                                   0                      0   \n",
       "\n",
       "   impact_type_Turning movement  \n",
       "0                             0  \n",
       "1                             1  \n",
       "2                             0  \n",
       "3                             0  \n",
       "4                             0  \n",
       "\n",
       "[5 rows x 43 columns]"
      ]
     },
     "execution_count": 13,
     "metadata": {},
     "output_type": "execute_result"
    }
   ],
   "source": [
    "# Our features have categorical data. We need to convert them to one-hot encoders to get the best results.\n",
    "new_result_df = pd.get_dummies(result_df, prefix=[\"Environment\", \"Road_Surface\", \"Traffic_Control\", \"Visibility\",\"impact_type\"])\n",
    "new_result_df[\"total_rain\"] = result_df[\"total_rain\"]\n",
    "new_result_df[\"total_snow\"] = result_df[\"total_snow\"]\n",
    "#Get the X values\n",
    "X = new_result_df.values\n",
    "new_result_df.head()"
   ]
  },
  {
   "cell_type": "markdown",
   "metadata": {},
   "source": [
    "We are done with pre-processing of our data. Next, we need to devide our data to training and testing sets."
   ]
  },
  {
   "cell_type": "code",
   "execution_count": 14,
   "metadata": {},
   "outputs": [],
   "source": [
    "X_train, X_test, y_train, y_test = train_test_split(X, y, test_size=0.2, shuffle=True, stratify=y)"
   ]
  },
  {
   "cell_type": "code",
   "execution_count": 15,
   "metadata": {},
   "outputs": [
    {
     "name": "stdout",
     "output_type": "stream",
     "text": [
      "Training set Counter({False: 8934, True: 2510}) \n",
      "Test set Counter({False: 2234, True: 627}) \n"
     ]
    }
   ],
   "source": [
    "#Let's see the no. of records per class in training and test set\n",
    "print(\"Training set {} \".format(Counter(y_train)))\n",
    "print(\"Test set {} \".format(Counter(y_test)))"
   ]
  },
  {
   "cell_type": "markdown",
   "metadata": {},
   "source": [
    "Now we train our DecisionTreeClassifier with our training data. There are more classifiers that you can use. Please visit https://scikit-learn.org/stable/index.html."
   ]
  },
  {
   "cell_type": "code",
   "execution_count": 16,
   "metadata": {},
   "outputs": [
    {
     "data": {
      "text/plain": [
       "DecisionTreeClassifier(criterion='entropy')"
      ]
     },
     "execution_count": 16,
     "metadata": {},
     "output_type": "execute_result"
    }
   ],
   "source": [
    "#This step is to train our classifier based on the training data.\n",
    "dt = DecisionTreeClassifier(criterion='entropy')\n",
    "dt.fit(X_train, y_train)"
   ]
  },
  {
   "cell_type": "code",
   "execution_count": 17,
   "metadata": {},
   "outputs": [
    {
     "name": "stdout",
     "output_type": "stream",
     "text": [
      "Recall of Decision Tree 74.38 %\n",
      "precision of Decision Tree 72.25 %\n"
     ]
    }
   ],
   "source": [
    "# Now that our classifier is trained, it is time to test it with the testing data. Because our data is imbalanced, we should loom at precision and recall, rather than accuracy.\n",
    "y_pred = dt.predict(X_test)\n",
    "recall = recall_score(y_pred, y_test) * 100\n",
    "precision = precision_score(y_pred, y_test) * 100\n",
    "print(\"Recall of Decision Tree {:.2f} %\".format(recall))\n",
    "print(\"precision of Decision Tree {:.2f} %\".format(precision))"
   ]
  },
  {
   "cell_type": "markdown",
   "metadata": {},
   "source": [
    "## Now we are done with training and testing the classifier for intersection. The next task is to see whether the accident resulted in fatal or not. We will use the same previous steps."
   ]
  },
  {
   "cell_type": "code",
   "execution_count": 18,
   "metadata": {},
   "outputs": [],
   "source": [
    "result_df = pd.DataFrame(result_list, columns=[\"Environment\",\"Road_Surface\", \"Traffic_Control\", \n",
    "                                               \"Visibility\", \"impact_type\",\"total_rain\",\"total_snow\",\"Is_Intersection\",\"Is_fatal\"])"
   ]
  },
  {
   "cell_type": "code",
   "execution_count": 19,
   "metadata": {},
   "outputs": [],
   "source": [
    "y = result_df['Is_fatal']\n",
    "#Drop the column for the next step\n",
    "result_df.drop(columns=['Is_fatal'], inplace=True)"
   ]
  },
  {
   "cell_type": "code",
   "execution_count": 20,
   "metadata": {},
   "outputs": [
    {
     "data": {
      "text/html": [
       "<div>\n",
       "<style scoped>\n",
       "    .dataframe tbody tr th:only-of-type {\n",
       "        vertical-align: middle;\n",
       "    }\n",
       "\n",
       "    .dataframe tbody tr th {\n",
       "        vertical-align: top;\n",
       "    }\n",
       "\n",
       "    .dataframe thead th {\n",
       "        text-align: right;\n",
       "    }\n",
       "</style>\n",
       "<table border=\"1\" class=\"dataframe\">\n",
       "  <thead>\n",
       "    <tr style=\"text-align: right;\">\n",
       "      <th></th>\n",
       "      <th>Environment</th>\n",
       "      <th>Road_Surface</th>\n",
       "      <th>Traffic_Control</th>\n",
       "      <th>Visibility</th>\n",
       "      <th>impact_type</th>\n",
       "      <th>total_rain</th>\n",
       "      <th>total_snow</th>\n",
       "      <th>Is_Intersection</th>\n",
       "    </tr>\n",
       "  </thead>\n",
       "  <tbody>\n",
       "    <tr>\n",
       "      <th>0</th>\n",
       "      <td>Clear</td>\n",
       "      <td>Wet</td>\n",
       "      <td>Traffic signal</td>\n",
       "      <td>Daylight</td>\n",
       "      <td>Rear end</td>\n",
       "      <td>30.2</td>\n",
       "      <td>0.0</td>\n",
       "      <td>False</td>\n",
       "    </tr>\n",
       "    <tr>\n",
       "      <th>1</th>\n",
       "      <td>Clear</td>\n",
       "      <td>Dry</td>\n",
       "      <td>Traffic signal</td>\n",
       "      <td>Daylight</td>\n",
       "      <td>Turning movement</td>\n",
       "      <td>0.0</td>\n",
       "      <td>0.0</td>\n",
       "      <td>True</td>\n",
       "    </tr>\n",
       "    <tr>\n",
       "      <th>2</th>\n",
       "      <td>Clear</td>\n",
       "      <td>Dry</td>\n",
       "      <td>Traffic signal</td>\n",
       "      <td>Daylight</td>\n",
       "      <td>Rear end</td>\n",
       "      <td>0.0</td>\n",
       "      <td>0.0</td>\n",
       "      <td>False</td>\n",
       "    </tr>\n",
       "    <tr>\n",
       "      <th>3</th>\n",
       "      <td>Snow</td>\n",
       "      <td>Loose snow</td>\n",
       "      <td>Traffic signal</td>\n",
       "      <td>Daylight</td>\n",
       "      <td>Rear end</td>\n",
       "      <td>2.2</td>\n",
       "      <td>21.6</td>\n",
       "      <td>False</td>\n",
       "    </tr>\n",
       "    <tr>\n",
       "      <th>4</th>\n",
       "      <td>Rain</td>\n",
       "      <td>Wet</td>\n",
       "      <td>Traffic signal</td>\n",
       "      <td>Daylight</td>\n",
       "      <td>Rear end</td>\n",
       "      <td>26.4</td>\n",
       "      <td>0.0</td>\n",
       "      <td>False</td>\n",
       "    </tr>\n",
       "  </tbody>\n",
       "</table>\n",
       "</div>"
      ],
      "text/plain": [
       "  Environment Road_Surface Traffic_Control Visibility       impact_type  \\\n",
       "0       Clear          Wet  Traffic signal   Daylight          Rear end   \n",
       "1       Clear          Dry  Traffic signal   Daylight  Turning movement   \n",
       "2       Clear          Dry  Traffic signal   Daylight          Rear end   \n",
       "3        Snow   Loose snow  Traffic signal   Daylight          Rear end   \n",
       "4        Rain          Wet  Traffic signal   Daylight          Rear end   \n",
       "\n",
       "   total_rain  total_snow  Is_Intersection  \n",
       "0        30.2         0.0            False  \n",
       "1         0.0         0.0             True  \n",
       "2         0.0         0.0            False  \n",
       "3         2.2        21.6            False  \n",
       "4        26.4         0.0            False  "
      ]
     },
     "execution_count": 20,
     "metadata": {},
     "output_type": "execute_result"
    }
   ],
   "source": [
    "result_df.head()"
   ]
  },
  {
   "cell_type": "markdown",
   "metadata": {},
   "source": [
    "This time, we are keeping is_intersection as a feature, because it could provide useful information about an accident."
   ]
  },
  {
   "cell_type": "code",
   "execution_count": 21,
   "metadata": {},
   "outputs": [
    {
     "data": {
      "text/html": [
       "<div>\n",
       "<style scoped>\n",
       "    .dataframe tbody tr th:only-of-type {\n",
       "        vertical-align: middle;\n",
       "    }\n",
       "\n",
       "    .dataframe tbody tr th {\n",
       "        vertical-align: top;\n",
       "    }\n",
       "\n",
       "    .dataframe thead th {\n",
       "        text-align: right;\n",
       "    }\n",
       "</style>\n",
       "<table border=\"1\" class=\"dataframe\">\n",
       "  <thead>\n",
       "    <tr style=\"text-align: right;\">\n",
       "      <th></th>\n",
       "      <th>total_rain</th>\n",
       "      <th>total_snow</th>\n",
       "      <th>Is_Intersection</th>\n",
       "      <th>Environment_Clear</th>\n",
       "      <th>Environment_Drifting Snow</th>\n",
       "      <th>Environment_Fog, mist, smoke, dust</th>\n",
       "      <th>Environment_Freezing Rain</th>\n",
       "      <th>Environment_Other</th>\n",
       "      <th>Environment_Rain</th>\n",
       "      <th>Environment_Snow</th>\n",
       "      <th>...</th>\n",
       "      <th>Visibility_Other</th>\n",
       "      <th>Visibility_Unknown</th>\n",
       "      <th>impact_type_Angle</th>\n",
       "      <th>impact_type_Approaching</th>\n",
       "      <th>impact_type_Other</th>\n",
       "      <th>impact_type_Rear end</th>\n",
       "      <th>impact_type_SMV other</th>\n",
       "      <th>impact_type_SMV unattended vehicle</th>\n",
       "      <th>impact_type_Sideswipe</th>\n",
       "      <th>impact_type_Turning movement</th>\n",
       "    </tr>\n",
       "  </thead>\n",
       "  <tbody>\n",
       "    <tr>\n",
       "      <th>0</th>\n",
       "      <td>30.2</td>\n",
       "      <td>0.0</td>\n",
       "      <td>False</td>\n",
       "      <td>1</td>\n",
       "      <td>0</td>\n",
       "      <td>0</td>\n",
       "      <td>0</td>\n",
       "      <td>0</td>\n",
       "      <td>0</td>\n",
       "      <td>0</td>\n",
       "      <td>...</td>\n",
       "      <td>0</td>\n",
       "      <td>0</td>\n",
       "      <td>0</td>\n",
       "      <td>0</td>\n",
       "      <td>0</td>\n",
       "      <td>1</td>\n",
       "      <td>0</td>\n",
       "      <td>0</td>\n",
       "      <td>0</td>\n",
       "      <td>0</td>\n",
       "    </tr>\n",
       "    <tr>\n",
       "      <th>1</th>\n",
       "      <td>0.0</td>\n",
       "      <td>0.0</td>\n",
       "      <td>True</td>\n",
       "      <td>1</td>\n",
       "      <td>0</td>\n",
       "      <td>0</td>\n",
       "      <td>0</td>\n",
       "      <td>0</td>\n",
       "      <td>0</td>\n",
       "      <td>0</td>\n",
       "      <td>...</td>\n",
       "      <td>0</td>\n",
       "      <td>0</td>\n",
       "      <td>0</td>\n",
       "      <td>0</td>\n",
       "      <td>0</td>\n",
       "      <td>0</td>\n",
       "      <td>0</td>\n",
       "      <td>0</td>\n",
       "      <td>0</td>\n",
       "      <td>1</td>\n",
       "    </tr>\n",
       "    <tr>\n",
       "      <th>2</th>\n",
       "      <td>0.0</td>\n",
       "      <td>0.0</td>\n",
       "      <td>False</td>\n",
       "      <td>1</td>\n",
       "      <td>0</td>\n",
       "      <td>0</td>\n",
       "      <td>0</td>\n",
       "      <td>0</td>\n",
       "      <td>0</td>\n",
       "      <td>0</td>\n",
       "      <td>...</td>\n",
       "      <td>0</td>\n",
       "      <td>0</td>\n",
       "      <td>0</td>\n",
       "      <td>0</td>\n",
       "      <td>0</td>\n",
       "      <td>1</td>\n",
       "      <td>0</td>\n",
       "      <td>0</td>\n",
       "      <td>0</td>\n",
       "      <td>0</td>\n",
       "    </tr>\n",
       "    <tr>\n",
       "      <th>3</th>\n",
       "      <td>2.2</td>\n",
       "      <td>21.6</td>\n",
       "      <td>False</td>\n",
       "      <td>0</td>\n",
       "      <td>0</td>\n",
       "      <td>0</td>\n",
       "      <td>0</td>\n",
       "      <td>0</td>\n",
       "      <td>0</td>\n",
       "      <td>1</td>\n",
       "      <td>...</td>\n",
       "      <td>0</td>\n",
       "      <td>0</td>\n",
       "      <td>0</td>\n",
       "      <td>0</td>\n",
       "      <td>0</td>\n",
       "      <td>1</td>\n",
       "      <td>0</td>\n",
       "      <td>0</td>\n",
       "      <td>0</td>\n",
       "      <td>0</td>\n",
       "    </tr>\n",
       "    <tr>\n",
       "      <th>4</th>\n",
       "      <td>26.4</td>\n",
       "      <td>0.0</td>\n",
       "      <td>False</td>\n",
       "      <td>0</td>\n",
       "      <td>0</td>\n",
       "      <td>0</td>\n",
       "      <td>0</td>\n",
       "      <td>0</td>\n",
       "      <td>1</td>\n",
       "      <td>0</td>\n",
       "      <td>...</td>\n",
       "      <td>0</td>\n",
       "      <td>0</td>\n",
       "      <td>0</td>\n",
       "      <td>0</td>\n",
       "      <td>0</td>\n",
       "      <td>1</td>\n",
       "      <td>0</td>\n",
       "      <td>0</td>\n",
       "      <td>0</td>\n",
       "      <td>0</td>\n",
       "    </tr>\n",
       "  </tbody>\n",
       "</table>\n",
       "<p>5 rows × 44 columns</p>\n",
       "</div>"
      ],
      "text/plain": [
       "   total_rain  total_snow  Is_Intersection  Environment_Clear  \\\n",
       "0        30.2         0.0            False                  1   \n",
       "1         0.0         0.0             True                  1   \n",
       "2         0.0         0.0            False                  1   \n",
       "3         2.2        21.6            False                  0   \n",
       "4        26.4         0.0            False                  0   \n",
       "\n",
       "   Environment_Drifting Snow  Environment_Fog, mist, smoke, dust  \\\n",
       "0                          0                                   0   \n",
       "1                          0                                   0   \n",
       "2                          0                                   0   \n",
       "3                          0                                   0   \n",
       "4                          0                                   0   \n",
       "\n",
       "   Environment_Freezing Rain  Environment_Other  Environment_Rain  \\\n",
       "0                          0                  0                 0   \n",
       "1                          0                  0                 0   \n",
       "2                          0                  0                 0   \n",
       "3                          0                  0                 0   \n",
       "4                          0                  0                 1   \n",
       "\n",
       "   Environment_Snow  ...  Visibility_Other  Visibility_Unknown  \\\n",
       "0                 0  ...                 0                   0   \n",
       "1                 0  ...                 0                   0   \n",
       "2                 0  ...                 0                   0   \n",
       "3                 1  ...                 0                   0   \n",
       "4                 0  ...                 0                   0   \n",
       "\n",
       "   impact_type_Angle  impact_type_Approaching  impact_type_Other  \\\n",
       "0                  0                        0                  0   \n",
       "1                  0                        0                  0   \n",
       "2                  0                        0                  0   \n",
       "3                  0                        0                  0   \n",
       "4                  0                        0                  0   \n",
       "\n",
       "   impact_type_Rear end  impact_type_SMV other  \\\n",
       "0                     1                      0   \n",
       "1                     0                      0   \n",
       "2                     1                      0   \n",
       "3                     1                      0   \n",
       "4                     1                      0   \n",
       "\n",
       "   impact_type_SMV unattended vehicle  impact_type_Sideswipe  \\\n",
       "0                                   0                      0   \n",
       "1                                   0                      0   \n",
       "2                                   0                      0   \n",
       "3                                   0                      0   \n",
       "4                                   0                      0   \n",
       "\n",
       "   impact_type_Turning movement  \n",
       "0                             0  \n",
       "1                             1  \n",
       "2                             0  \n",
       "3                             0  \n",
       "4                             0  \n",
       "\n",
       "[5 rows x 44 columns]"
      ]
     },
     "execution_count": 21,
     "metadata": {},
     "output_type": "execute_result"
    }
   ],
   "source": [
    "new_result_df = pd.get_dummies(result_df, prefix=[\"Environment\", \"Road_Surface\", \"Traffic_Control\", \"Visibility\",\"impact_type\"])\n",
    "new_result_df[\"total_rain\"] = result_df[\"total_rain\"]\n",
    "new_result_df[\"total_snow\"] = result_df[\"total_snow\"]\n",
    "new_result_df[\"Is_Intersection\"] = result_df[\"Is_Intersection\"]\n",
    "#Get the X values\n",
    "X = new_result_df.values\n",
    "new_result_df.head()"
   ]
  },
  {
   "cell_type": "markdown",
   "metadata": {},
   "source": [
    "Let's split the data into training and testing sets. "
   ]
  },
  {
   "cell_type": "code",
   "execution_count": 22,
   "metadata": {},
   "outputs": [],
   "source": [
    "X_train, X_test, y_train, y_test = train_test_split(X, y, test_size=0.2, shuffle=True, stratify=y)"
   ]
  },
  {
   "cell_type": "code",
   "execution_count": 23,
   "metadata": {},
   "outputs": [
    {
     "name": "stdout",
     "output_type": "stream",
     "text": [
      "Training set Counter({False: 11422, True: 22}) \n",
      "Test set Counter({False: 2855, True: 6}) \n"
     ]
    }
   ],
   "source": [
    "#Let's see the no. of records per class in training and test set\n",
    "print(\"Training set {} \".format(Counter(y_train)))\n",
    "print(\"Test set {} \".format(Counter(y_test)))"
   ]
  },
  {
   "cell_type": "code",
   "execution_count": 24,
   "metadata": {},
   "outputs": [
    {
     "data": {
      "text/plain": [
       "DecisionTreeClassifier(criterion='entropy')"
      ]
     },
     "execution_count": 24,
     "metadata": {},
     "output_type": "execute_result"
    }
   ],
   "source": [
    "dt = DecisionTreeClassifier(criterion='entropy')\n",
    "dt.fit(X_train, y_train)"
   ]
  },
  {
   "cell_type": "code",
   "execution_count": 25,
   "metadata": {},
   "outputs": [
    {
     "name": "stdout",
     "output_type": "stream",
     "text": [
      "Recall of Decision Tree 0.00 %\n",
      "precision of Decision Tree 0.00 %\n"
     ]
    }
   ],
   "source": [
    "y_pred = dt.predict(X_test)\n",
    "recall = recall_score(y_pred, y_test) * 100\n",
    "precision = precision_score(y_pred, y_test) * 100\n",
    "print(\"Recall of Decision Tree {:.2f} %\".format(recall))\n",
    "print(\"precision of Decision Tree {:.2f} %\".format(precision))"
   ]
  },
  {
   "cell_type": "code",
   "execution_count": 26,
   "metadata": {},
   "outputs": [
    {
     "data": {
      "text/plain": [
       "0.9968542467668647"
      ]
     },
     "execution_count": 26,
     "metadata": {},
     "output_type": "execute_result"
    }
   ],
   "source": [
    "from sklearn.metrics import accuracy_score\n",
    "accuracy_score(y_pred,y_test)"
   ]
  },
  {
   "cell_type": "markdown",
   "metadata": {},
   "source": [
    "### We can see that the accuracy is very high, but the precision and recall scores are 0. This means thath our classifier is only predicting false! For dealing with class-imbalanced, we can use sampling techniques. You can see more of these sampling methods in the link below:\n",
    "https://imbalanced-learn.org/stable/auto_examples/index.html\n"
   ]
  },
  {
   "cell_type": "markdown",
   "metadata": {},
   "source": [
    "### Enjoy your time exploring your data :)"
   ]
  },
  {
   "cell_type": "code",
   "execution_count": null,
   "metadata": {},
   "outputs": [],
   "source": []
  }
 ],
 "metadata": {
  "kernelspec": {
   "display_name": "Python 3",
   "language": "python",
   "name": "python3"
  },
  "language_info": {
   "codemirror_mode": {
    "name": "ipython",
    "version": 3
   },
   "file_extension": ".py",
   "mimetype": "text/x-python",
   "name": "python",
   "nbconvert_exporter": "python",
   "pygments_lexer": "ipython3",
   "version": "3.8.5"
  }
 },
 "nbformat": 4,
 "nbformat_minor": 4
}
