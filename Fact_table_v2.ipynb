{
 "cells": [
  {
   "cell_type": "code",
   "execution_count": null,
   "metadata": {},
   "outputs": [],
   "source": [
    "import pandas as pd\n",
    "import numpy as np"
   ]
  },
  {
   "cell_type": "code",
   "execution_count": null,
   "metadata": {},
   "outputs": [],
   "source": [
    "special_measures_dimension = pd.read_csv(\"special_measures.csv\")\n",
    "date_dimension = pd.read_csv(\"dates.csv\")\n",
    "individual_dimension = pd.read_csv(\"individual_dimension.csv\")\n",
    "phu_dimension = pd.read_csv(\"PHU_location_dimension.csv\")\n",
    "weather_dimension = pd.read_csv(\"weather_dimension.csv\")\n",
    "mobility_dimension = pd.read_csv(\"mobility_dimension.csv\")"
   ]
  },
  {
   "cell_type": "code",
   "execution_count": null,
   "metadata": {},
   "outputs": [],
   "source": [
    "individuals = pd.read_csv(\"conposcovidloc.csv\")"
   ]
  },
  {
   "cell_type": "code",
   "execution_count": null,
   "metadata": {},
   "outputs": [],
   "source": [
    "individuals.head()"
   ]
  },
  {
   "cell_type": "code",
   "execution_count": null,
   "metadata": {},
   "outputs": [],
   "source": [
    "removeCities = individuals[(individuals['Reporting_PHU_City'] != 'Toronto') & (individuals['Reporting_PHU_City'] != 'Ottawa')].index\n",
    "individuals.drop(removeCities, inplace=True)\n",
    "individuals.head()"
   ]
  },
  {
   "cell_type": "code",
   "execution_count": null,
   "metadata": {},
   "outputs": [],
   "source": [
    "individuals['Case_Reported_Date']= pd.to_datetime(individuals['Case_Reported_Date'])\n",
    "start_date = pd.to_datetime(\"1/04/2020\")\n",
    "end_date = pd.to_datetime(\"7/31/2020\")\n",
    "individuals = individuals.loc[(individuals['Case_Reported_Date'] > start_date) & (individuals['Case_Reported_Date'] < end_date)]\n",
    "individuals.head()"
   ]
  },
  {
   "cell_type": "code",
   "execution_count": null,
   "metadata": {},
   "outputs": [],
   "source": [
    "individuals_outcome = individuals\n",
    "individuals_outcome.head()"
   ]
  },
  {
   "cell_type": "code",
   "execution_count": null,
   "metadata": {},
   "outputs": [],
   "source": [
    "individuals_outcome = individuals_outcome.drop(['Accurate_Episode_Date', 'Client_Gender', 'Age_Group', 'Test_Reported_Date', 'Specimen_Date', 'Case_AcquisitionInfo', 'Client_Gender', 'Reporting_PHU_ID', 'Reporting_PHU', 'Reporting_PHU_Address', 'Reporting_PHU_Postal_Code', 'Reporting_PHU_Website', 'Reporting_PHU_Latitude', 'Reporting_PHU_Longitude'], axis=1)\n",
    "individuals_outcome.head()"
   ]
  },
  {
   "cell_type": "code",
   "execution_count": null,
   "metadata": {},
   "outputs": [],
   "source": [
    "individuals_outcome = individuals_outcome.drop(['Case_Reported_Date', 'Outbreak_Related', 'Reporting_PHU_City'], axis=1)\n",
    "individuals_outcome.head()"
   ]
  },
  {
   "cell_type": "code",
   "execution_count": null,
   "metadata": {},
   "outputs": [],
   "source": [
    "individuals_outcome.rename(columns = {\"Row_ID\": \"Individual_key\"}, inplace=True)\n",
    "individuals_outcome.head()"
   ]
  },
  {
   "cell_type": "code",
   "execution_count": null,
   "metadata": {},
   "outputs": [],
   "source": [
    "individuals_outcome.Outcome1.unique()"
   ]
  },
  {
   "cell_type": "code",
   "execution_count": null,
   "metadata": {},
   "outputs": [],
   "source": [
    "individuals_outcome['Resolved'] = 'NaN'\n",
    "individuals_outcome['Fatal'] = 'NaN'"
   ]
  },
  {
   "cell_type": "code",
   "execution_count": null,
   "metadata": {},
   "outputs": [],
   "source": [
    "individuals_outcome.head()"
   ]
  },
  {
   "cell_type": "code",
   "execution_count": null,
   "metadata": {},
   "outputs": [],
   "source": [
    "individuals_outcome.loc[individuals_outcome['Outcome1'] == 'Resolved', 'Resolved'] = \"yes\"\n",
    "individuals_outcome.loc[individuals_outcome['Outcome1'] == 'Resolved', 'Fatal'] = \"no\"\n",
    "individuals_outcome.loc[individuals_outcome['Outcome1'] == 'Fatal', 'Fatal'] = \"yes\"\n",
    "individuals_outcome.loc[individuals_outcome['Outcome1'] == 'Fatal', 'Resolved'] = \"no\"\n",
    "individuals_outcome.head()"
   ]
  },
  {
   "cell_type": "code",
   "execution_count": null,
   "metadata": {},
   "outputs": [],
   "source": [
    "individuals_outcome = individuals_outcome.drop(['Outcome1'], axis=1)\n",
    "individuals_outcome.head()"
   ]
  },
  {
   "cell_type": "code",
   "execution_count": null,
   "metadata": {},
   "outputs": [],
   "source": [
    "def merge_special_measures_with_individual():\n",
    "    sms = []\n",
    "    sm_ids = []\n",
    "    for index, row in special_measures_dimension.iterrows():\n",
    "        s_id = row['start_date_id']\n",
    "        e_id = row['end_date_id']\n",
    "        sms.append((row['StartDate'], row['EndDate'], row['ID'], row['includesOttawa'], row['includesToronto']))\n",
    "\n",
    "    for index, row in individual_dimension.iterrows():\n",
    "        sm_id = -1\n",
    "        for special_measure in sms:\n",
    "            if row['date'] >= special_measure[0] and row['date'] <= special_measure[1]:\n",
    "                allow = (row['reporting_phu_city'] == 'Toronto' and special_measure[4] == 'yes') or (row['reporting_phu_city'] == 'Ottawa' and special_measure[3] == 'yes')\n",
    "                if allow:\n",
    "                    sm_id = int(special_measure[2])\n",
    "                    if sm_id != 3: break\n",
    "        sm_ids.append(sm_id)\n",
    "\n",
    "    individual_dimension['special_measure_id'] = sm_ids\n",
    "    \n",
    "merge_special_measures_with_individual()"
   ]
  },
  {
   "cell_type": "code",
   "execution_count": null,
   "metadata": {},
   "outputs": [],
   "source": [
    "individual_dimension.head()"
   ]
  },
  {
   "cell_type": "code",
   "execution_count": null,
   "metadata": {},
   "outputs": [],
   "source": [
    "individual_dimension.rename(columns = {\"individual_id\": \"Individual_key\"}, inplace=True)\n",
    "individual_dimension.head()"
   ]
  },
  {
   "cell_type": "code",
   "execution_count": null,
   "metadata": {},
   "outputs": [],
   "source": [
    "individuals_outcome = individuals_outcome.merge(individual_dimension[[\"Individual_key\",\"special_measure_id\"]], on=\"Individual_key\")\n",
    "individuals_outcome.head()"
   ]
  },
  {
   "cell_type": "code",
   "execution_count": null,
   "metadata": {},
   "outputs": [],
   "source": [
    "individuals_outcome.rename(columns = {\"special_measure_id\": \"Special_Measure_Key\"}, inplace=True)\n",
    "individuals_outcome.head()"
   ]
  },
  {
   "cell_type": "code",
   "execution_count": null,
   "metadata": {},
   "outputs": [],
   "source": [
    "phu_dimension = phu_dimension.rename(columns={\"Reporting_PHU_City\": \"reporting_phu_city\"})\n",
    "phu_dimension"
   ]
  },
  {
   "cell_type": "code",
   "execution_count": null,
   "metadata": {},
   "outputs": [],
   "source": [
    "fact_table2 = pd.merge(individual_dimension, phu_dimension, how=\"left\", on=\"reporting_phu_city\")\n",
    "fact_table2"
   ]
  },
  {
   "cell_type": "code",
   "execution_count": null,
   "metadata": {},
   "outputs": [],
   "source": [
    "individuals_outcome = individuals_outcome.merge(fact_table2[[\"Individual_key\",\"Reporting_PHU_ID\"]], on=\"Individual_key\")\n",
    "individuals_outcome.head()"
   ]
  },
  {
   "cell_type": "code",
   "execution_count": null,
   "metadata": {},
   "outputs": [],
   "source": [
    "weather_dimension.head()"
   ]
  },
  {
   "cell_type": "code",
   "execution_count": null,
   "metadata": {},
   "outputs": [],
   "source": [
    "weather_dimension = weather_dimension.rename(columns={\"Date/Time\": \"date\"})\n",
    "weather_dimension.head()"
   ]
  },
  {
   "cell_type": "code",
   "execution_count": null,
   "metadata": {},
   "outputs": [],
   "source": [
    "display(weather_dimension.dtypes) \n",
    "display(fact_table2.dtypes) \n",
    "display(individuals_outcome.dtypes) "
   ]
  },
  {
   "cell_type": "code",
   "execution_count": null,
   "metadata": {},
   "outputs": [],
   "source": [
    "weather_dimension['date'] = pd.to_datetime(weather_dimension['date'])\n",
    "display(weather_dimension.dtypes) "
   ]
  },
  {
   "cell_type": "code",
   "execution_count": null,
   "metadata": {},
   "outputs": [],
   "source": [
    "fact_table2['date'] = pd.to_datetime(fact_table2['date'])\n",
    "display(fact_table2.dtypes)"
   ]
  },
  {
   "cell_type": "code",
   "execution_count": null,
   "metadata": {},
   "outputs": [],
   "source": [
    "weather_dimension = weather_dimension.rename(columns={\"city\": \"reporting_phu_city\"})"
   ]
  },
  {
   "cell_type": "code",
   "execution_count": null,
   "metadata": {},
   "outputs": [],
   "source": [
    "weather_dimension['reporting_phu_city'] = weather_dimension['reporting_phu_city'].str.replace('OTTAWA INTL A', 'Ottawa')\n",
    "weather_dimension['reporting_phu_city'] = weather_dimension['reporting_phu_city'].str.replace('TORONTO CITY', 'Toronto')\n",
    "weather_dimension['reporting_phu_city']"
   ]
  },
  {
   "cell_type": "code",
   "execution_count": null,
   "metadata": {},
   "outputs": [],
   "source": [
    "# match weather on both date and city\n",
    "fact_table2 = fact_table2.merge(weather_dimension[[\"date\",\"weather_id\"]], left_on='date', right_on='reporting_phu_city')"
   ]
  },
  {
   "cell_type": "code",
   "execution_count": null,
   "metadata": {},
   "outputs": [],
   "source": [
    "individuals_outcome = individuals_outcome.merge(fact_table2[[\"Individual_key\",\"weather_id\"]], on=\"Individual_key\")\n",
    "individuals_outcome.head()"
   ]
  },
  {
   "cell_type": "code",
   "execution_count": null,
   "metadata": {},
   "outputs": [],
   "source": [
    "individuals_outcome.rename(columns = {\"weather_id\": \"Weather_Key\"}, inplace=True)\n",
    "individuals_outcome.head()"
   ]
  },
  {
   "cell_type": "code",
   "execution_count": null,
   "metadata": {},
   "outputs": [],
   "source": [
    "roleplaying_dates = pd.read_csv(\"conposcovidloc.csv\")\n",
    "roleplaying_dates.head()"
   ]
  },
  {
   "cell_type": "code",
   "execution_count": null,
   "metadata": {},
   "outputs": [],
   "source": [
    "# standard data cleaning\n",
    "removeCities = roleplaying_dates[(roleplaying_dates['Reporting_PHU_City'] != 'Toronto') & (roleplaying_dates['Reporting_PHU_City'] != 'Ottawa')].index\n",
    "roleplaying_dates.drop(removeCities, inplace=True)\n",
    "roleplaying_dates['Case_Reported_Date']= pd.to_datetime(roleplaying_dates['Case_Reported_Date'])\n",
    "start_date = pd.to_datetime(\"4/01/2020\")\n",
    "end_date = pd.to_datetime(\"7/31/2020\")\n",
    "roleplaying_dates = roleplaying_dates.loc[(roleplaying_dates['Case_Reported_Date'] > start_date) & (roleplaying_dates['Case_Reported_Date'] < end_date)]\n",
    "roleplaying_dates.head()"
   ]
  },
  {
   "cell_type": "code",
   "execution_count": null,
   "metadata": {},
   "outputs": [],
   "source": [
    "date_dimension = date_dimension.rename(columns={\"id\": \"Date_ID\"})\n",
    "build_date = pd.to_datetime(date_dimension.year*10000+date_dimension.month*100+date_dimension.day,format='%Y%m%d')\n",
    "date_dimension.insert(4, \"date_new_new\", build_date, True)\n",
    "date_dimension.head()"
   ]
  },
  {
   "cell_type": "code",
   "execution_count": null,
   "metadata": {},
   "outputs": [],
   "source": [
    "display(date_dimension.dtypes)"
   ]
  },
  {
   "cell_type": "code",
   "execution_count": null,
   "metadata": {},
   "outputs": [],
   "source": [
    "# individuals['date_new'].loc[individuals['date_new'] == date_dimension['date_new'].values] = date_dimension['date_ID']\n",
    "\n",
    "# individuals.head()\n",
    "\n",
    "# data['column2'] = data.apply(lambda x: compare_dates(x.column1, x.column2), axis=1)\n",
    "\n",
    "# individuals.head()\n",
    "\n",
    "date_dimension['date_new'] = pd.to_datetime(date_dimension['date_new_new'])\n",
    "roleplaying_dates['Accurate_Episode_Date'] = pd.to_datetime(roleplaying_dates['Accurate_Episode_Date'])\n",
    "roleplaying_dates['Case_Reported_Date'] = pd.to_datetime(roleplaying_dates['Case_Reported_Date'])\n",
    "roleplaying_dates['Test_Reported_Date'] = pd.to_datetime(roleplaying_dates['Test_Reported_Date'])\n",
    "roleplaying_dates['Specimen_Date'] = pd.to_datetime(roleplaying_dates['Specimen_Date'])"
   ]
  },
  {
   "cell_type": "code",
   "execution_count": null,
   "metadata": {},
   "outputs": [],
   "source": [
    "def compare_dates(column_name):\n",
    "    status = False\n",
    "    date_ids = []\n",
    "    for index, row in roleplaying_dates.iterrows():\n",
    "        status = False\n",
    "        for idx, rw in date_dimension.iterrows():\n",
    "            if row[column_name] == rw['date_new_new']:                \n",
    "                date_ids.append(rw['Date_ID'])\n",
    "                status = True\n",
    "        if status == False:\n",
    "            date_ids.append(\"NaN\")\n",
    "    \n",
    "    roleplaying_dates[column_name] = date_ids"
   ]
  },
  {
   "cell_type": "code",
   "execution_count": null,
   "metadata": {},
   "outputs": [],
   "source": [
    "roleplaying_dates.head()"
   ]
  },
  {
   "cell_type": "code",
   "execution_count": null,
   "metadata": {},
   "outputs": [],
   "source": [
    "compare_dates('Accurate_Episode_Date')\n",
    "roleplaying_dates.head()"
   ]
  },
  {
   "cell_type": "code",
   "execution_count": null,
   "metadata": {},
   "outputs": [],
   "source": [
    "compare_dates('Case_Reported_Date')\n",
    "roleplaying_dates.head()"
   ]
  },
  {
   "cell_type": "code",
   "execution_count": null,
   "metadata": {},
   "outputs": [],
   "source": [
    "compare_dates('Test_Reported_Date')\n",
    "roleplaying_dates.head()"
   ]
  },
  {
   "cell_type": "code",
   "execution_count": null,
   "metadata": {},
   "outputs": [],
   "source": [
    "compare_dates('Specimen_Date')\n",
    "roleplaying_dates.head()"
   ]
  },
  {
   "cell_type": "code",
   "execution_count": null,
   "metadata": {},
   "outputs": [],
   "source": [
    "roleplaying_dates.rename(columns = {\"Accurate_Episode_Date\": \"Onset_Date_Key\"}, inplace=True)\n",
    "roleplaying_dates.rename(columns = {\"Case_Reported_Date\": \"Reported_Date_Key\"}, inplace=True)\n",
    "roleplaying_dates.rename(columns = {\"Test_Reported_Date\": \"Test_Date_Key\"}, inplace=True)\n",
    "roleplaying_dates.rename(columns = {\"Specimen_Date\": \"Specimen_Date_Key\"}, inplace=True)\n",
    "roleplaying_dates.head()"
   ]
  },
  {
   "cell_type": "code",
   "execution_count": null,
   "metadata": {},
   "outputs": [],
   "source": [
    "roleplaying_dates.rename(columns = {\"Row_ID\": \"Individual_key\"}, inplace=True)\n",
    "individuals_outcome = individuals_outcome.merge(roleplaying_dates[[\"Individual_key\",\"Onset_Date_Key\"]], on=\"Individual_key\")\n",
    "roleplaying_dates.head()"
   ]
  },
  {
   "cell_type": "code",
   "execution_count": null,
   "metadata": {},
   "outputs": [],
   "source": [
    "individuals_outcome = individuals_outcome.merge(roleplaying_dates[[\"Individual_key\",\"Reported_Date_Key\"]], on=\"Individual_key\")"
   ]
  },
  {
   "cell_type": "code",
   "execution_count": null,
   "metadata": {},
   "outputs": [],
   "source": [
    "individuals_outcome = individuals_outcome.merge(roleplaying_dates[[\"Individual_key\",\"Test_Date_Key\"]], on=\"Individual_key\")"
   ]
  },
  {
   "cell_type": "code",
   "execution_count": null,
   "metadata": {},
   "outputs": [],
   "source": [
    "individuals_outcome = individuals_outcome.merge(roleplaying_dates[[\"Individual_key\",\"Specimen_Date_Key\"]], on=\"Individual_key\")"
   ]
  },
  {
   "cell_type": "code",
   "execution_count": null,
   "metadata": {},
   "outputs": [],
   "source": [
    "individuals_outcome.head()"
   ]
  },
  {
   "cell_type": "code",
   "execution_count": null,
   "metadata": {},
   "outputs": [],
   "source": [
    "individuals_outcome.rename(columns = {\"Individual_key\": \"Individual_Key\"}, inplace=True)\n",
    "individuals_outcome.rename(columns = {\"Reporting_PHU_ID\": \"PHU_Key\"}, inplace=True)"
   ]
  },
  {
   "cell_type": "code",
   "execution_count": null,
   "metadata": {},
   "outputs": [],
   "source": [
    "individuals_outcome.to_csv(\"fact_table_v2.csv\",index=False)"
   ]
  },
  {
   "cell_type": "code",
   "execution_count": null,
   "metadata": {},
   "outputs": [],
   "source": []
  }
 ],
 "metadata": {
  "kernelspec": {
   "display_name": "Python 3",
   "language": "python",
   "name": "python3"
  },
  "language_info": {
   "codemirror_mode": {
    "name": "ipython",
    "version": 3
   },
   "file_extension": ".py",
   "mimetype": "text/x-python",
   "name": "python",
   "nbconvert_exporter": "python",
   "pygments_lexer": "ipython3",
   "version": "3.8.2"
  }
 },
 "nbformat": 4,
 "nbformat_minor": 4
}
