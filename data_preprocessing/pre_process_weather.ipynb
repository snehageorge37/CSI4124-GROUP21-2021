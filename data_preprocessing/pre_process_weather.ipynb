{
 "cells": [
  {
   "cell_type": "markdown",
   "metadata": {},
   "source": [
    "## Importing Libraries"
   ]
  },
  {
   "cell_type": "code",
   "execution_count": 1,
   "metadata": {},
   "outputs": [],
   "source": [
    "import pandas as pd"
   ]
  },
  {
   "cell_type": "markdown",
   "metadata": {},
   "source": [
    "## Import file"
   ]
  },
  {
   "cell_type": "code",
   "execution_count": 2,
   "metadata": {},
   "outputs": [],
   "source": [
    "weather = pd.read_csv(\"climate_daily_Ottawa_Toronto_2020.csv\")\n"
   ]
  },
  {
   "cell_type": "markdown",
   "metadata": {},
   "source": [
    "## Get first 5 rows"
   ]
  },
  {
   "cell_type": "code",
   "execution_count": 3,
   "metadata": {},
   "outputs": [
    {
     "data": {
      "text/plain": "   Longitude (x)  Latitude (y)   Station Name  Climate ID   Date/Time  Year  \\\n0         -75.67         45.32  OTTAWA INTL A     6106001  2020-01-01  2020   \n1         -75.67         45.32  OTTAWA INTL A     6106001  2020-01-02  2020   \n2         -75.67         45.32  OTTAWA INTL A     6106001  2020-01-03  2020   \n3         -75.67         45.32  OTTAWA INTL A     6106001  2020-01-04  2020   \n4         -75.67         45.32  OTTAWA INTL A     6106001  2020-01-05  2020   \n\n   Month  Day  Data Quality  Max Temp (°C)  ... Total Snow (cm)  \\\n0      1    1           NaN            1.1  ...             0.0   \n1      1    2           NaN            4.4  ...             0.0   \n2      1    3           NaN            4.7  ...             0.0   \n3      1    4           NaN            1.4  ...             1.8   \n4      1    5           NaN           -3.0  ...             0.0   \n\n   Total Snow Flag Total Precip (mm)  Total Precip Flag Snow on Grnd (cm)  \\\n0                T               0.0                  T              15.0   \n1              NaN               0.0                NaN              15.0   \n2              NaN               0.0                NaN               6.0   \n3              NaN               1.3                NaN               4.0   \n4                T               0.0                  T               6.0   \n\n   Snow on Grnd Flag Dir of Max Gust (10s deg)  Dir of Max Gust Flag  \\\n0                NaN                      26.0                   NaN   \n1                NaN                      20.0                   NaN   \n2                NaN                       NaN                   NaN   \n3                NaN                       NaN                   NaN   \n4                NaN                      28.0                   NaN   \n\n  Spd of Max Gust (km/h)  Spd of Max Gust Flag  \n0                   35.0                   NaN  \n1                   41.0                   NaN  \n2                    NaN                     M  \n3                    NaN                     M  \n4                   37.0                   NaN  \n\n[5 rows x 31 columns]",
      "text/html": "<div>\n<style scoped>\n    .dataframe tbody tr th:only-of-type {\n        vertical-align: middle;\n    }\n\n    .dataframe tbody tr th {\n        vertical-align: top;\n    }\n\n    .dataframe thead th {\n        text-align: right;\n    }\n</style>\n<table border=\"1\" class=\"dataframe\">\n  <thead>\n    <tr style=\"text-align: right;\">\n      <th></th>\n      <th>Longitude (x)</th>\n      <th>Latitude (y)</th>\n      <th>Station Name</th>\n      <th>Climate ID</th>\n      <th>Date/Time</th>\n      <th>Year</th>\n      <th>Month</th>\n      <th>Day</th>\n      <th>Data Quality</th>\n      <th>Max Temp (°C)</th>\n      <th>...</th>\n      <th>Total Snow (cm)</th>\n      <th>Total Snow Flag</th>\n      <th>Total Precip (mm)</th>\n      <th>Total Precip Flag</th>\n      <th>Snow on Grnd (cm)</th>\n      <th>Snow on Grnd Flag</th>\n      <th>Dir of Max Gust (10s deg)</th>\n      <th>Dir of Max Gust Flag</th>\n      <th>Spd of Max Gust (km/h)</th>\n      <th>Spd of Max Gust Flag</th>\n    </tr>\n  </thead>\n  <tbody>\n    <tr>\n      <th>0</th>\n      <td>-75.67</td>\n      <td>45.32</td>\n      <td>OTTAWA INTL A</td>\n      <td>6106001</td>\n      <td>2020-01-01</td>\n      <td>2020</td>\n      <td>1</td>\n      <td>1</td>\n      <td>NaN</td>\n      <td>1.1</td>\n      <td>...</td>\n      <td>0.0</td>\n      <td>T</td>\n      <td>0.0</td>\n      <td>T</td>\n      <td>15.0</td>\n      <td>NaN</td>\n      <td>26.0</td>\n      <td>NaN</td>\n      <td>35.0</td>\n      <td>NaN</td>\n    </tr>\n    <tr>\n      <th>1</th>\n      <td>-75.67</td>\n      <td>45.32</td>\n      <td>OTTAWA INTL A</td>\n      <td>6106001</td>\n      <td>2020-01-02</td>\n      <td>2020</td>\n      <td>1</td>\n      <td>2</td>\n      <td>NaN</td>\n      <td>4.4</td>\n      <td>...</td>\n      <td>0.0</td>\n      <td>NaN</td>\n      <td>0.0</td>\n      <td>NaN</td>\n      <td>15.0</td>\n      <td>NaN</td>\n      <td>20.0</td>\n      <td>NaN</td>\n      <td>41.0</td>\n      <td>NaN</td>\n    </tr>\n    <tr>\n      <th>2</th>\n      <td>-75.67</td>\n      <td>45.32</td>\n      <td>OTTAWA INTL A</td>\n      <td>6106001</td>\n      <td>2020-01-03</td>\n      <td>2020</td>\n      <td>1</td>\n      <td>3</td>\n      <td>NaN</td>\n      <td>4.7</td>\n      <td>...</td>\n      <td>0.0</td>\n      <td>NaN</td>\n      <td>0.0</td>\n      <td>NaN</td>\n      <td>6.0</td>\n      <td>NaN</td>\n      <td>NaN</td>\n      <td>NaN</td>\n      <td>NaN</td>\n      <td>M</td>\n    </tr>\n    <tr>\n      <th>3</th>\n      <td>-75.67</td>\n      <td>45.32</td>\n      <td>OTTAWA INTL A</td>\n      <td>6106001</td>\n      <td>2020-01-04</td>\n      <td>2020</td>\n      <td>1</td>\n      <td>4</td>\n      <td>NaN</td>\n      <td>1.4</td>\n      <td>...</td>\n      <td>1.8</td>\n      <td>NaN</td>\n      <td>1.3</td>\n      <td>NaN</td>\n      <td>4.0</td>\n      <td>NaN</td>\n      <td>NaN</td>\n      <td>NaN</td>\n      <td>NaN</td>\n      <td>M</td>\n    </tr>\n    <tr>\n      <th>4</th>\n      <td>-75.67</td>\n      <td>45.32</td>\n      <td>OTTAWA INTL A</td>\n      <td>6106001</td>\n      <td>2020-01-05</td>\n      <td>2020</td>\n      <td>1</td>\n      <td>5</td>\n      <td>NaN</td>\n      <td>-3.0</td>\n      <td>...</td>\n      <td>0.0</td>\n      <td>T</td>\n      <td>0.0</td>\n      <td>T</td>\n      <td>6.0</td>\n      <td>NaN</td>\n      <td>28.0</td>\n      <td>NaN</td>\n      <td>37.0</td>\n      <td>NaN</td>\n    </tr>\n  </tbody>\n</table>\n<p>5 rows × 31 columns</p>\n</div>"
     },
     "execution_count": 3,
     "metadata": {},
     "output_type": "execute_result"
    }
   ],
   "source": [
    "weather.head()"
   ]
  },
  {
   "cell_type": "code",
   "execution_count": 4,
   "metadata": {},
   "outputs": [
    {
     "data": {
      "text/plain": "     Longitude (x)  Latitude (y)  Station Name  Climate ID   Date/Time  Year  \\\n727          -79.4         43.67  TORONTO CITY     6158355  2020-12-27  2020   \n728          -79.4         43.67  TORONTO CITY     6158355  2020-12-28  2020   \n729          -79.4         43.67  TORONTO CITY     6158355  2020-12-29  2020   \n730          -79.4         43.67  TORONTO CITY     6158355  2020-12-30  2020   \n731          -79.4         43.67  TORONTO CITY     6158355  2020-12-31  2020   \n\n     Month  Day  Data Quality  Max Temp (°C)  ... Total Snow (cm)  \\\n727     12   27           NaN            4.7  ...             NaN   \n728     12   28           NaN            5.2  ...             NaN   \n729     12   29           NaN           -0.5  ...             NaN   \n730     12   30           NaN            5.6  ...             NaN   \n731     12   31           NaN            2.5  ...             NaN   \n\n     Total Snow Flag Total Precip (mm)  Total Precip Flag Snow on Grnd (cm)  \\\n727              NaN               0.5                NaN               3.0   \n728              NaN               3.4                NaN               NaN   \n729              NaN               0.0                NaN               NaN   \n730              NaN               5.9                NaN               NaN   \n731              NaN               0.0                NaN               NaN   \n\n     Snow on Grnd Flag Dir of Max Gust (10s deg)  Dir of Max Gust Flag  \\\n727                NaN                       NaN                     M   \n728                NaN                       NaN                     M   \n729                NaN                       NaN                     M   \n730                NaN                       NaN                     M   \n731                NaN                       NaN                     M   \n\n    Spd of Max Gust (km/h)  Spd of Max Gust Flag  \n727                    NaN                     M  \n728                    NaN                     M  \n729                    NaN                     M  \n730                    NaN                     M  \n731                    NaN                     M  \n\n[5 rows x 31 columns]",
      "text/html": "<div>\n<style scoped>\n    .dataframe tbody tr th:only-of-type {\n        vertical-align: middle;\n    }\n\n    .dataframe tbody tr th {\n        vertical-align: top;\n    }\n\n    .dataframe thead th {\n        text-align: right;\n    }\n</style>\n<table border=\"1\" class=\"dataframe\">\n  <thead>\n    <tr style=\"text-align: right;\">\n      <th></th>\n      <th>Longitude (x)</th>\n      <th>Latitude (y)</th>\n      <th>Station Name</th>\n      <th>Climate ID</th>\n      <th>Date/Time</th>\n      <th>Year</th>\n      <th>Month</th>\n      <th>Day</th>\n      <th>Data Quality</th>\n      <th>Max Temp (°C)</th>\n      <th>...</th>\n      <th>Total Snow (cm)</th>\n      <th>Total Snow Flag</th>\n      <th>Total Precip (mm)</th>\n      <th>Total Precip Flag</th>\n      <th>Snow on Grnd (cm)</th>\n      <th>Snow on Grnd Flag</th>\n      <th>Dir of Max Gust (10s deg)</th>\n      <th>Dir of Max Gust Flag</th>\n      <th>Spd of Max Gust (km/h)</th>\n      <th>Spd of Max Gust Flag</th>\n    </tr>\n  </thead>\n  <tbody>\n    <tr>\n      <th>727</th>\n      <td>-79.4</td>\n      <td>43.67</td>\n      <td>TORONTO CITY</td>\n      <td>6158355</td>\n      <td>2020-12-27</td>\n      <td>2020</td>\n      <td>12</td>\n      <td>27</td>\n      <td>NaN</td>\n      <td>4.7</td>\n      <td>...</td>\n      <td>NaN</td>\n      <td>NaN</td>\n      <td>0.5</td>\n      <td>NaN</td>\n      <td>3.0</td>\n      <td>NaN</td>\n      <td>NaN</td>\n      <td>M</td>\n      <td>NaN</td>\n      <td>M</td>\n    </tr>\n    <tr>\n      <th>728</th>\n      <td>-79.4</td>\n      <td>43.67</td>\n      <td>TORONTO CITY</td>\n      <td>6158355</td>\n      <td>2020-12-28</td>\n      <td>2020</td>\n      <td>12</td>\n      <td>28</td>\n      <td>NaN</td>\n      <td>5.2</td>\n      <td>...</td>\n      <td>NaN</td>\n      <td>NaN</td>\n      <td>3.4</td>\n      <td>NaN</td>\n      <td>NaN</td>\n      <td>NaN</td>\n      <td>NaN</td>\n      <td>M</td>\n      <td>NaN</td>\n      <td>M</td>\n    </tr>\n    <tr>\n      <th>729</th>\n      <td>-79.4</td>\n      <td>43.67</td>\n      <td>TORONTO CITY</td>\n      <td>6158355</td>\n      <td>2020-12-29</td>\n      <td>2020</td>\n      <td>12</td>\n      <td>29</td>\n      <td>NaN</td>\n      <td>-0.5</td>\n      <td>...</td>\n      <td>NaN</td>\n      <td>NaN</td>\n      <td>0.0</td>\n      <td>NaN</td>\n      <td>NaN</td>\n      <td>NaN</td>\n      <td>NaN</td>\n      <td>M</td>\n      <td>NaN</td>\n      <td>M</td>\n    </tr>\n    <tr>\n      <th>730</th>\n      <td>-79.4</td>\n      <td>43.67</td>\n      <td>TORONTO CITY</td>\n      <td>6158355</td>\n      <td>2020-12-30</td>\n      <td>2020</td>\n      <td>12</td>\n      <td>30</td>\n      <td>NaN</td>\n      <td>5.6</td>\n      <td>...</td>\n      <td>NaN</td>\n      <td>NaN</td>\n      <td>5.9</td>\n      <td>NaN</td>\n      <td>NaN</td>\n      <td>NaN</td>\n      <td>NaN</td>\n      <td>M</td>\n      <td>NaN</td>\n      <td>M</td>\n    </tr>\n    <tr>\n      <th>731</th>\n      <td>-79.4</td>\n      <td>43.67</td>\n      <td>TORONTO CITY</td>\n      <td>6158355</td>\n      <td>2020-12-31</td>\n      <td>2020</td>\n      <td>12</td>\n      <td>31</td>\n      <td>NaN</td>\n      <td>2.5</td>\n      <td>...</td>\n      <td>NaN</td>\n      <td>NaN</td>\n      <td>0.0</td>\n      <td>NaN</td>\n      <td>NaN</td>\n      <td>NaN</td>\n      <td>NaN</td>\n      <td>M</td>\n      <td>NaN</td>\n      <td>M</td>\n    </tr>\n  </tbody>\n</table>\n<p>5 rows × 31 columns</p>\n</div>"
     },
     "execution_count": 4,
     "metadata": {},
     "output_type": "execute_result"
    }
   ],
   "source": [
    "weather.tail()"
   ]
  },
  {
   "cell_type": "markdown",
   "metadata": {},
   "source": [
    "## Get number of rows and number of columns"
   ]
  },
  {
   "cell_type": "code",
   "execution_count": 5,
   "metadata": {},
   "outputs": [
    {
     "data": {
      "text/plain": "(732, 31)"
     },
     "execution_count": 5,
     "metadata": {},
     "output_type": "execute_result"
    }
   ],
   "source": [
    "weather.shape"
   ]
  },
  {
   "cell_type": "markdown",
   "metadata": {},
   "source": [
    "## Delete columns from dataFrame that are not needed"
   ]
  },
  {
   "cell_type": "code",
   "execution_count": 6,
   "metadata": {},
   "outputs": [],
   "source": [
    "weather = weather.drop([\"Climate ID\",\"Total Snow (cm)\", \"Total Snow Flag\", \"Snow on Grnd (cm)\", \"Dir of Max Gust (10s deg)\", \"Spd of Max Gust (km/h)\", \"Spd of Max Gust Flag\"], axis=1)\n",
    "\n",
    "weather = weather.drop([\"Max Temp Flag\",\"Heat Deg Days Flag\", \"Total Rain (mm)\", \"Total Rain Flag\", \"Total Precip Flag\", \"Snow on Grnd Flag\"], axis=1)\n",
    "\n",
    "weather = weather.drop([\"Heat Deg Days (°C)\",\"Cool Deg Days (°C)\", \"Cool Deg Days Flag\", \"Dir of Max Gust Flag\", \"Data Quality\", \"Mean Temp (°C)\"], axis=1)\n",
    "\n",
    "weather = weather.drop([\"Min Temp Flag\",\"Mean Temp Flag\", \"Longitude (x)\", \"Latitude (y)\"], axis=1)\n"
   ]
  },
  {
   "cell_type": "code",
   "execution_count": 7,
   "metadata": {},
   "outputs": [
    {
     "data": {
      "text/plain": "    Station Name   Date/Time  Year  Month  Day  Max Temp (°C)  Min Temp (°C)  \\\n0  OTTAWA INTL A  2020-01-01  2020      1    1            1.1           -2.0   \n1  OTTAWA INTL A  2020-01-02  2020      1    2            4.4           -4.6   \n2  OTTAWA INTL A  2020-01-03  2020      1    3            4.7            1.2   \n3  OTTAWA INTL A  2020-01-04  2020      1    4            1.4           -3.0   \n4  OTTAWA INTL A  2020-01-05  2020      1    5           -3.0          -12.9   \n\n   Total Precip (mm)  \n0                0.0  \n1                0.0  \n2                0.0  \n3                1.3  \n4                0.0  ",
      "text/html": "<div>\n<style scoped>\n    .dataframe tbody tr th:only-of-type {\n        vertical-align: middle;\n    }\n\n    .dataframe tbody tr th {\n        vertical-align: top;\n    }\n\n    .dataframe thead th {\n        text-align: right;\n    }\n</style>\n<table border=\"1\" class=\"dataframe\">\n  <thead>\n    <tr style=\"text-align: right;\">\n      <th></th>\n      <th>Station Name</th>\n      <th>Date/Time</th>\n      <th>Year</th>\n      <th>Month</th>\n      <th>Day</th>\n      <th>Max Temp (°C)</th>\n      <th>Min Temp (°C)</th>\n      <th>Total Precip (mm)</th>\n    </tr>\n  </thead>\n  <tbody>\n    <tr>\n      <th>0</th>\n      <td>OTTAWA INTL A</td>\n      <td>2020-01-01</td>\n      <td>2020</td>\n      <td>1</td>\n      <td>1</td>\n      <td>1.1</td>\n      <td>-2.0</td>\n      <td>0.0</td>\n    </tr>\n    <tr>\n      <th>1</th>\n      <td>OTTAWA INTL A</td>\n      <td>2020-01-02</td>\n      <td>2020</td>\n      <td>1</td>\n      <td>2</td>\n      <td>4.4</td>\n      <td>-4.6</td>\n      <td>0.0</td>\n    </tr>\n    <tr>\n      <th>2</th>\n      <td>OTTAWA INTL A</td>\n      <td>2020-01-03</td>\n      <td>2020</td>\n      <td>1</td>\n      <td>3</td>\n      <td>4.7</td>\n      <td>1.2</td>\n      <td>0.0</td>\n    </tr>\n    <tr>\n      <th>3</th>\n      <td>OTTAWA INTL A</td>\n      <td>2020-01-04</td>\n      <td>2020</td>\n      <td>1</td>\n      <td>4</td>\n      <td>1.4</td>\n      <td>-3.0</td>\n      <td>1.3</td>\n    </tr>\n    <tr>\n      <th>4</th>\n      <td>OTTAWA INTL A</td>\n      <td>2020-01-05</td>\n      <td>2020</td>\n      <td>1</td>\n      <td>5</td>\n      <td>-3.0</td>\n      <td>-12.9</td>\n      <td>0.0</td>\n    </tr>\n  </tbody>\n</table>\n</div>"
     },
     "execution_count": 7,
     "metadata": {},
     "output_type": "execute_result"
    }
   ],
   "source": [
    "weather.head()"
   ]
  },
  {
   "cell_type": "markdown",
   "metadata": {},
   "source": [
    "## Keep dates from April to July only"
   ]
  },
  {
   "cell_type": "code",
   "execution_count": 8,
   "metadata": {},
   "outputs": [],
   "source": [
    "invalidMonths = weather[ (weather['Month'] == 1) | (weather['Month'] == 2) | (weather['Month'] == 3) | (weather['Month'] == 8) | (weather['Month'] == 9) | (weather['Month'] == 10) | (weather['Month'] ==11)| (weather['Month'] ==12) ].index\n",
    "\n",
    "# Delete these row indexes from dataFrame\n",
    "weather.drop(invalidMonths , inplace=True)"
   ]
  },
  {
   "cell_type": "code",
   "execution_count": 9,
   "metadata": {},
   "outputs": [
    {
     "data": {
      "text/plain": "     Station Name   Date/Time  Year  Month  Day  Max Temp (°C)  Min Temp (°C)  \\\n91  OTTAWA INTL A  2020-04-01  2020      4    1            7.4           -2.6   \n92  OTTAWA INTL A  2020-04-02  2020      4    2           10.8           -1.4   \n93  OTTAWA INTL A  2020-04-03  2020      4    3           10.0            3.7   \n94  OTTAWA INTL A  2020-04-04  2020      4    4           14.3            2.3   \n95  OTTAWA INTL A  2020-04-05  2020      4    5           10.4           -0.2   \n\n    Total Precip (mm)  \n91                0.0  \n92                0.0  \n93                1.5  \n94                0.0  \n95                0.8  ",
      "text/html": "<div>\n<style scoped>\n    .dataframe tbody tr th:only-of-type {\n        vertical-align: middle;\n    }\n\n    .dataframe tbody tr th {\n        vertical-align: top;\n    }\n\n    .dataframe thead th {\n        text-align: right;\n    }\n</style>\n<table border=\"1\" class=\"dataframe\">\n  <thead>\n    <tr style=\"text-align: right;\">\n      <th></th>\n      <th>Station Name</th>\n      <th>Date/Time</th>\n      <th>Year</th>\n      <th>Month</th>\n      <th>Day</th>\n      <th>Max Temp (°C)</th>\n      <th>Min Temp (°C)</th>\n      <th>Total Precip (mm)</th>\n    </tr>\n  </thead>\n  <tbody>\n    <tr>\n      <th>91</th>\n      <td>OTTAWA INTL A</td>\n      <td>2020-04-01</td>\n      <td>2020</td>\n      <td>4</td>\n      <td>1</td>\n      <td>7.4</td>\n      <td>-2.6</td>\n      <td>0.0</td>\n    </tr>\n    <tr>\n      <th>92</th>\n      <td>OTTAWA INTL A</td>\n      <td>2020-04-02</td>\n      <td>2020</td>\n      <td>4</td>\n      <td>2</td>\n      <td>10.8</td>\n      <td>-1.4</td>\n      <td>0.0</td>\n    </tr>\n    <tr>\n      <th>93</th>\n      <td>OTTAWA INTL A</td>\n      <td>2020-04-03</td>\n      <td>2020</td>\n      <td>4</td>\n      <td>3</td>\n      <td>10.0</td>\n      <td>3.7</td>\n      <td>1.5</td>\n    </tr>\n    <tr>\n      <th>94</th>\n      <td>OTTAWA INTL A</td>\n      <td>2020-04-04</td>\n      <td>2020</td>\n      <td>4</td>\n      <td>4</td>\n      <td>14.3</td>\n      <td>2.3</td>\n      <td>0.0</td>\n    </tr>\n    <tr>\n      <th>95</th>\n      <td>OTTAWA INTL A</td>\n      <td>2020-04-05</td>\n      <td>2020</td>\n      <td>4</td>\n      <td>5</td>\n      <td>10.4</td>\n      <td>-0.2</td>\n      <td>0.8</td>\n    </tr>\n  </tbody>\n</table>\n</div>"
     },
     "execution_count": 9,
     "metadata": {},
     "output_type": "execute_result"
    }
   ],
   "source": [
    "weather.head()"
   ]
  },
  {
   "cell_type": "markdown",
   "metadata": {},
   "source": [
    "## Get number of rows and number of columns"
   ]
  },
  {
   "cell_type": "code",
   "execution_count": 10,
   "metadata": {},
   "outputs": [
    {
     "data": {
      "text/plain": "(244, 8)"
     },
     "execution_count": 10,
     "metadata": {},
     "output_type": "execute_result"
    }
   ],
   "source": [
    "weather.shape"
   ]
  },
  {
   "cell_type": "markdown",
   "metadata": {},
   "source": [
    "## Renaming columns to match DB "
   ]
  },
  {
   "cell_type": "code",
   "execution_count": 11,
   "metadata": {},
   "outputs": [
    {
     "data": {
      "text/plain": "                     city   Date/Time  Year  Month  Day  temp_high  temp_high  \\\nweather_id                                                                      \n91          OTTAWA INTL A  2020-04-01  2020      4    1        7.4       -2.6   \n92          OTTAWA INTL A  2020-04-02  2020      4    2       10.8       -1.4   \n93          OTTAWA INTL A  2020-04-03  2020      4    3       10.0        3.7   \n94          OTTAWA INTL A  2020-04-04  2020      4    4       14.3        2.3   \n95          OTTAWA INTL A  2020-04-05  2020      4    5       10.4       -0.2   \n...                   ...         ...   ...    ...  ...        ...        ...   \n574          TORONTO CITY  2020-07-27  2020      7   27       33.2       22.8   \n575          TORONTO CITY  2020-07-28  2020      7   28       31.6       19.6   \n576          TORONTO CITY  2020-07-29  2020      7   29       29.7       19.4   \n577          TORONTO CITY  2020-07-30  2020      7   30       28.5       18.2   \n578          TORONTO CITY  2020-07-31  2020      7   31       28.6       19.8   \n\n            precipitation  \nweather_id                 \n91                    0.0  \n92                    0.0  \n93                    1.5  \n94                    0.0  \n95                    0.8  \n...                   ...  \n574                   2.7  \n575                   0.8  \n576                   1.9  \n577                   0.9  \n578                   1.0  \n\n[244 rows x 8 columns]",
      "text/html": "<div>\n<style scoped>\n    .dataframe tbody tr th:only-of-type {\n        vertical-align: middle;\n    }\n\n    .dataframe tbody tr th {\n        vertical-align: top;\n    }\n\n    .dataframe thead th {\n        text-align: right;\n    }\n</style>\n<table border=\"1\" class=\"dataframe\">\n  <thead>\n    <tr style=\"text-align: right;\">\n      <th></th>\n      <th>city</th>\n      <th>Date/Time</th>\n      <th>Year</th>\n      <th>Month</th>\n      <th>Day</th>\n      <th>temp_high</th>\n      <th>temp_high</th>\n      <th>precipitation</th>\n    </tr>\n    <tr>\n      <th>weather_id</th>\n      <th></th>\n      <th></th>\n      <th></th>\n      <th></th>\n      <th></th>\n      <th></th>\n      <th></th>\n      <th></th>\n    </tr>\n  </thead>\n  <tbody>\n    <tr>\n      <th>91</th>\n      <td>OTTAWA INTL A</td>\n      <td>2020-04-01</td>\n      <td>2020</td>\n      <td>4</td>\n      <td>1</td>\n      <td>7.4</td>\n      <td>-2.6</td>\n      <td>0.0</td>\n    </tr>\n    <tr>\n      <th>92</th>\n      <td>OTTAWA INTL A</td>\n      <td>2020-04-02</td>\n      <td>2020</td>\n      <td>4</td>\n      <td>2</td>\n      <td>10.8</td>\n      <td>-1.4</td>\n      <td>0.0</td>\n    </tr>\n    <tr>\n      <th>93</th>\n      <td>OTTAWA INTL A</td>\n      <td>2020-04-03</td>\n      <td>2020</td>\n      <td>4</td>\n      <td>3</td>\n      <td>10.0</td>\n      <td>3.7</td>\n      <td>1.5</td>\n    </tr>\n    <tr>\n      <th>94</th>\n      <td>OTTAWA INTL A</td>\n      <td>2020-04-04</td>\n      <td>2020</td>\n      <td>4</td>\n      <td>4</td>\n      <td>14.3</td>\n      <td>2.3</td>\n      <td>0.0</td>\n    </tr>\n    <tr>\n      <th>95</th>\n      <td>OTTAWA INTL A</td>\n      <td>2020-04-05</td>\n      <td>2020</td>\n      <td>4</td>\n      <td>5</td>\n      <td>10.4</td>\n      <td>-0.2</td>\n      <td>0.8</td>\n    </tr>\n    <tr>\n      <th>...</th>\n      <td>...</td>\n      <td>...</td>\n      <td>...</td>\n      <td>...</td>\n      <td>...</td>\n      <td>...</td>\n      <td>...</td>\n      <td>...</td>\n    </tr>\n    <tr>\n      <th>574</th>\n      <td>TORONTO CITY</td>\n      <td>2020-07-27</td>\n      <td>2020</td>\n      <td>7</td>\n      <td>27</td>\n      <td>33.2</td>\n      <td>22.8</td>\n      <td>2.7</td>\n    </tr>\n    <tr>\n      <th>575</th>\n      <td>TORONTO CITY</td>\n      <td>2020-07-28</td>\n      <td>2020</td>\n      <td>7</td>\n      <td>28</td>\n      <td>31.6</td>\n      <td>19.6</td>\n      <td>0.8</td>\n    </tr>\n    <tr>\n      <th>576</th>\n      <td>TORONTO CITY</td>\n      <td>2020-07-29</td>\n      <td>2020</td>\n      <td>7</td>\n      <td>29</td>\n      <td>29.7</td>\n      <td>19.4</td>\n      <td>1.9</td>\n    </tr>\n    <tr>\n      <th>577</th>\n      <td>TORONTO CITY</td>\n      <td>2020-07-30</td>\n      <td>2020</td>\n      <td>7</td>\n      <td>30</td>\n      <td>28.5</td>\n      <td>18.2</td>\n      <td>0.9</td>\n    </tr>\n    <tr>\n      <th>578</th>\n      <td>TORONTO CITY</td>\n      <td>2020-07-31</td>\n      <td>2020</td>\n      <td>7</td>\n      <td>31</td>\n      <td>28.6</td>\n      <td>19.8</td>\n      <td>1.0</td>\n    </tr>\n  </tbody>\n</table>\n<p>244 rows × 8 columns</p>\n</div>"
     },
     "execution_count": 11,
     "metadata": {},
     "output_type": "execute_result"
    }
   ],
   "source": [
    "weather = weather.rename(columns = {\"Station Name\": \"city\", \n",
    "                                  \"Max Temp (°C)\":\"temp_high\", \n",
    "                                  \"Min Temp (°C)\": \"temp_high\",\n",
    "                                    \"Total Precip (mm)\":\"precipitation\",\n",
    "                                     })\n",
    "\n",
    "weather.rename_axis(\"weather_id\")"
   ]
  },
  {
   "cell_type": "markdown",
   "metadata": {},
   "source": [
    "## Save cleaned data to csv"
   ]
  },
  {
   "cell_type": "code",
   "execution_count": 12,
   "metadata": {},
   "outputs": [],
   "source": [
    "weather.to_csv(\"weather_dimension.csv\",index=True)"
   ]
  },
  {
   "cell_type": "code",
   "execution_count": 12,
   "metadata": {},
   "outputs": [],
   "source": []
  }
 ],
 "metadata": {
  "kernelspec": {
   "display_name": "Python 3",
   "language": "python",
   "name": "python3"
  },
  "language_info": {
   "codemirror_mode": {
    "name": "ipython",
    "version": 3
   },
   "file_extension": ".py",
   "mimetype": "text/x-python",
   "name": "python",
   "nbconvert_exporter": "python",
   "pygments_lexer": "ipython3",
   "version": "3.8.5"
  }
 },
 "nbformat": 4,
 "nbformat_minor": 4
}