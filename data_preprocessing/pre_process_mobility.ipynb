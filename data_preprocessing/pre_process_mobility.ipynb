{
 "cells": [
  {
   "cell_type": "markdown",
   "metadata": {},
   "source": [
    "## Importing Libraries"
   ]
  },
  {
   "cell_type": "code",
   "execution_count": 1,
   "metadata": {},
   "outputs": [],
   "source": [
    "import pandas as pd\n",
    "from datetime import datetime as dt"
   ]
  },
  {
   "cell_type": "markdown",
   "metadata": {},
   "source": [
    "## Import file"
   ]
  },
  {
   "cell_type": "code",
   "execution_count": 2,
   "metadata": {},
   "outputs": [],
   "source": [
    "custom_date_parser = lambda x: dt.strptime(x, \"%Y-%m-%d\")\n",
    "mobility = pd.read_csv(\"2020_CA_Region_Mobility_Report.csv\", parse_dates=['date'], date_parser=custom_date_parser)"
   ]
  },
  {
   "cell_type": "markdown",
   "metadata": {},
   "source": [
    "## Get first 5 rows"
   ]
  },
  {
   "cell_type": "code",
   "execution_count": 3,
   "metadata": {},
   "outputs": [
    {
     "data": {
      "text/plain": "  country_region_code country_region sub_region_1 sub_region_2  metro_area  \\\n0                  CA         Canada          NaN          NaN         NaN   \n1                  CA         Canada          NaN          NaN         NaN   \n2                  CA         Canada          NaN          NaN         NaN   \n3                  CA         Canada          NaN          NaN         NaN   \n4                  CA         Canada          NaN          NaN         NaN   \n\n  iso_3166_2_code       date  \\\n0             NaN 2020-02-15   \n1             NaN 2020-02-16   \n2             NaN 2020-02-17   \n3             NaN 2020-02-18   \n4             NaN 2020-02-19   \n\n   retail_and_recreation_percent_change_from_baseline  \\\n0                                                4.0    \n1                                               13.0    \n2                                              -12.0    \n3                                               -1.0    \n4                                                1.0    \n\n   grocery_and_pharmacy_percent_change_from_baseline  \\\n0                                                2.0   \n1                                                8.0   \n2                                              -15.0   \n3                                                4.0   \n4                                                1.0   \n\n   parks_percent_change_from_baseline  \\\n0                                10.0   \n1                                41.0   \n2                                63.0   \n3                                 6.0   \n4                                 9.0   \n\n   transit_stations_percent_change_from_baseline  \\\n0                                            3.0   \n1                                            4.0   \n2                                          -28.0   \n3                                           -1.0   \n4                                            0.0   \n\n   workplaces_percent_change_from_baseline  \\\n0                                      1.0   \n1                                      0.0   \n2                                    -52.0   \n3                                     -1.0   \n4                                      0.0   \n\n   residential_percent_change_from_baseline  \n0                                       0.0  \n1                                      -2.0  \n2                                      11.0  \n3                                       1.0  \n4                                       0.0  ",
      "text/html": "<div>\n<style scoped>\n    .dataframe tbody tr th:only-of-type {\n        vertical-align: middle;\n    }\n\n    .dataframe tbody tr th {\n        vertical-align: top;\n    }\n\n    .dataframe thead th {\n        text-align: right;\n    }\n</style>\n<table border=\"1\" class=\"dataframe\">\n  <thead>\n    <tr style=\"text-align: right;\">\n      <th></th>\n      <th>country_region_code</th>\n      <th>country_region</th>\n      <th>sub_region_1</th>\n      <th>sub_region_2</th>\n      <th>metro_area</th>\n      <th>iso_3166_2_code</th>\n      <th>date</th>\n      <th>retail_and_recreation_percent_change_from_baseline</th>\n      <th>grocery_and_pharmacy_percent_change_from_baseline</th>\n      <th>parks_percent_change_from_baseline</th>\n      <th>transit_stations_percent_change_from_baseline</th>\n      <th>workplaces_percent_change_from_baseline</th>\n      <th>residential_percent_change_from_baseline</th>\n    </tr>\n  </thead>\n  <tbody>\n    <tr>\n      <th>0</th>\n      <td>CA</td>\n      <td>Canada</td>\n      <td>NaN</td>\n      <td>NaN</td>\n      <td>NaN</td>\n      <td>NaN</td>\n      <td>2020-02-15</td>\n      <td>4.0</td>\n      <td>2.0</td>\n      <td>10.0</td>\n      <td>3.0</td>\n      <td>1.0</td>\n      <td>0.0</td>\n    </tr>\n    <tr>\n      <th>1</th>\n      <td>CA</td>\n      <td>Canada</td>\n      <td>NaN</td>\n      <td>NaN</td>\n      <td>NaN</td>\n      <td>NaN</td>\n      <td>2020-02-16</td>\n      <td>13.0</td>\n      <td>8.0</td>\n      <td>41.0</td>\n      <td>4.0</td>\n      <td>0.0</td>\n      <td>-2.0</td>\n    </tr>\n    <tr>\n      <th>2</th>\n      <td>CA</td>\n      <td>Canada</td>\n      <td>NaN</td>\n      <td>NaN</td>\n      <td>NaN</td>\n      <td>NaN</td>\n      <td>2020-02-17</td>\n      <td>-12.0</td>\n      <td>-15.0</td>\n      <td>63.0</td>\n      <td>-28.0</td>\n      <td>-52.0</td>\n      <td>11.0</td>\n    </tr>\n    <tr>\n      <th>3</th>\n      <td>CA</td>\n      <td>Canada</td>\n      <td>NaN</td>\n      <td>NaN</td>\n      <td>NaN</td>\n      <td>NaN</td>\n      <td>2020-02-18</td>\n      <td>-1.0</td>\n      <td>4.0</td>\n      <td>6.0</td>\n      <td>-1.0</td>\n      <td>-1.0</td>\n      <td>1.0</td>\n    </tr>\n    <tr>\n      <th>4</th>\n      <td>CA</td>\n      <td>Canada</td>\n      <td>NaN</td>\n      <td>NaN</td>\n      <td>NaN</td>\n      <td>NaN</td>\n      <td>2020-02-19</td>\n      <td>1.0</td>\n      <td>1.0</td>\n      <td>9.0</td>\n      <td>0.0</td>\n      <td>0.0</td>\n      <td>0.0</td>\n    </tr>\n  </tbody>\n</table>\n</div>"
     },
     "execution_count": 3,
     "metadata": {},
     "output_type": "execute_result"
    }
   ],
   "source": [
    "mobility.head()"
   ]
  },
  {
   "cell_type": "code",
   "execution_count": 4,
   "metadata": {},
   "outputs": [
    {
     "data": {
      "text/plain": "      country_region_code country_region sub_region_1 sub_region_2  \\\n87471                  CA         Canada        Yukon          NaN   \n87472                  CA         Canada        Yukon          NaN   \n87473                  CA         Canada        Yukon          NaN   \n87474                  CA         Canada        Yukon          NaN   \n87475                  CA         Canada        Yukon          NaN   \n\n       metro_area iso_3166_2_code       date  \\\n87471         NaN           CA-YT 2021-02-03   \n87472         NaN           CA-YT 2021-02-04   \n87473         NaN           CA-YT 2021-02-05   \n87474         NaN           CA-YT 2021-02-06   \n87475         NaN           CA-YT 2021-02-08   \n\n       retail_and_recreation_percent_change_from_baseline  \\\n87471                                              -37.0    \n87472                                              -35.0    \n87473                                              -37.0    \n87474                                              -42.0    \n87475                                              -47.0    \n\n       grocery_and_pharmacy_percent_change_from_baseline  \\\n87471                                                NaN   \n87472                                                NaN   \n87473                                                NaN   \n87474                                                NaN   \n87475                                                NaN   \n\n       parks_percent_change_from_baseline  \\\n87471                                 NaN   \n87472                                 NaN   \n87473                                 NaN   \n87474                                 NaN   \n87475                                 NaN   \n\n       transit_stations_percent_change_from_baseline  \\\n87471                                            NaN   \n87472                                            NaN   \n87473                                            NaN   \n87474                                            NaN   \n87475                                            NaN   \n\n       workplaces_percent_change_from_baseline  \\\n87471                                    -10.0   \n87472                                    -12.0   \n87473                                    -10.0   \n87474                                     -1.0   \n87475                                    -16.0   \n\n       residential_percent_change_from_baseline  \n87471                                       NaN  \n87472                                       NaN  \n87473                                       NaN  \n87474                                       NaN  \n87475                                       NaN  ",
      "text/html": "<div>\n<style scoped>\n    .dataframe tbody tr th:only-of-type {\n        vertical-align: middle;\n    }\n\n    .dataframe tbody tr th {\n        vertical-align: top;\n    }\n\n    .dataframe thead th {\n        text-align: right;\n    }\n</style>\n<table border=\"1\" class=\"dataframe\">\n  <thead>\n    <tr style=\"text-align: right;\">\n      <th></th>\n      <th>country_region_code</th>\n      <th>country_region</th>\n      <th>sub_region_1</th>\n      <th>sub_region_2</th>\n      <th>metro_area</th>\n      <th>iso_3166_2_code</th>\n      <th>date</th>\n      <th>retail_and_recreation_percent_change_from_baseline</th>\n      <th>grocery_and_pharmacy_percent_change_from_baseline</th>\n      <th>parks_percent_change_from_baseline</th>\n      <th>transit_stations_percent_change_from_baseline</th>\n      <th>workplaces_percent_change_from_baseline</th>\n      <th>residential_percent_change_from_baseline</th>\n    </tr>\n  </thead>\n  <tbody>\n    <tr>\n      <th>87471</th>\n      <td>CA</td>\n      <td>Canada</td>\n      <td>Yukon</td>\n      <td>NaN</td>\n      <td>NaN</td>\n      <td>CA-YT</td>\n      <td>2021-02-03</td>\n      <td>-37.0</td>\n      <td>NaN</td>\n      <td>NaN</td>\n      <td>NaN</td>\n      <td>-10.0</td>\n      <td>NaN</td>\n    </tr>\n    <tr>\n      <th>87472</th>\n      <td>CA</td>\n      <td>Canada</td>\n      <td>Yukon</td>\n      <td>NaN</td>\n      <td>NaN</td>\n      <td>CA-YT</td>\n      <td>2021-02-04</td>\n      <td>-35.0</td>\n      <td>NaN</td>\n      <td>NaN</td>\n      <td>NaN</td>\n      <td>-12.0</td>\n      <td>NaN</td>\n    </tr>\n    <tr>\n      <th>87473</th>\n      <td>CA</td>\n      <td>Canada</td>\n      <td>Yukon</td>\n      <td>NaN</td>\n      <td>NaN</td>\n      <td>CA-YT</td>\n      <td>2021-02-05</td>\n      <td>-37.0</td>\n      <td>NaN</td>\n      <td>NaN</td>\n      <td>NaN</td>\n      <td>-10.0</td>\n      <td>NaN</td>\n    </tr>\n    <tr>\n      <th>87474</th>\n      <td>CA</td>\n      <td>Canada</td>\n      <td>Yukon</td>\n      <td>NaN</td>\n      <td>NaN</td>\n      <td>CA-YT</td>\n      <td>2021-02-06</td>\n      <td>-42.0</td>\n      <td>NaN</td>\n      <td>NaN</td>\n      <td>NaN</td>\n      <td>-1.0</td>\n      <td>NaN</td>\n    </tr>\n    <tr>\n      <th>87475</th>\n      <td>CA</td>\n      <td>Canada</td>\n      <td>Yukon</td>\n      <td>NaN</td>\n      <td>NaN</td>\n      <td>CA-YT</td>\n      <td>2021-02-08</td>\n      <td>-47.0</td>\n      <td>NaN</td>\n      <td>NaN</td>\n      <td>NaN</td>\n      <td>-16.0</td>\n      <td>NaN</td>\n    </tr>\n  </tbody>\n</table>\n</div>"
     },
     "execution_count": 4,
     "metadata": {},
     "output_type": "execute_result"
    }
   ],
   "source": [
    "mobility.tail()"
   ]
  },
  {
   "cell_type": "markdown",
   "metadata": {},
   "source": [
    "## Get number of rows and number of columns"
   ]
  },
  {
   "cell_type": "code",
   "execution_count": 5,
   "metadata": {},
   "outputs": [
    {
     "data": {
      "text/plain": "(87476, 13)"
     },
     "execution_count": 5,
     "metadata": {},
     "output_type": "execute_result"
    }
   ],
   "source": [
    "mobility.shape"
   ]
  },
  {
   "cell_type": "markdown",
   "metadata": {},
   "source": [
    "## Get indexes where name column doesn't have value Ontario\n",
    "### Delete these row indexes from dataFrame"
   ]
  },
  {
   "cell_type": "code",
   "execution_count": 6,
   "metadata": {},
   "outputs": [
    {
     "data": {
      "text/plain": "(17837, 13)"
     },
     "execution_count": 6,
     "metadata": {},
     "output_type": "execute_result"
    }
   ],
   "source": [
    "indexNames = mobility[(mobility['sub_region_1'] != 'Ontario')].index\n",
    "mobility.drop(indexNames , inplace=True)\n",
    "mobility.shape"
   ]
  },
  {
   "cell_type": "code",
   "execution_count": 7,
   "metadata": {},
   "outputs": [
    {
     "data": {
      "text/plain": "      country_region_code country_region sub_region_1 sub_region_2  \\\n33685                  CA         Canada      Ontario          NaN   \n33686                  CA         Canada      Ontario          NaN   \n33687                  CA         Canada      Ontario          NaN   \n33688                  CA         Canada      Ontario          NaN   \n33689                  CA         Canada      Ontario          NaN   \n\n       metro_area iso_3166_2_code       date  \\\n33685         NaN           CA-ON 2020-02-15   \n33686         NaN           CA-ON 2020-02-16   \n33687         NaN           CA-ON 2020-02-17   \n33688         NaN           CA-ON 2020-02-18   \n33689         NaN           CA-ON 2020-02-19   \n\n       retail_and_recreation_percent_change_from_baseline  \\\n33685                                                2.0    \n33686                                               16.0    \n33687                                              -26.0    \n33688                                               -1.0    \n33689                                                0.0    \n\n       grocery_and_pharmacy_percent_change_from_baseline  \\\n33685                                                3.0   \n33686                                               13.0   \n33687                                              -37.0   \n33688                                               12.0   \n33689                                                4.0   \n\n       parks_percent_change_from_baseline  \\\n33685                                20.0   \n33686                                44.0   \n33687                                70.0   \n33688                                -5.0   \n33689                                -4.0   \n\n       transit_stations_percent_change_from_baseline  \\\n33685                                            5.0   \n33686                                            5.0   \n33687                                          -40.0   \n33688                                            2.0   \n33689                                           -2.0   \n\n       workplaces_percent_change_from_baseline  \\\n33685                                      1.0   \n33686                                     -2.0   \n33687                                    -72.0   \n33688                                      0.0   \n33689                                      1.0   \n\n       residential_percent_change_from_baseline  \n33685                                      -1.0  \n33686                                      -2.0  \n33687                                      16.0  \n33688                                       1.0  \n33689                                       0.0  ",
      "text/html": "<div>\n<style scoped>\n    .dataframe tbody tr th:only-of-type {\n        vertical-align: middle;\n    }\n\n    .dataframe tbody tr th {\n        vertical-align: top;\n    }\n\n    .dataframe thead th {\n        text-align: right;\n    }\n</style>\n<table border=\"1\" class=\"dataframe\">\n  <thead>\n    <tr style=\"text-align: right;\">\n      <th></th>\n      <th>country_region_code</th>\n      <th>country_region</th>\n      <th>sub_region_1</th>\n      <th>sub_region_2</th>\n      <th>metro_area</th>\n      <th>iso_3166_2_code</th>\n      <th>date</th>\n      <th>retail_and_recreation_percent_change_from_baseline</th>\n      <th>grocery_and_pharmacy_percent_change_from_baseline</th>\n      <th>parks_percent_change_from_baseline</th>\n      <th>transit_stations_percent_change_from_baseline</th>\n      <th>workplaces_percent_change_from_baseline</th>\n      <th>residential_percent_change_from_baseline</th>\n    </tr>\n  </thead>\n  <tbody>\n    <tr>\n      <th>33685</th>\n      <td>CA</td>\n      <td>Canada</td>\n      <td>Ontario</td>\n      <td>NaN</td>\n      <td>NaN</td>\n      <td>CA-ON</td>\n      <td>2020-02-15</td>\n      <td>2.0</td>\n      <td>3.0</td>\n      <td>20.0</td>\n      <td>5.0</td>\n      <td>1.0</td>\n      <td>-1.0</td>\n    </tr>\n    <tr>\n      <th>33686</th>\n      <td>CA</td>\n      <td>Canada</td>\n      <td>Ontario</td>\n      <td>NaN</td>\n      <td>NaN</td>\n      <td>CA-ON</td>\n      <td>2020-02-16</td>\n      <td>16.0</td>\n      <td>13.0</td>\n      <td>44.0</td>\n      <td>5.0</td>\n      <td>-2.0</td>\n      <td>-2.0</td>\n    </tr>\n    <tr>\n      <th>33687</th>\n      <td>CA</td>\n      <td>Canada</td>\n      <td>Ontario</td>\n      <td>NaN</td>\n      <td>NaN</td>\n      <td>CA-ON</td>\n      <td>2020-02-17</td>\n      <td>-26.0</td>\n      <td>-37.0</td>\n      <td>70.0</td>\n      <td>-40.0</td>\n      <td>-72.0</td>\n      <td>16.0</td>\n    </tr>\n    <tr>\n      <th>33688</th>\n      <td>CA</td>\n      <td>Canada</td>\n      <td>Ontario</td>\n      <td>NaN</td>\n      <td>NaN</td>\n      <td>CA-ON</td>\n      <td>2020-02-18</td>\n      <td>-1.0</td>\n      <td>12.0</td>\n      <td>-5.0</td>\n      <td>2.0</td>\n      <td>0.0</td>\n      <td>1.0</td>\n    </tr>\n    <tr>\n      <th>33689</th>\n      <td>CA</td>\n      <td>Canada</td>\n      <td>Ontario</td>\n      <td>NaN</td>\n      <td>NaN</td>\n      <td>CA-ON</td>\n      <td>2020-02-19</td>\n      <td>0.0</td>\n      <td>4.0</td>\n      <td>-4.0</td>\n      <td>-2.0</td>\n      <td>1.0</td>\n      <td>0.0</td>\n    </tr>\n  </tbody>\n</table>\n</div>"
     },
     "execution_count": 7,
     "metadata": {},
     "output_type": "execute_result"
    }
   ],
   "source": [
    "mobility.head()"
   ]
  },
  {
   "cell_type": "markdown",
   "metadata": {},
   "source": [
    "# Remove all cities except Ottawa and Toronto"
   ]
  },
  {
   "cell_type": "code",
   "execution_count": 8,
   "metadata": {},
   "outputs": [
    {
     "data": {
      "text/plain": "(720, 13)"
     },
     "execution_count": 8,
     "metadata": {},
     "output_type": "execute_result"
    }
   ],
   "source": [
    "indexNames = mobility[(mobility['sub_region_2'] != 'Ottawa Division') & (mobility['sub_region_2'] != 'Toronto Division')].index\n",
    "mobility.drop(indexNames , inplace=True)\n",
    "mobility.shape"
   ]
  },
  {
   "cell_type": "code",
   "execution_count": 9,
   "metadata": {},
   "outputs": [
    {
     "data": {
      "text/plain": "      country_region_code country_region sub_region_1     sub_region_2  \\\n44100                  CA         Canada      Ontario  Ottawa Division   \n44101                  CA         Canada      Ontario  Ottawa Division   \n44102                  CA         Canada      Ontario  Ottawa Division   \n44103                  CA         Canada      Ontario  Ottawa Division   \n44104                  CA         Canada      Ontario  Ottawa Division   \n\n       metro_area iso_3166_2_code       date  \\\n44100         NaN             NaN 2020-02-15   \n44101         NaN             NaN 2020-02-16   \n44102         NaN             NaN 2020-02-17   \n44103         NaN             NaN 2020-02-18   \n44104         NaN             NaN 2020-02-19   \n\n       retail_and_recreation_percent_change_from_baseline  \\\n44100                                               13.0    \n44101                                               30.0    \n44102                                              -30.0    \n44103                                               -5.0    \n44104                                                0.0    \n\n       grocery_and_pharmacy_percent_change_from_baseline  \\\n44100                                                6.0   \n44101                                               26.0   \n44102                                              -53.0   \n44103                                                9.0   \n44104                                                6.0   \n\n       parks_percent_change_from_baseline  \\\n44100                                68.0   \n44101                               128.0   \n44102                                52.0   \n44103                                -8.0   \n44104                                -8.0   \n\n       transit_stations_percent_change_from_baseline  \\\n44100                                            3.0   \n44101                                            3.0   \n44102                                          -40.0   \n44103                                           -6.0   \n44104                                           -8.0   \n\n       workplaces_percent_change_from_baseline  \\\n44100                                      1.0   \n44101                                      4.0   \n44102                                    -62.0   \n44103                                     -2.0   \n44104                                      1.0   \n\n       residential_percent_change_from_baseline  \n44100                                      -2.0  \n44101                                      -4.0  \n44102                                      14.0  \n44103                                       1.0  \n44104                                       0.0  ",
      "text/html": "<div>\n<style scoped>\n    .dataframe tbody tr th:only-of-type {\n        vertical-align: middle;\n    }\n\n    .dataframe tbody tr th {\n        vertical-align: top;\n    }\n\n    .dataframe thead th {\n        text-align: right;\n    }\n</style>\n<table border=\"1\" class=\"dataframe\">\n  <thead>\n    <tr style=\"text-align: right;\">\n      <th></th>\n      <th>country_region_code</th>\n      <th>country_region</th>\n      <th>sub_region_1</th>\n      <th>sub_region_2</th>\n      <th>metro_area</th>\n      <th>iso_3166_2_code</th>\n      <th>date</th>\n      <th>retail_and_recreation_percent_change_from_baseline</th>\n      <th>grocery_and_pharmacy_percent_change_from_baseline</th>\n      <th>parks_percent_change_from_baseline</th>\n      <th>transit_stations_percent_change_from_baseline</th>\n      <th>workplaces_percent_change_from_baseline</th>\n      <th>residential_percent_change_from_baseline</th>\n    </tr>\n  </thead>\n  <tbody>\n    <tr>\n      <th>44100</th>\n      <td>CA</td>\n      <td>Canada</td>\n      <td>Ontario</td>\n      <td>Ottawa Division</td>\n      <td>NaN</td>\n      <td>NaN</td>\n      <td>2020-02-15</td>\n      <td>13.0</td>\n      <td>6.0</td>\n      <td>68.0</td>\n      <td>3.0</td>\n      <td>1.0</td>\n      <td>-2.0</td>\n    </tr>\n    <tr>\n      <th>44101</th>\n      <td>CA</td>\n      <td>Canada</td>\n      <td>Ontario</td>\n      <td>Ottawa Division</td>\n      <td>NaN</td>\n      <td>NaN</td>\n      <td>2020-02-16</td>\n      <td>30.0</td>\n      <td>26.0</td>\n      <td>128.0</td>\n      <td>3.0</td>\n      <td>4.0</td>\n      <td>-4.0</td>\n    </tr>\n    <tr>\n      <th>44102</th>\n      <td>CA</td>\n      <td>Canada</td>\n      <td>Ontario</td>\n      <td>Ottawa Division</td>\n      <td>NaN</td>\n      <td>NaN</td>\n      <td>2020-02-17</td>\n      <td>-30.0</td>\n      <td>-53.0</td>\n      <td>52.0</td>\n      <td>-40.0</td>\n      <td>-62.0</td>\n      <td>14.0</td>\n    </tr>\n    <tr>\n      <th>44103</th>\n      <td>CA</td>\n      <td>Canada</td>\n      <td>Ontario</td>\n      <td>Ottawa Division</td>\n      <td>NaN</td>\n      <td>NaN</td>\n      <td>2020-02-18</td>\n      <td>-5.0</td>\n      <td>9.0</td>\n      <td>-8.0</td>\n      <td>-6.0</td>\n      <td>-2.0</td>\n      <td>1.0</td>\n    </tr>\n    <tr>\n      <th>44104</th>\n      <td>CA</td>\n      <td>Canada</td>\n      <td>Ontario</td>\n      <td>Ottawa Division</td>\n      <td>NaN</td>\n      <td>NaN</td>\n      <td>2020-02-19</td>\n      <td>0.0</td>\n      <td>6.0</td>\n      <td>-8.0</td>\n      <td>-8.0</td>\n      <td>1.0</td>\n      <td>0.0</td>\n    </tr>\n  </tbody>\n</table>\n</div>"
     },
     "execution_count": 9,
     "metadata": {},
     "output_type": "execute_result"
    }
   ],
   "source": [
    "mobility.head()"
   ]
  },
  {
   "cell_type": "code",
   "execution_count": 10,
   "metadata": {},
   "outputs": [
    {
     "data": {
      "text/plain": "      country_region_code country_region sub_region_1      sub_region_2  \\\n50797                  CA         Canada      Ontario  Toronto Division   \n50798                  CA         Canada      Ontario  Toronto Division   \n50799                  CA         Canada      Ontario  Toronto Division   \n50800                  CA         Canada      Ontario  Toronto Division   \n50801                  CA         Canada      Ontario  Toronto Division   \n\n       metro_area iso_3166_2_code       date  \\\n50797         NaN             NaN 2021-02-04   \n50798         NaN             NaN 2021-02-05   \n50799         NaN             NaN 2021-02-06   \n50800         NaN             NaN 2021-02-07   \n50801         NaN             NaN 2021-02-08   \n\n       retail_and_recreation_percent_change_from_baseline  \\\n50797                                              -54.0    \n50798                                              -58.0    \n50799                                              -55.0    \n50800                                              -56.0    \n50801                                              -58.0    \n\n       grocery_and_pharmacy_percent_change_from_baseline  \\\n50797                                              -17.0   \n50798                                              -27.0   \n50799                                              -19.0   \n50800                                              -25.0   \n50801                                              -27.0   \n\n       parks_percent_change_from_baseline  \\\n50797                                -2.0   \n50798                               -42.0   \n50799                               -22.0   \n50800                               -10.0   \n50801                               -34.0   \n\n       transit_stations_percent_change_from_baseline  \\\n50797                                          -69.0   \n50798                                          -70.0   \n50799                                          -63.0   \n50800                                          -63.0   \n50801                                          -70.0   \n\n       workplaces_percent_change_from_baseline  \\\n50797                                    -55.0   \n50798                                    -55.0   \n50799                                    -23.0   \n50800                                    -27.0   \n50801                                    -57.0   \n\n       residential_percent_change_from_baseline  \n50797                                      23.0  \n50798                                      25.0  \n50799                                      14.0  \n50800                                      11.0  \n50801                                      23.0  ",
      "text/html": "<div>\n<style scoped>\n    .dataframe tbody tr th:only-of-type {\n        vertical-align: middle;\n    }\n\n    .dataframe tbody tr th {\n        vertical-align: top;\n    }\n\n    .dataframe thead th {\n        text-align: right;\n    }\n</style>\n<table border=\"1\" class=\"dataframe\">\n  <thead>\n    <tr style=\"text-align: right;\">\n      <th></th>\n      <th>country_region_code</th>\n      <th>country_region</th>\n      <th>sub_region_1</th>\n      <th>sub_region_2</th>\n      <th>metro_area</th>\n      <th>iso_3166_2_code</th>\n      <th>date</th>\n      <th>retail_and_recreation_percent_change_from_baseline</th>\n      <th>grocery_and_pharmacy_percent_change_from_baseline</th>\n      <th>parks_percent_change_from_baseline</th>\n      <th>transit_stations_percent_change_from_baseline</th>\n      <th>workplaces_percent_change_from_baseline</th>\n      <th>residential_percent_change_from_baseline</th>\n    </tr>\n  </thead>\n  <tbody>\n    <tr>\n      <th>50797</th>\n      <td>CA</td>\n      <td>Canada</td>\n      <td>Ontario</td>\n      <td>Toronto Division</td>\n      <td>NaN</td>\n      <td>NaN</td>\n      <td>2021-02-04</td>\n      <td>-54.0</td>\n      <td>-17.0</td>\n      <td>-2.0</td>\n      <td>-69.0</td>\n      <td>-55.0</td>\n      <td>23.0</td>\n    </tr>\n    <tr>\n      <th>50798</th>\n      <td>CA</td>\n      <td>Canada</td>\n      <td>Ontario</td>\n      <td>Toronto Division</td>\n      <td>NaN</td>\n      <td>NaN</td>\n      <td>2021-02-05</td>\n      <td>-58.0</td>\n      <td>-27.0</td>\n      <td>-42.0</td>\n      <td>-70.0</td>\n      <td>-55.0</td>\n      <td>25.0</td>\n    </tr>\n    <tr>\n      <th>50799</th>\n      <td>CA</td>\n      <td>Canada</td>\n      <td>Ontario</td>\n      <td>Toronto Division</td>\n      <td>NaN</td>\n      <td>NaN</td>\n      <td>2021-02-06</td>\n      <td>-55.0</td>\n      <td>-19.0</td>\n      <td>-22.0</td>\n      <td>-63.0</td>\n      <td>-23.0</td>\n      <td>14.0</td>\n    </tr>\n    <tr>\n      <th>50800</th>\n      <td>CA</td>\n      <td>Canada</td>\n      <td>Ontario</td>\n      <td>Toronto Division</td>\n      <td>NaN</td>\n      <td>NaN</td>\n      <td>2021-02-07</td>\n      <td>-56.0</td>\n      <td>-25.0</td>\n      <td>-10.0</td>\n      <td>-63.0</td>\n      <td>-27.0</td>\n      <td>11.0</td>\n    </tr>\n    <tr>\n      <th>50801</th>\n      <td>CA</td>\n      <td>Canada</td>\n      <td>Ontario</td>\n      <td>Toronto Division</td>\n      <td>NaN</td>\n      <td>NaN</td>\n      <td>2021-02-08</td>\n      <td>-58.0</td>\n      <td>-27.0</td>\n      <td>-34.0</td>\n      <td>-70.0</td>\n      <td>-57.0</td>\n      <td>23.0</td>\n    </tr>\n  </tbody>\n</table>\n</div>"
     },
     "execution_count": 10,
     "metadata": {},
     "output_type": "execute_result"
    }
   ],
   "source": [
    "mobility.tail()"
   ]
  },
  {
   "cell_type": "markdown",
   "metadata": {},
   "source": [
    "## Remove unneeded columns"
   ]
  },
  {
   "cell_type": "code",
   "execution_count": 11,
   "metadata": {},
   "outputs": [],
   "source": [
    "mobility = mobility.drop([\"country_region_code\",\"country_region\",\"metro_area\", \"iso_3166_2_code\"], axis=1)"
   ]
  },
  {
   "cell_type": "markdown",
   "metadata": {},
   "source": [
    "## Keep dates from April to July only"
   ]
  },
  {
   "cell_type": "code",
   "execution_count": 12,
   "metadata": {},
   "outputs": [],
   "source": [
    "mobility = mobility[(mobility['date'] >= \"2020-04-01\") & (mobility['date'] <= \"2020-07-31\")]"
   ]
  },
  {
   "cell_type": "code",
   "execution_count": 13,
   "metadata": {},
   "outputs": [
    {
     "data": {
      "text/plain": "(244, 9)"
     },
     "execution_count": 13,
     "metadata": {},
     "output_type": "execute_result"
    }
   ],
   "source": [
    "mobility.shape"
   ]
  },
  {
   "cell_type": "markdown",
   "metadata": {},
   "source": [
    "## Renaming columns to match DB "
   ]
  },
  {
   "cell_type": "code",
   "execution_count": 14,
   "metadata": {},
   "outputs": [],
   "source": [
    "\n",
    "mobility = mobility.rename(columns = {\"sub_region_1\": \"sub_region\", \n",
    "                                  \"sub_region_2\":\"metro_area\", \n",
    "                                  \"retail_and_recreation_percent_change_from_baseline\": \"retail_and_rec\",\n",
    "                                      \"grocery_and_pharmacy_percent_change_from_baseline\":\"grocery_and_pharma\",\n",
    "                                      \"parks_percent_change_from_baseline\":\"parks\",\n",
    "                                      \"transit_stations_percent_change_from_baseline\":\"transit_stations\",\n",
    "                                      \"workplaces_percent_change_from_baseline\":\"workplaces\",\n",
    "                                      \"residential_percent_change_from_baseline\":\"residential\"\n",
    "                                     })\n",
    "\n",
    "mobility = mobility.rename_axis(\"mobility_id\")"
   ]
  },
  {
   "cell_type": "markdown",
   "metadata": {},
   "source": [
    "## View head"
   ]
  },
  {
   "cell_type": "code",
   "execution_count": 15,
   "metadata": {},
   "outputs": [
    {
     "data": {
      "text/plain": "            sub_region       metro_area       date  retail_and_rec  \\\nmobility_id                                                          \n44146          Ontario  Ottawa Division 2020-04-01           -58.0   \n44147          Ontario  Ottawa Division 2020-04-02           -58.0   \n44148          Ontario  Ottawa Division 2020-04-03           -63.0   \n44149          Ontario  Ottawa Division 2020-04-04           -60.0   \n44150          Ontario  Ottawa Division 2020-04-05           -63.0   \n\n             grocery_and_pharma  parks  transit_stations  workplaces  \\\nmobility_id                                                            \n44146                     -31.0  -28.0             -72.0       -73.0   \n44147                     -30.0  -25.0             -74.0       -74.0   \n44148                     -33.0  -44.0             -75.0       -73.0   \n44149                     -34.0   12.0             -59.0       -48.0   \n44150                     -38.0  -21.0             -70.0       -48.0   \n\n             residential  \nmobility_id               \n44146               28.0  \n44147               29.0  \n44148               31.0  \n44149               14.0  \n44150               13.0  ",
      "text/html": "<div>\n<style scoped>\n    .dataframe tbody tr th:only-of-type {\n        vertical-align: middle;\n    }\n\n    .dataframe tbody tr th {\n        vertical-align: top;\n    }\n\n    .dataframe thead th {\n        text-align: right;\n    }\n</style>\n<table border=\"1\" class=\"dataframe\">\n  <thead>\n    <tr style=\"text-align: right;\">\n      <th></th>\n      <th>sub_region</th>\n      <th>metro_area</th>\n      <th>date</th>\n      <th>retail_and_rec</th>\n      <th>grocery_and_pharma</th>\n      <th>parks</th>\n      <th>transit_stations</th>\n      <th>workplaces</th>\n      <th>residential</th>\n    </tr>\n    <tr>\n      <th>mobility_id</th>\n      <th></th>\n      <th></th>\n      <th></th>\n      <th></th>\n      <th></th>\n      <th></th>\n      <th></th>\n      <th></th>\n      <th></th>\n    </tr>\n  </thead>\n  <tbody>\n    <tr>\n      <th>44146</th>\n      <td>Ontario</td>\n      <td>Ottawa Division</td>\n      <td>2020-04-01</td>\n      <td>-58.0</td>\n      <td>-31.0</td>\n      <td>-28.0</td>\n      <td>-72.0</td>\n      <td>-73.0</td>\n      <td>28.0</td>\n    </tr>\n    <tr>\n      <th>44147</th>\n      <td>Ontario</td>\n      <td>Ottawa Division</td>\n      <td>2020-04-02</td>\n      <td>-58.0</td>\n      <td>-30.0</td>\n      <td>-25.0</td>\n      <td>-74.0</td>\n      <td>-74.0</td>\n      <td>29.0</td>\n    </tr>\n    <tr>\n      <th>44148</th>\n      <td>Ontario</td>\n      <td>Ottawa Division</td>\n      <td>2020-04-03</td>\n      <td>-63.0</td>\n      <td>-33.0</td>\n      <td>-44.0</td>\n      <td>-75.0</td>\n      <td>-73.0</td>\n      <td>31.0</td>\n    </tr>\n    <tr>\n      <th>44149</th>\n      <td>Ontario</td>\n      <td>Ottawa Division</td>\n      <td>2020-04-04</td>\n      <td>-60.0</td>\n      <td>-34.0</td>\n      <td>12.0</td>\n      <td>-59.0</td>\n      <td>-48.0</td>\n      <td>14.0</td>\n    </tr>\n    <tr>\n      <th>44150</th>\n      <td>Ontario</td>\n      <td>Ottawa Division</td>\n      <td>2020-04-05</td>\n      <td>-63.0</td>\n      <td>-38.0</td>\n      <td>-21.0</td>\n      <td>-70.0</td>\n      <td>-48.0</td>\n      <td>13.0</td>\n    </tr>\n  </tbody>\n</table>\n</div>"
     },
     "execution_count": 15,
     "metadata": {},
     "output_type": "execute_result"
    }
   ],
   "source": [
    "mobility.head()"
   ]
  },
  {
   "cell_type": "markdown",
   "metadata": {},
   "source": [
    "## Save cleaned data to csv"
   ]
  },
  {
   "cell_type": "code",
   "execution_count": 16,
   "metadata": {},
   "outputs": [],
   "source": [
    "mobility.to_csv(\"mobility_dimension.csv\",index=True)"
   ]
  }
 ],
 "metadata": {
  "kernelspec": {
   "display_name": "Python 3",
   "language": "python",
   "name": "python3"
  },
  "language_info": {
   "codemirror_mode": {
    "name": "ipython",
    "version": 3
   },
   "file_extension": ".py",
   "mimetype": "text/x-python",
   "name": "python",
   "nbconvert_exporter": "python",
   "pygments_lexer": "ipython3",
   "version": "3.8.5"
  }
 },
 "nbformat": 4,
 "nbformat_minor": 4
}